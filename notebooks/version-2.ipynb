{
 "cells": [
  {
   "cell_type": "markdown",
   "id": "eb5d64d4-ce0e-4400-a2be-bdb14249530b",
   "metadata": {},
   "source": [
    "# IMPORT LIBARY"
   ]
  },
  {
   "cell_type": "code",
   "execution_count": 961,
   "id": "f7d39984-cfd6-4bf5-841e-bb3bb0194671",
   "metadata": {},
   "outputs": [],
   "source": [
    "import numpy as np \n",
    "import pandas as pd \n",
    "import os\n",
    "import matplotlib.pyplot as plt\n",
    "import seaborn as sns\n",
    "import re\n",
    "from sklearn.cluster import KMeans\n",
    "from sklearn.preprocessing import StandardScaler\n",
    "\n",
    "from sklearn.model_selection import KFold\n",
    "from sklearn.model_selection import cross_val_score\n",
    "from sklearn.model_selection import GridSearchCV\n",
    "\n",
    "from sklearn.linear_model import LogisticRegression\n",
    "from sklearn.ensemble import RandomForestClassifier\n",
    "from sklearn.linear_model import Perceptron\n",
    "from sklearn.linear_model import SGDClassifier\n",
    "from sklearn.tree import DecisionTreeClassifier\n",
    "from sklearn.neighbors import KNeighborsClassifier\n",
    "from sklearn.svm import SVC, LinearSVC\n",
    "from sklearn.naive_bayes import GaussianNB\n",
    "from sklearn.ensemble import BaggingClassifier\n",
    "from sklearn.model_selection import StratifiedKFold\n",
    "from sklearn.ensemble import GradientBoostingClassifier\n",
    "from xgboost import XGBClassifier\n",
    "from sklearn.ensemble import HistGradientBoostingClassifier\n",
    "from lightgbm import LGBMClassifier\n",
    "from sklearn.ensemble import AdaBoostClassifier\n",
    "from sklearn.ensemble import ExtraTreesClassifier\n",
    "from sklearn.linear_model import RidgeClassifier\n",
    "import warnings\n",
    "warnings.filterwarnings('ignore')"
   ]
  },
  {
   "cell_type": "markdown",
   "id": "88f99b34-6c7e-42a8-baa4-722ce7be191e",
   "metadata": {},
   "source": [
    "# DATA UNDERSTANDING"
   ]
  },
  {
   "cell_type": "code",
   "execution_count": 962,
   "id": "28ba7a26-909f-4d69-81e8-1ac86c58a478",
   "metadata": {},
   "outputs": [
    {
     "name": "stdout",
     "output_type": "stream",
     "text": [
      "/project/data/.DS_Store\n",
      "/project/data/gender_submission.csv\n",
      "/project/data/test.csv\n",
      "/project/data/train.csv\n",
      "/project/data/.ipynb_checkpoints/dataset-checkpoint.txt\n"
     ]
    }
   ],
   "source": [
    "import os\n",
    "for dirname, _, filenames in os.walk('/project/data'):\n",
    "    for filename in filenames:\n",
    "        print(os.path.join(dirname, filename))"
   ]
  },
  {
   "cell_type": "code",
   "execution_count": 963,
   "id": "156b7f6d-6031-4a24-a000-aef722ec4e64",
   "metadata": {},
   "outputs": [],
   "source": [
    "train = pd.read_csv('/project/data/train.csv')\n",
    "test = pd.read_csv('/project/data/test.csv')"
   ]
  },
  {
   "cell_type": "code",
   "execution_count": 964,
   "id": "48084dea-831b-4f48-a7d7-5ee52d380034",
   "metadata": {},
   "outputs": [
    {
     "name": "stdout",
     "output_type": "stream",
     "text": [
      "<class 'pandas.core.frame.DataFrame'>\n",
      "RangeIndex: 891 entries, 0 to 890\n",
      "Data columns (total 12 columns):\n",
      " #   Column       Non-Null Count  Dtype  \n",
      "---  ------       --------------  -----  \n",
      " 0   PassengerId  891 non-null    int64  \n",
      " 1   Survived     891 non-null    int64  \n",
      " 2   Pclass       891 non-null    int64  \n",
      " 3   Name         891 non-null    object \n",
      " 4   Sex          891 non-null    object \n",
      " 5   Age          714 non-null    float64\n",
      " 6   SibSp        891 non-null    int64  \n",
      " 7   Parch        891 non-null    int64  \n",
      " 8   Ticket       891 non-null    object \n",
      " 9   Fare         891 non-null    float64\n",
      " 10  Cabin        204 non-null    object \n",
      " 11  Embarked     889 non-null    object \n",
      "dtypes: float64(2), int64(5), object(5)\n",
      "memory usage: 83.7+ KB\n"
     ]
    }
   ],
   "source": [
    "train.info()"
   ]
  },
  {
   "cell_type": "code",
   "execution_count": 965,
   "id": "7d9e4d07-5d1a-4751-80d1-b7218a449c58",
   "metadata": {},
   "outputs": [
    {
     "data": {
      "text/html": [
       "<div>\n",
       "<style scoped>\n",
       "    .dataframe tbody tr th:only-of-type {\n",
       "        vertical-align: middle;\n",
       "    }\n",
       "\n",
       "    .dataframe tbody tr th {\n",
       "        vertical-align: top;\n",
       "    }\n",
       "\n",
       "    .dataframe thead th {\n",
       "        text-align: right;\n",
       "    }\n",
       "</style>\n",
       "<table border=\"1\" class=\"dataframe\">\n",
       "  <thead>\n",
       "    <tr style=\"text-align: right;\">\n",
       "      <th></th>\n",
       "      <th>PassengerId</th>\n",
       "      <th>Survived</th>\n",
       "      <th>Pclass</th>\n",
       "      <th>Name</th>\n",
       "      <th>Sex</th>\n",
       "      <th>Age</th>\n",
       "      <th>SibSp</th>\n",
       "      <th>Parch</th>\n",
       "      <th>Ticket</th>\n",
       "      <th>Fare</th>\n",
       "      <th>Cabin</th>\n",
       "      <th>Embarked</th>\n",
       "    </tr>\n",
       "  </thead>\n",
       "  <tbody>\n",
       "    <tr>\n",
       "      <th>0</th>\n",
       "      <td>1</td>\n",
       "      <td>0</td>\n",
       "      <td>3</td>\n",
       "      <td>Braund, Mr. Owen Harris</td>\n",
       "      <td>male</td>\n",
       "      <td>22.0</td>\n",
       "      <td>1</td>\n",
       "      <td>0</td>\n",
       "      <td>A/5 21171</td>\n",
       "      <td>7.2500</td>\n",
       "      <td>NaN</td>\n",
       "      <td>S</td>\n",
       "    </tr>\n",
       "    <tr>\n",
       "      <th>1</th>\n",
       "      <td>2</td>\n",
       "      <td>1</td>\n",
       "      <td>1</td>\n",
       "      <td>Cumings, Mrs. John Bradley (Florence Briggs Th...</td>\n",
       "      <td>female</td>\n",
       "      <td>38.0</td>\n",
       "      <td>1</td>\n",
       "      <td>0</td>\n",
       "      <td>PC 17599</td>\n",
       "      <td>71.2833</td>\n",
       "      <td>C85</td>\n",
       "      <td>C</td>\n",
       "    </tr>\n",
       "    <tr>\n",
       "      <th>2</th>\n",
       "      <td>3</td>\n",
       "      <td>1</td>\n",
       "      <td>3</td>\n",
       "      <td>Heikkinen, Miss. Laina</td>\n",
       "      <td>female</td>\n",
       "      <td>26.0</td>\n",
       "      <td>0</td>\n",
       "      <td>0</td>\n",
       "      <td>STON/O2. 3101282</td>\n",
       "      <td>7.9250</td>\n",
       "      <td>NaN</td>\n",
       "      <td>S</td>\n",
       "    </tr>\n",
       "    <tr>\n",
       "      <th>3</th>\n",
       "      <td>4</td>\n",
       "      <td>1</td>\n",
       "      <td>1</td>\n",
       "      <td>Futrelle, Mrs. Jacques Heath (Lily May Peel)</td>\n",
       "      <td>female</td>\n",
       "      <td>35.0</td>\n",
       "      <td>1</td>\n",
       "      <td>0</td>\n",
       "      <td>113803</td>\n",
       "      <td>53.1000</td>\n",
       "      <td>C123</td>\n",
       "      <td>S</td>\n",
       "    </tr>\n",
       "    <tr>\n",
       "      <th>4</th>\n",
       "      <td>5</td>\n",
       "      <td>0</td>\n",
       "      <td>3</td>\n",
       "      <td>Allen, Mr. William Henry</td>\n",
       "      <td>male</td>\n",
       "      <td>35.0</td>\n",
       "      <td>0</td>\n",
       "      <td>0</td>\n",
       "      <td>373450</td>\n",
       "      <td>8.0500</td>\n",
       "      <td>NaN</td>\n",
       "      <td>S</td>\n",
       "    </tr>\n",
       "  </tbody>\n",
       "</table>\n",
       "</div>"
      ],
      "text/plain": [
       "   PassengerId  Survived  Pclass  \\\n",
       "0            1         0       3   \n",
       "1            2         1       1   \n",
       "2            3         1       3   \n",
       "3            4         1       1   \n",
       "4            5         0       3   \n",
       "\n",
       "                                                Name     Sex   Age  SibSp  \\\n",
       "0                            Braund, Mr. Owen Harris    male  22.0      1   \n",
       "1  Cumings, Mrs. John Bradley (Florence Briggs Th...  female  38.0      1   \n",
       "2                             Heikkinen, Miss. Laina  female  26.0      0   \n",
       "3       Futrelle, Mrs. Jacques Heath (Lily May Peel)  female  35.0      1   \n",
       "4                           Allen, Mr. William Henry    male  35.0      0   \n",
       "\n",
       "   Parch            Ticket     Fare Cabin Embarked  \n",
       "0      0         A/5 21171   7.2500   NaN        S  \n",
       "1      0          PC 17599  71.2833   C85        C  \n",
       "2      0  STON/O2. 3101282   7.9250   NaN        S  \n",
       "3      0            113803  53.1000  C123        S  \n",
       "4      0            373450   8.0500   NaN        S  "
      ]
     },
     "execution_count": 965,
     "metadata": {},
     "output_type": "execute_result"
    }
   ],
   "source": [
    "train.head()"
   ]
  },
  {
   "cell_type": "code",
   "execution_count": 966,
   "id": "124f40b2-ef5a-4847-b756-689bc1181a44",
   "metadata": {},
   "outputs": [
    {
     "name": "stdout",
     "output_type": "stream",
     "text": [
      "<class 'pandas.core.frame.DataFrame'>\n",
      "RangeIndex: 418 entries, 0 to 417\n",
      "Data columns (total 11 columns):\n",
      " #   Column       Non-Null Count  Dtype  \n",
      "---  ------       --------------  -----  \n",
      " 0   PassengerId  418 non-null    int64  \n",
      " 1   Pclass       418 non-null    int64  \n",
      " 2   Name         418 non-null    object \n",
      " 3   Sex          418 non-null    object \n",
      " 4   Age          332 non-null    float64\n",
      " 5   SibSp        418 non-null    int64  \n",
      " 6   Parch        418 non-null    int64  \n",
      " 7   Ticket       418 non-null    object \n",
      " 8   Fare         417 non-null    float64\n",
      " 9   Cabin        91 non-null     object \n",
      " 10  Embarked     418 non-null    object \n",
      "dtypes: float64(2), int64(4), object(5)\n",
      "memory usage: 36.0+ KB\n"
     ]
    }
   ],
   "source": [
    "test.info()"
   ]
  },
  {
   "cell_type": "code",
   "execution_count": 967,
   "id": "55dd54dd-0943-4e0d-8f77-6288c21f3bf9",
   "metadata": {},
   "outputs": [
    {
     "data": {
      "text/html": [
       "<div>\n",
       "<style scoped>\n",
       "    .dataframe tbody tr th:only-of-type {\n",
       "        vertical-align: middle;\n",
       "    }\n",
       "\n",
       "    .dataframe tbody tr th {\n",
       "        vertical-align: top;\n",
       "    }\n",
       "\n",
       "    .dataframe thead th {\n",
       "        text-align: right;\n",
       "    }\n",
       "</style>\n",
       "<table border=\"1\" class=\"dataframe\">\n",
       "  <thead>\n",
       "    <tr style=\"text-align: right;\">\n",
       "      <th></th>\n",
       "      <th>PassengerId</th>\n",
       "      <th>Pclass</th>\n",
       "      <th>Name</th>\n",
       "      <th>Sex</th>\n",
       "      <th>Age</th>\n",
       "      <th>SibSp</th>\n",
       "      <th>Parch</th>\n",
       "      <th>Ticket</th>\n",
       "      <th>Fare</th>\n",
       "      <th>Cabin</th>\n",
       "      <th>Embarked</th>\n",
       "    </tr>\n",
       "  </thead>\n",
       "  <tbody>\n",
       "    <tr>\n",
       "      <th>0</th>\n",
       "      <td>892</td>\n",
       "      <td>3</td>\n",
       "      <td>Kelly, Mr. James</td>\n",
       "      <td>male</td>\n",
       "      <td>34.5</td>\n",
       "      <td>0</td>\n",
       "      <td>0</td>\n",
       "      <td>330911</td>\n",
       "      <td>7.8292</td>\n",
       "      <td>NaN</td>\n",
       "      <td>Q</td>\n",
       "    </tr>\n",
       "    <tr>\n",
       "      <th>1</th>\n",
       "      <td>893</td>\n",
       "      <td>3</td>\n",
       "      <td>Wilkes, Mrs. James (Ellen Needs)</td>\n",
       "      <td>female</td>\n",
       "      <td>47.0</td>\n",
       "      <td>1</td>\n",
       "      <td>0</td>\n",
       "      <td>363272</td>\n",
       "      <td>7.0000</td>\n",
       "      <td>NaN</td>\n",
       "      <td>S</td>\n",
       "    </tr>\n",
       "    <tr>\n",
       "      <th>2</th>\n",
       "      <td>894</td>\n",
       "      <td>2</td>\n",
       "      <td>Myles, Mr. Thomas Francis</td>\n",
       "      <td>male</td>\n",
       "      <td>62.0</td>\n",
       "      <td>0</td>\n",
       "      <td>0</td>\n",
       "      <td>240276</td>\n",
       "      <td>9.6875</td>\n",
       "      <td>NaN</td>\n",
       "      <td>Q</td>\n",
       "    </tr>\n",
       "    <tr>\n",
       "      <th>3</th>\n",
       "      <td>895</td>\n",
       "      <td>3</td>\n",
       "      <td>Wirz, Mr. Albert</td>\n",
       "      <td>male</td>\n",
       "      <td>27.0</td>\n",
       "      <td>0</td>\n",
       "      <td>0</td>\n",
       "      <td>315154</td>\n",
       "      <td>8.6625</td>\n",
       "      <td>NaN</td>\n",
       "      <td>S</td>\n",
       "    </tr>\n",
       "    <tr>\n",
       "      <th>4</th>\n",
       "      <td>896</td>\n",
       "      <td>3</td>\n",
       "      <td>Hirvonen, Mrs. Alexander (Helga E Lindqvist)</td>\n",
       "      <td>female</td>\n",
       "      <td>22.0</td>\n",
       "      <td>1</td>\n",
       "      <td>1</td>\n",
       "      <td>3101298</td>\n",
       "      <td>12.2875</td>\n",
       "      <td>NaN</td>\n",
       "      <td>S</td>\n",
       "    </tr>\n",
       "  </tbody>\n",
       "</table>\n",
       "</div>"
      ],
      "text/plain": [
       "   PassengerId  Pclass                                          Name     Sex  \\\n",
       "0          892       3                              Kelly, Mr. James    male   \n",
       "1          893       3              Wilkes, Mrs. James (Ellen Needs)  female   \n",
       "2          894       2                     Myles, Mr. Thomas Francis    male   \n",
       "3          895       3                              Wirz, Mr. Albert    male   \n",
       "4          896       3  Hirvonen, Mrs. Alexander (Helga E Lindqvist)  female   \n",
       "\n",
       "    Age  SibSp  Parch   Ticket     Fare Cabin Embarked  \n",
       "0  34.5      0      0   330911   7.8292   NaN        Q  \n",
       "1  47.0      1      0   363272   7.0000   NaN        S  \n",
       "2  62.0      0      0   240276   9.6875   NaN        Q  \n",
       "3  27.0      0      0   315154   8.6625   NaN        S  \n",
       "4  22.0      1      1  3101298  12.2875   NaN        S  "
      ]
     },
     "execution_count": 967,
     "metadata": {},
     "output_type": "execute_result"
    }
   ],
   "source": [
    "test.head()"
   ]
  },
  {
   "cell_type": "markdown",
   "id": "21ec8d86-71e8-4704-9d92-c0efa5576a3a",
   "metadata": {},
   "source": [
    "### Combine training and test data"
   ]
  },
  {
   "cell_type": "code",
   "execution_count": 968,
   "id": "aa46d0ab-76f8-415b-9852-d164b81e77e2",
   "metadata": {},
   "outputs": [],
   "source": [
    "alldata = pd.concat([train, test], axis = 0, ignore_index = True)"
   ]
  },
  {
   "cell_type": "code",
   "execution_count": 969,
   "id": "d8e95360-97b9-48f4-919e-9bc287c26d73",
   "metadata": {},
   "outputs": [
    {
     "name": "stdout",
     "output_type": "stream",
     "text": [
      "<class 'pandas.core.frame.DataFrame'>\n",
      "RangeIndex: 1309 entries, 0 to 1308\n",
      "Data columns (total 12 columns):\n",
      " #   Column       Non-Null Count  Dtype  \n",
      "---  ------       --------------  -----  \n",
      " 0   PassengerId  1309 non-null   int64  \n",
      " 1   Survived     891 non-null    float64\n",
      " 2   Pclass       1309 non-null   int64  \n",
      " 3   Name         1309 non-null   object \n",
      " 4   Sex          1309 non-null   object \n",
      " 5   Age          1046 non-null   float64\n",
      " 6   SibSp        1309 non-null   int64  \n",
      " 7   Parch        1309 non-null   int64  \n",
      " 8   Ticket       1309 non-null   object \n",
      " 9   Fare         1308 non-null   float64\n",
      " 10  Cabin        295 non-null    object \n",
      " 11  Embarked     1307 non-null   object \n",
      "dtypes: float64(3), int64(4), object(5)\n",
      "memory usage: 122.8+ KB\n"
     ]
    }
   ],
   "source": [
    "alldata.info()"
   ]
  },
  {
   "cell_type": "code",
   "execution_count": 970,
   "id": "2b447a71-31d3-49ba-a03f-7b1d9c684164",
   "metadata": {},
   "outputs": [
    {
     "data": {
      "text/html": [
       "<div>\n",
       "<style scoped>\n",
       "    .dataframe tbody tr th:only-of-type {\n",
       "        vertical-align: middle;\n",
       "    }\n",
       "\n",
       "    .dataframe tbody tr th {\n",
       "        vertical-align: top;\n",
       "    }\n",
       "\n",
       "    .dataframe thead th {\n",
       "        text-align: right;\n",
       "    }\n",
       "</style>\n",
       "<table border=\"1\" class=\"dataframe\">\n",
       "  <thead>\n",
       "    <tr style=\"text-align: right;\">\n",
       "      <th></th>\n",
       "      <th>PassengerId</th>\n",
       "      <th>Survived</th>\n",
       "      <th>Pclass</th>\n",
       "      <th>Name</th>\n",
       "      <th>Sex</th>\n",
       "      <th>Age</th>\n",
       "      <th>SibSp</th>\n",
       "      <th>Parch</th>\n",
       "      <th>Ticket</th>\n",
       "      <th>Fare</th>\n",
       "      <th>Cabin</th>\n",
       "      <th>Embarked</th>\n",
       "    </tr>\n",
       "  </thead>\n",
       "  <tbody>\n",
       "    <tr>\n",
       "      <th>0</th>\n",
       "      <td>1</td>\n",
       "      <td>0.0</td>\n",
       "      <td>3</td>\n",
       "      <td>Braund, Mr. Owen Harris</td>\n",
       "      <td>male</td>\n",
       "      <td>22.0</td>\n",
       "      <td>1</td>\n",
       "      <td>0</td>\n",
       "      <td>A/5 21171</td>\n",
       "      <td>7.2500</td>\n",
       "      <td>NaN</td>\n",
       "      <td>S</td>\n",
       "    </tr>\n",
       "    <tr>\n",
       "      <th>1</th>\n",
       "      <td>2</td>\n",
       "      <td>1.0</td>\n",
       "      <td>1</td>\n",
       "      <td>Cumings, Mrs. John Bradley (Florence Briggs Th...</td>\n",
       "      <td>female</td>\n",
       "      <td>38.0</td>\n",
       "      <td>1</td>\n",
       "      <td>0</td>\n",
       "      <td>PC 17599</td>\n",
       "      <td>71.2833</td>\n",
       "      <td>C85</td>\n",
       "      <td>C</td>\n",
       "    </tr>\n",
       "    <tr>\n",
       "      <th>2</th>\n",
       "      <td>3</td>\n",
       "      <td>1.0</td>\n",
       "      <td>3</td>\n",
       "      <td>Heikkinen, Miss. Laina</td>\n",
       "      <td>female</td>\n",
       "      <td>26.0</td>\n",
       "      <td>0</td>\n",
       "      <td>0</td>\n",
       "      <td>STON/O2. 3101282</td>\n",
       "      <td>7.9250</td>\n",
       "      <td>NaN</td>\n",
       "      <td>S</td>\n",
       "    </tr>\n",
       "    <tr>\n",
       "      <th>3</th>\n",
       "      <td>4</td>\n",
       "      <td>1.0</td>\n",
       "      <td>1</td>\n",
       "      <td>Futrelle, Mrs. Jacques Heath (Lily May Peel)</td>\n",
       "      <td>female</td>\n",
       "      <td>35.0</td>\n",
       "      <td>1</td>\n",
       "      <td>0</td>\n",
       "      <td>113803</td>\n",
       "      <td>53.1000</td>\n",
       "      <td>C123</td>\n",
       "      <td>S</td>\n",
       "    </tr>\n",
       "    <tr>\n",
       "      <th>4</th>\n",
       "      <td>5</td>\n",
       "      <td>0.0</td>\n",
       "      <td>3</td>\n",
       "      <td>Allen, Mr. William Henry</td>\n",
       "      <td>male</td>\n",
       "      <td>35.0</td>\n",
       "      <td>0</td>\n",
       "      <td>0</td>\n",
       "      <td>373450</td>\n",
       "      <td>8.0500</td>\n",
       "      <td>NaN</td>\n",
       "      <td>S</td>\n",
       "    </tr>\n",
       "  </tbody>\n",
       "</table>\n",
       "</div>"
      ],
      "text/plain": [
       "   PassengerId  Survived  Pclass  \\\n",
       "0            1       0.0       3   \n",
       "1            2       1.0       1   \n",
       "2            3       1.0       3   \n",
       "3            4       1.0       1   \n",
       "4            5       0.0       3   \n",
       "\n",
       "                                                Name     Sex   Age  SibSp  \\\n",
       "0                            Braund, Mr. Owen Harris    male  22.0      1   \n",
       "1  Cumings, Mrs. John Bradley (Florence Briggs Th...  female  38.0      1   \n",
       "2                             Heikkinen, Miss. Laina  female  26.0      0   \n",
       "3       Futrelle, Mrs. Jacques Heath (Lily May Peel)  female  35.0      1   \n",
       "4                           Allen, Mr. William Henry    male  35.0      0   \n",
       "\n",
       "   Parch            Ticket     Fare Cabin Embarked  \n",
       "0      0         A/5 21171   7.2500   NaN        S  \n",
       "1      0          PC 17599  71.2833   C85        C  \n",
       "2      0  STON/O2. 3101282   7.9250   NaN        S  \n",
       "3      0            113803  53.1000  C123        S  \n",
       "4      0            373450   8.0500   NaN        S  "
      ]
     },
     "execution_count": 970,
     "metadata": {},
     "output_type": "execute_result"
    }
   ],
   "source": [
    "alldata.head()"
   ]
  },
  {
   "cell_type": "code",
   "execution_count": 971,
   "id": "898b92ea-ff36-4db3-a5c3-eb2d93032921",
   "metadata": {},
   "outputs": [
    {
     "data": {
      "image/png": "[encoded data removed]",
      "text/plain": [
       "<Figure size 640x480 with 1 Axes>"
      ]
     },
     "metadata": {},
     "output_type": "display_data"
    }
   ],
   "source": [
    "ax = alldata.groupby('Sex').size().plot.bar(color=['green', 'blue'])\n",
    "plt.title('Total number of passengers by gender')\n",
    "plt.xlabel('Gender')\n",
    "plt.yticks([])\n",
    "for label in ax.containers:\n",
    "    ax.bar_label(label)\n",
    "plt.show()"
   ]
  },
  {
   "cell_type": "code",
   "execution_count": 972,
   "id": "d796c2ef-3757-402c-8d7d-0bda40011868",
   "metadata": {},
   "outputs": [
    {
     "data": {
      "image/png": "[encoded data removed]",
      "text/plain": [
       "<Figure size 640x480 with 1 Axes>"
      ]
     },
     "metadata": {},
     "output_type": "display_data"
    }
   ],
   "source": [
    "ax = train.groupby('Sex')['Survived'].mean().plot.bar(\n",
    "    color = ['green', 'blue']\n",
    ")\n",
    "plt.title('Percentage of survivors by gender')\n",
    "plt.xlabel('Gender')\n",
    "plt.yticks([])\n",
    "\n",
    "# formatting function\n",
    "def fmt(x):\n",
    "    return f'{x:.2%}'\n",
    "\n",
    "# Add percentage values on top of each bar\n",
    "for i in ax.containers:\n",
    "    ax.bar_label(i, label_type='edge', labels=[fmt(x) for x in i.datavalues])\n",
    "plt.show()"
   ]
  },
  {
   "cell_type": "markdown",
   "id": "e3876a8e-bf47-467b-a179-c94b7a9cda5f",
   "metadata": {},
   "source": [
    "# DATA PREPARATION"
   ]
  },
  {
   "cell_type": "markdown",
   "id": "b16db756-2fbe-4e29-92a2-dbbc302cc429",
   "metadata": {},
   "source": [
    "### Feature Engineering"
   ]
  },
  {
   "cell_type": "markdown",
   "id": "b7e8c2c2-575a-4bf5-8b3b-0a7d6217dcdd",
   "metadata": {},
   "source": [
    "##### Extracting Title from feature `name`"
   ]
  },
  {
   "cell_type": "code",
   "execution_count": 973,
   "id": "e9374f22-6fc2-46c3-bba8-01b3b5b57030",
   "metadata": {},
   "outputs": [
    {
     "data": {
      "text/plain": [
       "0                              Braund, Mr. Owen Harris\n",
       "1    Cumings, Mrs. John Bradley (Florence Briggs Th...\n",
       "2                               Heikkinen, Miss. Laina\n",
       "3         Futrelle, Mrs. Jacques Heath (Lily May Peel)\n",
       "4                             Allen, Mr. William Henry\n",
       "5                                     Moran, Mr. James\n",
       "6                              McCarthy, Mr. Timothy J\n",
       "7                       Palsson, Master. Gosta Leonard\n",
       "8    Johnson, Mrs. Oscar W (Elisabeth Vilhelmina Berg)\n",
       "9                  Nasser, Mrs. Nicholas (Adele Achem)\n",
       "Name: Name, dtype: object"
      ]
     },
     "execution_count": 973,
     "metadata": {},
     "output_type": "execute_result"
    }
   ],
   "source": [
    "train.Name[:10]"
   ]
  },
  {
   "cell_type": "code",
   "execution_count": 974,
   "id": "00eea537-26e7-4983-b183-08657335e2b5",
   "metadata": {},
   "outputs": [],
   "source": [
    "# Create Title column by extracting title from Name column by using regular expression https://regexr.com/\n",
    "alldata['title'] = alldata.Name.apply(lambda x: re.search(r',\\s(.+?)\\.', x).group(1))"
   ]
  },
  {
   "cell_type": "code",
   "execution_count": 975,
   "id": "371bdbaf-833b-4b0c-a324-20cef58db9ef",
   "metadata": {},
   "outputs": [
    {
     "data": {
      "text/html": [
       "<div>\n",
       "<style scoped>\n",
       "    .dataframe tbody tr th:only-of-type {\n",
       "        vertical-align: middle;\n",
       "    }\n",
       "\n",
       "    .dataframe tbody tr th {\n",
       "        vertical-align: top;\n",
       "    }\n",
       "\n",
       "    .dataframe thead th {\n",
       "        text-align: right;\n",
       "    }\n",
       "</style>\n",
       "<table border=\"1\" class=\"dataframe\">\n",
       "  <thead>\n",
       "    <tr style=\"text-align: right;\">\n",
       "      <th></th>\n",
       "      <th>PassengerId</th>\n",
       "      <th>Survived</th>\n",
       "      <th>Pclass</th>\n",
       "      <th>Name</th>\n",
       "      <th>Sex</th>\n",
       "      <th>Age</th>\n",
       "      <th>SibSp</th>\n",
       "      <th>Parch</th>\n",
       "      <th>Ticket</th>\n",
       "      <th>Fare</th>\n",
       "      <th>Cabin</th>\n",
       "      <th>Embarked</th>\n",
       "      <th>title</th>\n",
       "    </tr>\n",
       "  </thead>\n",
       "  <tbody>\n",
       "    <tr>\n",
       "      <th>0</th>\n",
       "      <td>1</td>\n",
       "      <td>0.0</td>\n",
       "      <td>3</td>\n",
       "      <td>Braund, Mr. Owen Harris</td>\n",
       "      <td>male</td>\n",
       "      <td>22.0</td>\n",
       "      <td>1</td>\n",
       "      <td>0</td>\n",
       "      <td>A/5 21171</td>\n",
       "      <td>7.2500</td>\n",
       "      <td>NaN</td>\n",
       "      <td>S</td>\n",
       "      <td>Mr</td>\n",
       "    </tr>\n",
       "    <tr>\n",
       "      <th>1</th>\n",
       "      <td>2</td>\n",
       "      <td>1.0</td>\n",
       "      <td>1</td>\n",
       "      <td>Cumings, Mrs. John Bradley (Florence Briggs Th...</td>\n",
       "      <td>female</td>\n",
       "      <td>38.0</td>\n",
       "      <td>1</td>\n",
       "      <td>0</td>\n",
       "      <td>PC 17599</td>\n",
       "      <td>71.2833</td>\n",
       "      <td>C85</td>\n",
       "      <td>C</td>\n",
       "      <td>Mrs</td>\n",
       "    </tr>\n",
       "    <tr>\n",
       "      <th>2</th>\n",
       "      <td>3</td>\n",
       "      <td>1.0</td>\n",
       "      <td>3</td>\n",
       "      <td>Heikkinen, Miss. Laina</td>\n",
       "      <td>female</td>\n",
       "      <td>26.0</td>\n",
       "      <td>0</td>\n",
       "      <td>0</td>\n",
       "      <td>STON/O2. 3101282</td>\n",
       "      <td>7.9250</td>\n",
       "      <td>NaN</td>\n",
       "      <td>S</td>\n",
       "      <td>Miss</td>\n",
       "    </tr>\n",
       "    <tr>\n",
       "      <th>3</th>\n",
       "      <td>4</td>\n",
       "      <td>1.0</td>\n",
       "      <td>1</td>\n",
       "      <td>Futrelle, Mrs. Jacques Heath (Lily May Peel)</td>\n",
       "      <td>female</td>\n",
       "      <td>35.0</td>\n",
       "      <td>1</td>\n",
       "      <td>0</td>\n",
       "      <td>113803</td>\n",
       "      <td>53.1000</td>\n",
       "      <td>C123</td>\n",
       "      <td>S</td>\n",
       "      <td>Mrs</td>\n",
       "    </tr>\n",
       "    <tr>\n",
       "      <th>4</th>\n",
       "      <td>5</td>\n",
       "      <td>0.0</td>\n",
       "      <td>3</td>\n",
       "      <td>Allen, Mr. William Henry</td>\n",
       "      <td>male</td>\n",
       "      <td>35.0</td>\n",
       "      <td>0</td>\n",
       "      <td>0</td>\n",
       "      <td>373450</td>\n",
       "      <td>8.0500</td>\n",
       "      <td>NaN</td>\n",
       "      <td>S</td>\n",
       "      <td>Mr</td>\n",
       "    </tr>\n",
       "  </tbody>\n",
       "</table>\n",
       "</div>"
      ],
      "text/plain": [
       "   PassengerId  Survived  Pclass  \\\n",
       "0            1       0.0       3   \n",
       "1            2       1.0       1   \n",
       "2            3       1.0       3   \n",
       "3            4       1.0       1   \n",
       "4            5       0.0       3   \n",
       "\n",
       "                                                Name     Sex   Age  SibSp  \\\n",
       "0                            Braund, Mr. Owen Harris    male  22.0      1   \n",
       "1  Cumings, Mrs. John Bradley (Florence Briggs Th...  female  38.0      1   \n",
       "2                             Heikkinen, Miss. Laina  female  26.0      0   \n",
       "3       Futrelle, Mrs. Jacques Heath (Lily May Peel)  female  35.0      1   \n",
       "4                           Allen, Mr. William Henry    male  35.0      0   \n",
       "\n",
       "   Parch            Ticket     Fare Cabin Embarked title  \n",
       "0      0         A/5 21171   7.2500   NaN        S    Mr  \n",
       "1      0          PC 17599  71.2833   C85        C   Mrs  \n",
       "2      0  STON/O2. 3101282   7.9250   NaN        S  Miss  \n",
       "3      0            113803  53.1000  C123        S   Mrs  \n",
       "4      0            373450   8.0500   NaN        S    Mr  "
      ]
     },
     "execution_count": 975,
     "metadata": {},
     "output_type": "execute_result"
    }
   ],
   "source": [
    "alldata.head()"
   ]
  },
  {
   "cell_type": "code",
   "execution_count": 976,
   "id": "3904fd17-73ed-46d0-9212-652e584e6ff3",
   "metadata": {},
   "outputs": [
    {
     "data": {
      "text/plain": [
       "Mr              757\n",
       "Miss            260\n",
       "Mrs             197\n",
       "Master           61\n",
       "Rev               8\n",
       "Dr                8\n",
       "Col               4\n",
       "Mlle              2\n",
       "Major             2\n",
       "Ms                2\n",
       "Lady              1\n",
       "Sir               1\n",
       "Mme               1\n",
       "Don               1\n",
       "Capt              1\n",
       "the Countess      1\n",
       "Jonkheer          1\n",
       "Dona              1\n",
       "Name: title, dtype: int64"
      ]
     },
     "execution_count": 976,
     "metadata": {},
     "output_type": "execute_result"
    }
   ],
   "source": [
    "alldata.title.value_counts()"
   ]
  },
  {
   "cell_type": "code",
   "execution_count": 977,
   "id": "24a5fd37-fa2b-435c-95d1-dcd59eb16149",
   "metadata": {},
   "outputs": [
    {
     "data": {
      "image/png": "[encoded data removed]",
      "text/plain": [
       "<Figure size 640x480 with 1 Axes>"
      ]
     },
     "metadata": {},
     "output_type": "display_data"
    }
   ],
   "source": [
    "alldata.loc[alldata.title == 'Master', 'Age'].hist(\n",
    "alpha = 0.8, bins = 4, color = 'red', label='Master')\n",
    "\n",
    "alldata.loc[alldata.title == 'Miss', 'Age'].hist(\n",
    "alpha = 0.8, bins = 18, color = 'green', label = 'Miss')\n",
    "\n",
    "alldata.loc[alldata.title == 'Mr', 'Age'].hist(\n",
    "alpha = 0.8, bins= 25, color = 'blue', label = 'Mr')\n",
    "\n",
    "plt.title('Distribution of Age for Miss. and Master.')\n",
    "plt.legend()\n",
    "plt.xlabel('Age')\n",
    "plt.ylabel('Count')\n",
    "plt.show()"
   ]
  },
  {
   "cell_type": "markdown",
   "id": "249251ad-6fb3-4919-95c8-bff97a865f41",
   "metadata": {},
   "source": [
    "<img src=\"./img/group_title.png\" alt=\"Alternative text\" />"
   ]
  },
  {
   "cell_type": "code",
   "execution_count": 978,
   "id": "abe02618-3068-4cf4-bc3b-339ab6376818",
   "metadata": {},
   "outputs": [],
   "source": [
    "# Reclassify common titles\n",
    "alldata.loc[alldata.title.isin(['Ms', 'Mlle']), 'title'] = 'Miss'\n",
    "alldata.loc[alldata.title.isin(['Mme']), 'title'] = 'Mrs'"
   ]
  },
  {
   "cell_type": "code",
   "execution_count": 979,
   "id": "32f7d213-39c2-44b5-a229-0969e45c57ed",
   "metadata": {},
   "outputs": [],
   "source": [
    "# Reclassify uncommon titles\n",
    "rare = ['Major', 'Lady', 'Sir', 'Don', 'Capt', 'the Countess', 'Jonkheer', 'Dona', 'Dr', 'Rev', 'Col']\n",
    "alldata.loc[alldata.title.isin(rare), 'title'] = 'rare'"
   ]
  },
  {
   "cell_type": "code",
   "execution_count": 980,
   "id": "733603f8-9fb9-4030-998f-25ada82d4b38",
   "metadata": {},
   "outputs": [
    {
     "data": {
      "text/plain": [
       "Mr        757\n",
       "Miss      264\n",
       "Mrs       198\n",
       "Master     61\n",
       "rare       29\n",
       "Name: title, dtype: int64"
      ]
     },
     "execution_count": 980,
     "metadata": {},
     "output_type": "execute_result"
    }
   ],
   "source": [
    "alldata.title.value_counts()"
   ]
  },
  {
   "cell_type": "markdown",
   "id": "704111f8-85e8-412c-b1eb-d9f7e77f9b9c",
   "metadata": {},
   "source": [
    "##### Women and children first"
   ]
  },
  {
   "cell_type": "code",
   "execution_count": 981,
   "id": "6301193b-a704-461f-a2cf-c22042c225e0",
   "metadata": {},
   "outputs": [],
   "source": [
    "alldata['surname'] = alldata.Name.apply(lambda x: re.search(r'^(.+?)\\,', x).group(1))"
   ]
  },
  {
   "cell_type": "code",
   "execution_count": 982,
   "id": "6b8503ad-5caf-48c2-a213-5a4fa2688b07",
   "metadata": {},
   "outputs": [
    {
     "data": {
      "text/plain": [
       "0       Braund\n",
       "1      Cumings\n",
       "2    Heikkinen\n",
       "3     Futrelle\n",
       "4        Allen\n",
       "5        Moran\n",
       "6     McCarthy\n",
       "7      Palsson\n",
       "8      Johnson\n",
       "9       Nasser\n",
       "Name: surname, dtype: object"
      ]
     },
     "execution_count": 982,
     "metadata": {},
     "output_type": "execute_result"
    }
   ],
   "source": [
    "alldata.surname[:10]"
   ]
  },
  {
   "cell_type": "markdown",
   "id": "43e6328a-f4f4-4dd8-ab8b-2c7699156484",
   "metadata": {},
   "source": [
    "##### `in_WCF`: Based on the survival rate of passengers with the same surname. If the passenger is a woman or child, this feature is set to 1; otherwise, it’s set to 0.\n",
    "##### `WCF_Survived`:  WCF group with a survival rate greater than 50%, this feature is set to 1; otherwise, it’s set to 0.\n",
    "##### `WCF_Died`: WCF group with a survival rate less than 50%, this feature is set to 1; otherwise, it’s set to 0."
   ]
  },
  {
   "cell_type": "code",
   "execution_count": 983,
   "id": "c8b9a3c0-57dd-4c41-862d-e417b04c54ee",
   "metadata": {},
   "outputs": [],
   "source": [
    "# Contains surnames for WCF groups\n",
    "alldata['surname_WCF'] = alldata.surname"
   ]
  },
  {
   "cell_type": "code",
   "execution_count": 984,
   "id": "e91a4bbd-c0ab-4186-a26a-dcd5bbf6fb99",
   "metadata": {},
   "outputs": [],
   "source": [
    "# Take out adult males but we keep boys (Master)\n",
    "alldata.loc[((alldata.Sex == 'male') & (alldata.title == 'Mr'))|\n",
    "             ((alldata.Sex == 'male') & (alldata.title == 'rare')), 'surname_WCF'] = np.nan"
   ]
  },
  {
   "cell_type": "code",
   "execution_count": 985,
   "id": "f67cd08d-58a7-49bf-89c5-a2a258ee23da",
   "metadata": {},
   "outputs": [],
   "source": [
    "# WCF_count counts the number of passenger for each surname group (in_WCF)\n",
    "alldata['WCF_count'] = alldata.groupby('surname_WCF')['surname_WCF'].transform('count')\n",
    "alldata.loc[(alldata.WCF_count < 2.0 ), 'surname_WCF'] = np.nan"
   ]
  },
  {
   "cell_type": "code",
   "execution_count": 986,
   "id": "6403a5a0-d1e0-45a0-a59b-b757110e8dc4",
   "metadata": {},
   "outputs": [],
   "source": [
    "# Group data in WCF\n",
    "alldata.loc[(alldata.WCF_count >= 2.0), 'in_WCF'] = 1\n",
    "alldata.loc[(alldata.WCF_count < 2.0 ), 'in_WCF'] = 0"
   ]
  },
  {
   "cell_type": "code",
   "execution_count": 987,
   "id": "44e3780b-0678-4480-bd90-64f2e773d1bf",
   "metadata": {},
   "outputs": [],
   "source": [
    "# Seperate WCF_Survived & WCF_Died \n",
    "for surname in alldata.surname_WCF.unique():\n",
    "    surv_rate = np.mean(alldata.loc[alldata.surname_WCF == surname, 'Survived'])\n",
    "    if surv_rate > 0.5:\n",
    "        alldata.loc[alldata.surname_WCF == surname, 'WCF_Survived'] = 1\n",
    "    else:\n",
    "        alldata.loc[alldata.surname_WCF == surname, 'WCF_Died'] = 1"
   ]
  },
  {
   "cell_type": "code",
   "execution_count": 988,
   "id": "109a9452-3352-4de1-a6cf-7209ec1006b8",
   "metadata": {},
   "outputs": [],
   "source": [
    "# Fillna in the new features \n",
    "alldata[['in_WCF', 'WCF_Survived', 'WCF_Died']] = alldata[['in_WCF', 'WCF_Survived', 'WCF_Died']].fillna(0)"
   ]
  },
  {
   "cell_type": "code",
   "execution_count": 989,
   "id": "3d1105cc-e4ea-4a93-b16a-78fcadc6bef0",
   "metadata": {},
   "outputs": [],
   "source": [
    "# Drop features no longer needed\n",
    "alldata.drop(columns=['Name', 'surname', 'surname_WCF', 'WCF_count'], axis = 1, inplace = True)"
   ]
  },
  {
   "cell_type": "code",
   "execution_count": 990,
   "id": "8b0b6809-fa7c-4c60-8cca-45ceb244c70a",
   "metadata": {},
   "outputs": [
    {
     "name": "stdout",
     "output_type": "stream",
     "text": [
      "<class 'pandas.core.frame.DataFrame'>\n",
      "RangeIndex: 1309 entries, 0 to 1308\n",
      "Data columns (total 15 columns):\n",
      " #   Column        Non-Null Count  Dtype  \n",
      "---  ------        --------------  -----  \n",
      " 0   PassengerId   1309 non-null   int64  \n",
      " 1   Survived      891 non-null    float64\n",
      " 2   Pclass        1309 non-null   int64  \n",
      " 3   Sex           1309 non-null   object \n",
      " 4   Age           1046 non-null   float64\n",
      " 5   SibSp         1309 non-null   int64  \n",
      " 6   Parch         1309 non-null   int64  \n",
      " 7   Ticket        1309 non-null   object \n",
      " 8   Fare          1308 non-null   float64\n",
      " 9   Cabin         295 non-null    object \n",
      " 10  Embarked      1307 non-null   object \n",
      " 11  title         1309 non-null   object \n",
      " 12  in_WCF        1309 non-null   float64\n",
      " 13  WCF_Died      1309 non-null   float64\n",
      " 14  WCF_Survived  1309 non-null   float64\n",
      "dtypes: float64(6), int64(4), object(5)\n",
      "memory usage: 153.5+ KB\n"
     ]
    }
   ],
   "source": [
    "alldata.info()"
   ]
  },
  {
   "cell_type": "code",
   "execution_count": 991,
   "id": "209a909f-51a5-4b39-81a2-924475089c06",
   "metadata": {},
   "outputs": [
    {
     "data": {
      "text/html": [
       "<div>\n",
       "<style scoped>\n",
       "    .dataframe tbody tr th:only-of-type {\n",
       "        vertical-align: middle;\n",
       "    }\n",
       "\n",
       "    .dataframe tbody tr th {\n",
       "        vertical-align: top;\n",
       "    }\n",
       "\n",
       "    .dataframe thead th {\n",
       "        text-align: right;\n",
       "    }\n",
       "</style>\n",
       "<table border=\"1\" class=\"dataframe\">\n",
       "  <thead>\n",
       "    <tr style=\"text-align: right;\">\n",
       "      <th></th>\n",
       "      <th>PassengerId</th>\n",
       "      <th>Survived</th>\n",
       "      <th>Pclass</th>\n",
       "      <th>Sex</th>\n",
       "      <th>Age</th>\n",
       "      <th>SibSp</th>\n",
       "      <th>Parch</th>\n",
       "      <th>Ticket</th>\n",
       "      <th>Fare</th>\n",
       "      <th>Cabin</th>\n",
       "      <th>Embarked</th>\n",
       "      <th>title</th>\n",
       "      <th>in_WCF</th>\n",
       "      <th>WCF_Died</th>\n",
       "      <th>WCF_Survived</th>\n",
       "    </tr>\n",
       "  </thead>\n",
       "  <tbody>\n",
       "    <tr>\n",
       "      <th>0</th>\n",
       "      <td>1</td>\n",
       "      <td>0.0</td>\n",
       "      <td>3</td>\n",
       "      <td>male</td>\n",
       "      <td>22.0</td>\n",
       "      <td>1</td>\n",
       "      <td>0</td>\n",
       "      <td>A/5 21171</td>\n",
       "      <td>7.2500</td>\n",
       "      <td>NaN</td>\n",
       "      <td>S</td>\n",
       "      <td>Mr</td>\n",
       "      <td>0.0</td>\n",
       "      <td>0.0</td>\n",
       "      <td>0.0</td>\n",
       "    </tr>\n",
       "    <tr>\n",
       "      <th>1</th>\n",
       "      <td>2</td>\n",
       "      <td>1.0</td>\n",
       "      <td>1</td>\n",
       "      <td>female</td>\n",
       "      <td>38.0</td>\n",
       "      <td>1</td>\n",
       "      <td>0</td>\n",
       "      <td>PC 17599</td>\n",
       "      <td>71.2833</td>\n",
       "      <td>C85</td>\n",
       "      <td>C</td>\n",
       "      <td>Mrs</td>\n",
       "      <td>0.0</td>\n",
       "      <td>0.0</td>\n",
       "      <td>0.0</td>\n",
       "    </tr>\n",
       "    <tr>\n",
       "      <th>2</th>\n",
       "      <td>3</td>\n",
       "      <td>1.0</td>\n",
       "      <td>3</td>\n",
       "      <td>female</td>\n",
       "      <td>26.0</td>\n",
       "      <td>0</td>\n",
       "      <td>0</td>\n",
       "      <td>STON/O2. 3101282</td>\n",
       "      <td>7.9250</td>\n",
       "      <td>NaN</td>\n",
       "      <td>S</td>\n",
       "      <td>Miss</td>\n",
       "      <td>0.0</td>\n",
       "      <td>0.0</td>\n",
       "      <td>0.0</td>\n",
       "    </tr>\n",
       "    <tr>\n",
       "      <th>3</th>\n",
       "      <td>4</td>\n",
       "      <td>1.0</td>\n",
       "      <td>1</td>\n",
       "      <td>female</td>\n",
       "      <td>35.0</td>\n",
       "      <td>1</td>\n",
       "      <td>0</td>\n",
       "      <td>113803</td>\n",
       "      <td>53.1000</td>\n",
       "      <td>C123</td>\n",
       "      <td>S</td>\n",
       "      <td>Mrs</td>\n",
       "      <td>0.0</td>\n",
       "      <td>0.0</td>\n",
       "      <td>0.0</td>\n",
       "    </tr>\n",
       "    <tr>\n",
       "      <th>4</th>\n",
       "      <td>5</td>\n",
       "      <td>0.0</td>\n",
       "      <td>3</td>\n",
       "      <td>male</td>\n",
       "      <td>35.0</td>\n",
       "      <td>0</td>\n",
       "      <td>0</td>\n",
       "      <td>373450</td>\n",
       "      <td>8.0500</td>\n",
       "      <td>NaN</td>\n",
       "      <td>S</td>\n",
       "      <td>Mr</td>\n",
       "      <td>0.0</td>\n",
       "      <td>0.0</td>\n",
       "      <td>0.0</td>\n",
       "    </tr>\n",
       "  </tbody>\n",
       "</table>\n",
       "</div>"
      ],
      "text/plain": [
       "   PassengerId  Survived  Pclass     Sex   Age  SibSp  Parch  \\\n",
       "0            1       0.0       3    male  22.0      1      0   \n",
       "1            2       1.0       1  female  38.0      1      0   \n",
       "2            3       1.0       3  female  26.0      0      0   \n",
       "3            4       1.0       1  female  35.0      1      0   \n",
       "4            5       0.0       3    male  35.0      0      0   \n",
       "\n",
       "             Ticket     Fare Cabin Embarked title  in_WCF  WCF_Died  \\\n",
       "0         A/5 21171   7.2500   NaN        S    Mr     0.0       0.0   \n",
       "1          PC 17599  71.2833   C85        C   Mrs     0.0       0.0   \n",
       "2  STON/O2. 3101282   7.9250   NaN        S  Miss     0.0       0.0   \n",
       "3            113803  53.1000  C123        S   Mrs     0.0       0.0   \n",
       "4            373450   8.0500   NaN        S    Mr     0.0       0.0   \n",
       "\n",
       "   WCF_Survived  \n",
       "0           0.0  \n",
       "1           0.0  \n",
       "2           0.0  \n",
       "3           0.0  \n",
       "4           0.0  "
      ]
     },
     "execution_count": 991,
     "metadata": {},
     "output_type": "execute_result"
    }
   ],
   "source": [
    "alldata.head()"
   ]
  },
  {
   "cell_type": "markdown",
   "id": "8bbfcf03-0c98-4b16-a16e-4faab060820b",
   "metadata": {},
   "source": [
    "#### Find same family on the Titanic - family_size, ticket_group_count, groupsize, and is_alone features"
   ]
  },
  {
   "cell_type": "code",
   "execution_count": 992,
   "id": "8b1ff2dd-9497-49fb-ae76-dccbada0d528",
   "metadata": {},
   "outputs": [
    {
     "name": "stdout",
     "output_type": "stream",
     "text": [
      "There were passengers who shared tickets is: 380\n"
     ]
    }
   ],
   "source": [
    "print(f\"There were passengers who shared tickets is: {len(alldata) - len(alldata.Ticket.unique())}\")"
   ]
  },
  {
   "cell_type": "markdown",
   "id": "c511f1bd-c740-48a8-9304-1766f1e7bf6e",
   "metadata": {},
   "source": [
    "##### Find people are in same family"
   ]
  },
  {
   "cell_type": "code",
   "execution_count": 993,
   "id": "da393b6f-d982-46b9-b191-77ed77a50a5e",
   "metadata": {},
   "outputs": [],
   "source": [
    "alldata['family_size'] = alldata.SibSp + alldata.Parch + 1\n",
    "alldata['ticket_group_count'] = alldata.groupby('Ticket')['Ticket'].transform('count')"
   ]
  },
  {
   "cell_type": "code",
   "execution_count": 994,
   "id": "9c9ee349-fc0a-47c1-ba06-88cd5ab5038d",
   "metadata": {},
   "outputs": [
    {
     "name": "stdout",
     "output_type": "stream",
     "text": [
      "The passenger that match features `family_size` and `ticket_group_count` is: 1025\n"
     ]
    }
   ],
   "source": [
    "print(f\"The passenger that match features `family_size` and `ticket_group_count` is: {len(alldata[alldata.family_size == alldata.ticket_group_count])}\")"
   ]
  },
  {
   "cell_type": "code",
   "execution_count": 995,
   "id": "eefebffd-6545-4886-8016-d452bcbf953a",
   "metadata": {},
   "outputs": [
    {
     "name": "stdout",
     "output_type": "stream",
     "text": [
      "There is a mismatch of 284\n"
     ]
    }
   ],
   "source": [
    "print(f\"There is a mismatch of {len(alldata) - len(alldata[alldata.family_size == alldata.ticket_group_count])}\")"
   ]
  },
  {
   "cell_type": "code",
   "execution_count": 996,
   "id": "eb29aecf-ab90-487c-b37b-042c5cb9bfdc",
   "metadata": {},
   "outputs": [
    {
     "name": "stdout",
     "output_type": "stream",
     "text": [
      "<class 'pandas.core.frame.DataFrame'>\n",
      "RangeIndex: 1309 entries, 0 to 1308\n",
      "Data columns (total 17 columns):\n",
      " #   Column              Non-Null Count  Dtype  \n",
      "---  ------              --------------  -----  \n",
      " 0   PassengerId         1309 non-null   int64  \n",
      " 1   Survived            891 non-null    float64\n",
      " 2   Pclass              1309 non-null   int64  \n",
      " 3   Sex                 1309 non-null   object \n",
      " 4   Age                 1046 non-null   float64\n",
      " 5   SibSp               1309 non-null   int64  \n",
      " 6   Parch               1309 non-null   int64  \n",
      " 7   Ticket              1309 non-null   object \n",
      " 8   Fare                1308 non-null   float64\n",
      " 9   Cabin               295 non-null    object \n",
      " 10  Embarked            1307 non-null   object \n",
      " 11  title               1309 non-null   object \n",
      " 12  in_WCF              1309 non-null   float64\n",
      " 13  WCF_Died            1309 non-null   float64\n",
      " 14  WCF_Survived        1309 non-null   float64\n",
      " 15  family_size         1309 non-null   int64  \n",
      " 16  ticket_group_count  1309 non-null   int64  \n",
      "dtypes: float64(6), int64(6), object(5)\n",
      "memory usage: 174.0+ KB\n"
     ]
    }
   ],
   "source": [
    "alldata.info()"
   ]
  },
  {
   "cell_type": "markdown",
   "id": "2321b429-ce09-4d46-969a-2e69445f803b",
   "metadata": {},
   "source": [
    "##### Find people share tickets with others who are not their family. Maybe they are friends, colleagues and alone"
   ]
  },
  {
   "cell_type": "code",
   "execution_count": 997,
   "id": "fc4666dd-1390-4c69-9147-23cd574f76b7",
   "metadata": {},
   "outputs": [],
   "source": [
    "alldata['group_size'] = alldata[['family_size', 'ticket_group_count']].max(axis = 1)\n",
    "alldata['is_alone'] = alldata.group_size.apply(lambda x: 1 if x == 1 else 0)"
   ]
  },
  {
   "cell_type": "code",
   "execution_count": 998,
   "id": "9192c912-e5a8-43f6-a11d-bcff5aecf1c9",
   "metadata": {},
   "outputs": [
    {
     "name": "stdout",
     "output_type": "stream",
     "text": [
      "<class 'pandas.core.frame.DataFrame'>\n",
      "RangeIndex: 1309 entries, 0 to 1308\n",
      "Data columns (total 19 columns):\n",
      " #   Column              Non-Null Count  Dtype  \n",
      "---  ------              --------------  -----  \n",
      " 0   PassengerId         1309 non-null   int64  \n",
      " 1   Survived            891 non-null    float64\n",
      " 2   Pclass              1309 non-null   int64  \n",
      " 3   Sex                 1309 non-null   object \n",
      " 4   Age                 1046 non-null   float64\n",
      " 5   SibSp               1309 non-null   int64  \n",
      " 6   Parch               1309 non-null   int64  \n",
      " 7   Ticket              1309 non-null   object \n",
      " 8   Fare                1308 non-null   float64\n",
      " 9   Cabin               295 non-null    object \n",
      " 10  Embarked            1307 non-null   object \n",
      " 11  title               1309 non-null   object \n",
      " 12  in_WCF              1309 non-null   float64\n",
      " 13  WCF_Died            1309 non-null   float64\n",
      " 14  WCF_Survived        1309 non-null   float64\n",
      " 15  family_size         1309 non-null   int64  \n",
      " 16  ticket_group_count  1309 non-null   int64  \n",
      " 17  group_size          1309 non-null   int64  \n",
      " 18  is_alone            1309 non-null   int64  \n",
      "dtypes: float64(6), int64(8), object(5)\n",
      "memory usage: 194.4+ KB\n"
     ]
    }
   ],
   "source": [
    "alldata.info()"
   ]
  },
  {
   "cell_type": "code",
   "execution_count": 999,
   "id": "e0a12181-0703-45c3-9554-13f028d69aea",
   "metadata": {},
   "outputs": [
    {
     "data": {
      "text/html": [
       "<div>\n",
       "<style scoped>\n",
       "    .dataframe tbody tr th:only-of-type {\n",
       "        vertical-align: middle;\n",
       "    }\n",
       "\n",
       "    .dataframe tbody tr th {\n",
       "        vertical-align: top;\n",
       "    }\n",
       "\n",
       "    .dataframe thead th {\n",
       "        text-align: right;\n",
       "    }\n",
       "</style>\n",
       "<table border=\"1\" class=\"dataframe\">\n",
       "  <thead>\n",
       "    <tr style=\"text-align: right;\">\n",
       "      <th></th>\n",
       "      <th>PassengerId</th>\n",
       "      <th>Survived</th>\n",
       "      <th>Pclass</th>\n",
       "      <th>Sex</th>\n",
       "      <th>Age</th>\n",
       "      <th>SibSp</th>\n",
       "      <th>Parch</th>\n",
       "      <th>Ticket</th>\n",
       "      <th>Fare</th>\n",
       "      <th>Cabin</th>\n",
       "      <th>Embarked</th>\n",
       "      <th>title</th>\n",
       "      <th>in_WCF</th>\n",
       "      <th>WCF_Died</th>\n",
       "      <th>WCF_Survived</th>\n",
       "      <th>family_size</th>\n",
       "      <th>ticket_group_count</th>\n",
       "      <th>group_size</th>\n",
       "      <th>is_alone</th>\n",
       "    </tr>\n",
       "  </thead>\n",
       "  <tbody>\n",
       "    <tr>\n",
       "      <th>0</th>\n",
       "      <td>1</td>\n",
       "      <td>0.0</td>\n",
       "      <td>3</td>\n",
       "      <td>male</td>\n",
       "      <td>22.0</td>\n",
       "      <td>1</td>\n",
       "      <td>0</td>\n",
       "      <td>A/5 21171</td>\n",
       "      <td>7.2500</td>\n",
       "      <td>NaN</td>\n",
       "      <td>S</td>\n",
       "      <td>Mr</td>\n",
       "      <td>0.0</td>\n",
       "      <td>0.0</td>\n",
       "      <td>0.0</td>\n",
       "      <td>2</td>\n",
       "      <td>1</td>\n",
       "      <td>2</td>\n",
       "      <td>0</td>\n",
       "    </tr>\n",
       "    <tr>\n",
       "      <th>1</th>\n",
       "      <td>2</td>\n",
       "      <td>1.0</td>\n",
       "      <td>1</td>\n",
       "      <td>female</td>\n",
       "      <td>38.0</td>\n",
       "      <td>1</td>\n",
       "      <td>0</td>\n",
       "      <td>PC 17599</td>\n",
       "      <td>71.2833</td>\n",
       "      <td>C85</td>\n",
       "      <td>C</td>\n",
       "      <td>Mrs</td>\n",
       "      <td>0.0</td>\n",
       "      <td>0.0</td>\n",
       "      <td>0.0</td>\n",
       "      <td>2</td>\n",
       "      <td>2</td>\n",
       "      <td>2</td>\n",
       "      <td>0</td>\n",
       "    </tr>\n",
       "    <tr>\n",
       "      <th>2</th>\n",
       "      <td>3</td>\n",
       "      <td>1.0</td>\n",
       "      <td>3</td>\n",
       "      <td>female</td>\n",
       "      <td>26.0</td>\n",
       "      <td>0</td>\n",
       "      <td>0</td>\n",
       "      <td>STON/O2. 3101282</td>\n",
       "      <td>7.9250</td>\n",
       "      <td>NaN</td>\n",
       "      <td>S</td>\n",
       "      <td>Miss</td>\n",
       "      <td>0.0</td>\n",
       "      <td>0.0</td>\n",
       "      <td>0.0</td>\n",
       "      <td>1</td>\n",
       "      <td>1</td>\n",
       "      <td>1</td>\n",
       "      <td>1</td>\n",
       "    </tr>\n",
       "    <tr>\n",
       "      <th>3</th>\n",
       "      <td>4</td>\n",
       "      <td>1.0</td>\n",
       "      <td>1</td>\n",
       "      <td>female</td>\n",
       "      <td>35.0</td>\n",
       "      <td>1</td>\n",
       "      <td>0</td>\n",
       "      <td>113803</td>\n",
       "      <td>53.1000</td>\n",
       "      <td>C123</td>\n",
       "      <td>S</td>\n",
       "      <td>Mrs</td>\n",
       "      <td>0.0</td>\n",
       "      <td>0.0</td>\n",
       "      <td>0.0</td>\n",
       "      <td>2</td>\n",
       "      <td>2</td>\n",
       "      <td>2</td>\n",
       "      <td>0</td>\n",
       "    </tr>\n",
       "    <tr>\n",
       "      <th>4</th>\n",
       "      <td>5</td>\n",
       "      <td>0.0</td>\n",
       "      <td>3</td>\n",
       "      <td>male</td>\n",
       "      <td>35.0</td>\n",
       "      <td>0</td>\n",
       "      <td>0</td>\n",
       "      <td>373450</td>\n",
       "      <td>8.0500</td>\n",
       "      <td>NaN</td>\n",
       "      <td>S</td>\n",
       "      <td>Mr</td>\n",
       "      <td>0.0</td>\n",
       "      <td>0.0</td>\n",
       "      <td>0.0</td>\n",
       "      <td>1</td>\n",
       "      <td>1</td>\n",
       "      <td>1</td>\n",
       "      <td>1</td>\n",
       "    </tr>\n",
       "    <tr>\n",
       "      <th>...</th>\n",
       "      <td>...</td>\n",
       "      <td>...</td>\n",
       "      <td>...</td>\n",
       "      <td>...</td>\n",
       "      <td>...</td>\n",
       "      <td>...</td>\n",
       "      <td>...</td>\n",
       "      <td>...</td>\n",
       "      <td>...</td>\n",
       "      <td>...</td>\n",
       "      <td>...</td>\n",
       "      <td>...</td>\n",
       "      <td>...</td>\n",
       "      <td>...</td>\n",
       "      <td>...</td>\n",
       "      <td>...</td>\n",
       "      <td>...</td>\n",
       "      <td>...</td>\n",
       "      <td>...</td>\n",
       "    </tr>\n",
       "    <tr>\n",
       "      <th>95</th>\n",
       "      <td>96</td>\n",
       "      <td>0.0</td>\n",
       "      <td>3</td>\n",
       "      <td>male</td>\n",
       "      <td>NaN</td>\n",
       "      <td>0</td>\n",
       "      <td>0</td>\n",
       "      <td>374910</td>\n",
       "      <td>8.0500</td>\n",
       "      <td>NaN</td>\n",
       "      <td>S</td>\n",
       "      <td>Mr</td>\n",
       "      <td>0.0</td>\n",
       "      <td>0.0</td>\n",
       "      <td>0.0</td>\n",
       "      <td>1</td>\n",
       "      <td>1</td>\n",
       "      <td>1</td>\n",
       "      <td>1</td>\n",
       "    </tr>\n",
       "    <tr>\n",
       "      <th>96</th>\n",
       "      <td>97</td>\n",
       "      <td>0.0</td>\n",
       "      <td>1</td>\n",
       "      <td>male</td>\n",
       "      <td>71.0</td>\n",
       "      <td>0</td>\n",
       "      <td>0</td>\n",
       "      <td>PC 17754</td>\n",
       "      <td>34.6542</td>\n",
       "      <td>A5</td>\n",
       "      <td>C</td>\n",
       "      <td>Mr</td>\n",
       "      <td>0.0</td>\n",
       "      <td>0.0</td>\n",
       "      <td>0.0</td>\n",
       "      <td>1</td>\n",
       "      <td>1</td>\n",
       "      <td>1</td>\n",
       "      <td>1</td>\n",
       "    </tr>\n",
       "    <tr>\n",
       "      <th>97</th>\n",
       "      <td>98</td>\n",
       "      <td>1.0</td>\n",
       "      <td>1</td>\n",
       "      <td>male</td>\n",
       "      <td>23.0</td>\n",
       "      <td>0</td>\n",
       "      <td>1</td>\n",
       "      <td>PC 17759</td>\n",
       "      <td>63.3583</td>\n",
       "      <td>D10 D12</td>\n",
       "      <td>C</td>\n",
       "      <td>Mr</td>\n",
       "      <td>0.0</td>\n",
       "      <td>0.0</td>\n",
       "      <td>0.0</td>\n",
       "      <td>2</td>\n",
       "      <td>2</td>\n",
       "      <td>2</td>\n",
       "      <td>0</td>\n",
       "    </tr>\n",
       "    <tr>\n",
       "      <th>98</th>\n",
       "      <td>99</td>\n",
       "      <td>1.0</td>\n",
       "      <td>2</td>\n",
       "      <td>female</td>\n",
       "      <td>34.0</td>\n",
       "      <td>0</td>\n",
       "      <td>1</td>\n",
       "      <td>231919</td>\n",
       "      <td>23.0000</td>\n",
       "      <td>NaN</td>\n",
       "      <td>S</td>\n",
       "      <td>Mrs</td>\n",
       "      <td>1.0</td>\n",
       "      <td>0.0</td>\n",
       "      <td>1.0</td>\n",
       "      <td>2</td>\n",
       "      <td>2</td>\n",
       "      <td>2</td>\n",
       "      <td>0</td>\n",
       "    </tr>\n",
       "    <tr>\n",
       "      <th>99</th>\n",
       "      <td>100</td>\n",
       "      <td>0.0</td>\n",
       "      <td>2</td>\n",
       "      <td>male</td>\n",
       "      <td>34.0</td>\n",
       "      <td>1</td>\n",
       "      <td>0</td>\n",
       "      <td>244367</td>\n",
       "      <td>26.0000</td>\n",
       "      <td>NaN</td>\n",
       "      <td>S</td>\n",
       "      <td>Mr</td>\n",
       "      <td>0.0</td>\n",
       "      <td>0.0</td>\n",
       "      <td>0.0</td>\n",
       "      <td>2</td>\n",
       "      <td>2</td>\n",
       "      <td>2</td>\n",
       "      <td>0</td>\n",
       "    </tr>\n",
       "  </tbody>\n",
       "</table>\n",
       "<p>100 rows × 19 columns</p>\n",
       "</div>"
      ],
      "text/plain": [
       "    PassengerId  Survived  Pclass     Sex   Age  SibSp  Parch  \\\n",
       "0             1       0.0       3    male  22.0      1      0   \n",
       "1             2       1.0       1  female  38.0      1      0   \n",
       "2             3       1.0       3  female  26.0      0      0   \n",
       "3             4       1.0       1  female  35.0      1      0   \n",
       "4             5       0.0       3    male  35.0      0      0   \n",
       "..          ...       ...     ...     ...   ...    ...    ...   \n",
       "95           96       0.0       3    male   NaN      0      0   \n",
       "96           97       0.0       1    male  71.0      0      0   \n",
       "97           98       1.0       1    male  23.0      0      1   \n",
       "98           99       1.0       2  female  34.0      0      1   \n",
       "99          100       0.0       2    male  34.0      1      0   \n",
       "\n",
       "              Ticket     Fare    Cabin Embarked title  in_WCF  WCF_Died  \\\n",
       "0          A/5 21171   7.2500      NaN        S    Mr     0.0       0.0   \n",
       "1           PC 17599  71.2833      C85        C   Mrs     0.0       0.0   \n",
       "2   STON/O2. 3101282   7.9250      NaN        S  Miss     0.0       0.0   \n",
       "3             113803  53.1000     C123        S   Mrs     0.0       0.0   \n",
       "4             373450   8.0500      NaN        S    Mr     0.0       0.0   \n",
       "..               ...      ...      ...      ...   ...     ...       ...   \n",
       "95            374910   8.0500      NaN        S    Mr     0.0       0.0   \n",
       "96          PC 17754  34.6542       A5        C    Mr     0.0       0.0   \n",
       "97          PC 17759  63.3583  D10 D12        C    Mr     0.0       0.0   \n",
       "98            231919  23.0000      NaN        S   Mrs     1.0       0.0   \n",
       "99            244367  26.0000      NaN        S    Mr     0.0       0.0   \n",
       "\n",
       "    WCF_Survived  family_size  ticket_group_count  group_size  is_alone  \n",
       "0            0.0            2                   1           2         0  \n",
       "1            0.0            2                   2           2         0  \n",
       "2            0.0            1                   1           1         1  \n",
       "3            0.0            2                   2           2         0  \n",
       "4            0.0            1                   1           1         1  \n",
       "..           ...          ...                 ...         ...       ...  \n",
       "95           0.0            1                   1           1         1  \n",
       "96           0.0            1                   1           1         1  \n",
       "97           0.0            2                   2           2         0  \n",
       "98           1.0            2                   2           2         0  \n",
       "99           0.0            2                   2           2         0  \n",
       "\n",
       "[100 rows x 19 columns]"
      ]
     },
     "execution_count": 999,
     "metadata": {},
     "output_type": "execute_result"
    }
   ],
   "source": [
    "alldata.head(100)"
   ]
  },
  {
   "cell_type": "markdown",
   "id": "58526b4e-698e-4534-8ea1-11891a2373f7",
   "metadata": {},
   "source": [
    "### Navigating the Seas of Fare and Passenger Class"
   ]
  },
  {
   "cell_type": "code",
   "execution_count": 1000,
   "id": "8d2f3598-c3ae-4b15-8c0b-ff9e3b2e6a87",
   "metadata": {},
   "outputs": [
    {
     "data": {
      "image/png": "[encoded data removed]",
      "text/plain": [
       "<Figure size 800x1500 with 3 Axes>"
      ]
     },
     "metadata": {},
     "output_type": "display_data"
    }
   ],
   "source": [
    "#before transformation\n",
    "fig, axs = plt.subplots(nrows = 3, ncols = 1, figsize = (8, 15))\n",
    "colors = ['red', 'green', 'blue']\n",
    "for i in range(3):\n",
    "    alldata.loc[alldata.Pclass == i + 1, 'Fare'].hist(alpha = 0.8, ax = axs[i], bins = 50, color = colors[i])\n",
    "    axs[i].set_title(f\"Distribution of Fare in the Pclass {i+1}\")\n",
    "    axs[i].set_xlabel('Number of Passengers')\n",
    "    axs[i].set_ylabel('Fare')"
   ]
  },
  {
   "cell_type": "code",
   "execution_count": 1001,
   "id": "ce06d9e0-0f2a-4e1c-99f4-ce5e4ab725d9",
   "metadata": {},
   "outputs": [],
   "source": [
    "#tranformation by add new feature\n",
    "alldata['fare_pp'] = alldata.Fare / alldata.ticket_group_count"
   ]
  },
  {
   "cell_type": "code",
   "execution_count": 1002,
   "id": "9f61489d-fbe6-45e3-858b-142d2c70e3c6",
   "metadata": {},
   "outputs": [
    {
     "data": {
      "image/png": "[encoded data removed]",
      "text/plain": [
       "<Figure size 800x1500 with 3 Axes>"
      ]
     },
     "metadata": {},
     "output_type": "display_data"
    }
   ],
   "source": [
    "# after transformation\n",
    "fig, axs = plt.subplots(nrows = 3, ncols = 1, figsize = (8, 15))\n",
    "colors = ['red', 'green', 'blue']\n",
    "for i in range(3):\n",
    "    alldata.loc[alldata.Pclass == i + 1, 'fare_pp'].hist(alpha = 0.8, ax = axs[i], bins = 50, color = colors[i])\n",
    "    axs[i].set_title(f\"Distribution of Fare in the Pclass {i+1}\")\n",
    "    axs[i].set_xlabel('Number of Passengers')\n",
    "    axs[i].set_ylabel('Fare')"
   ]
  },
  {
   "cell_type": "code",
   "execution_count": 1003,
   "id": "49ea6bdf-7b48-4fbe-961e-cdc7ec68417b",
   "metadata": {},
   "outputs": [],
   "source": [
    "# Drop features no longer needed\n",
    "alldata.drop('Fare', axis = 1, inplace = True)\n",
    "alldata.drop('Ticket', axis = 1, inplace = True)"
   ]
  },
  {
   "cell_type": "code",
   "execution_count": 1004,
   "id": "927ac4d4-1087-4cdf-9938-8d06a2c622c0",
   "metadata": {},
   "outputs": [
    {
     "name": "stdout",
     "output_type": "stream",
     "text": [
      "<class 'pandas.core.frame.DataFrame'>\n",
      "RangeIndex: 1309 entries, 0 to 1308\n",
      "Data columns (total 18 columns):\n",
      " #   Column              Non-Null Count  Dtype  \n",
      "---  ------              --------------  -----  \n",
      " 0   PassengerId         1309 non-null   int64  \n",
      " 1   Survived            891 non-null    float64\n",
      " 2   Pclass              1309 non-null   int64  \n",
      " 3   Sex                 1309 non-null   object \n",
      " 4   Age                 1046 non-null   float64\n",
      " 5   SibSp               1309 non-null   int64  \n",
      " 6   Parch               1309 non-null   int64  \n",
      " 7   Cabin               295 non-null    object \n",
      " 8   Embarked            1307 non-null   object \n",
      " 9   title               1309 non-null   object \n",
      " 10  in_WCF              1309 non-null   float64\n",
      " 11  WCF_Died            1309 non-null   float64\n",
      " 12  WCF_Survived        1309 non-null   float64\n",
      " 13  family_size         1309 non-null   int64  \n",
      " 14  ticket_group_count  1309 non-null   int64  \n",
      " 15  group_size          1309 non-null   int64  \n",
      " 16  is_alone            1309 non-null   int64  \n",
      " 17  fare_pp             1308 non-null   float64\n",
      "dtypes: float64(6), int64(8), object(4)\n",
      "memory usage: 184.2+ KB\n"
     ]
    }
   ],
   "source": [
    "alldata.info()"
   ]
  },
  {
   "cell_type": "code",
   "execution_count": 1005,
   "id": "113d8e20-68ab-45b2-b06b-56e4703e6e64",
   "metadata": {},
   "outputs": [
    {
     "data": {
      "text/html": [
       "<div>\n",
       "<style scoped>\n",
       "    .dataframe tbody tr th:only-of-type {\n",
       "        vertical-align: middle;\n",
       "    }\n",
       "\n",
       "    .dataframe tbody tr th {\n",
       "        vertical-align: top;\n",
       "    }\n",
       "\n",
       "    .dataframe thead th {\n",
       "        text-align: right;\n",
       "    }\n",
       "</style>\n",
       "<table border=\"1\" class=\"dataframe\">\n",
       "  <thead>\n",
       "    <tr style=\"text-align: right;\">\n",
       "      <th></th>\n",
       "      <th>PassengerId</th>\n",
       "      <th>Survived</th>\n",
       "      <th>Pclass</th>\n",
       "      <th>Sex</th>\n",
       "      <th>Age</th>\n",
       "      <th>SibSp</th>\n",
       "      <th>Parch</th>\n",
       "      <th>Cabin</th>\n",
       "      <th>Embarked</th>\n",
       "      <th>title</th>\n",
       "      <th>in_WCF</th>\n",
       "      <th>WCF_Died</th>\n",
       "      <th>WCF_Survived</th>\n",
       "      <th>family_size</th>\n",
       "      <th>ticket_group_count</th>\n",
       "      <th>group_size</th>\n",
       "      <th>is_alone</th>\n",
       "      <th>fare_pp</th>\n",
       "    </tr>\n",
       "  </thead>\n",
       "  <tbody>\n",
       "    <tr>\n",
       "      <th>1043</th>\n",
       "      <td>1044</td>\n",
       "      <td>NaN</td>\n",
       "      <td>3</td>\n",
       "      <td>male</td>\n",
       "      <td>60.5</td>\n",
       "      <td>0</td>\n",
       "      <td>0</td>\n",
       "      <td>NaN</td>\n",
       "      <td>S</td>\n",
       "      <td>Mr</td>\n",
       "      <td>0.0</td>\n",
       "      <td>0.0</td>\n",
       "      <td>0.0</td>\n",
       "      <td>1</td>\n",
       "      <td>1</td>\n",
       "      <td>1</td>\n",
       "      <td>1</td>\n",
       "      <td>NaN</td>\n",
       "    </tr>\n",
       "  </tbody>\n",
       "</table>\n",
       "</div>"
      ],
      "text/plain": [
       "      PassengerId  Survived  Pclass   Sex   Age  SibSp  Parch Cabin Embarked  \\\n",
       "1043         1044       NaN       3  male  60.5      0      0   NaN        S   \n",
       "\n",
       "     title  in_WCF  WCF_Died  WCF_Survived  family_size  ticket_group_count  \\\n",
       "1043    Mr     0.0       0.0           0.0            1                   1   \n",
       "\n",
       "      group_size  is_alone  fare_pp  \n",
       "1043           1         1      NaN  "
      ]
     },
     "execution_count": 1005,
     "metadata": {},
     "output_type": "execute_result"
    }
   ],
   "source": [
    "#Show one missing value\n",
    "alldata[alldata.fare_pp.isna()]"
   ]
  },
  {
   "cell_type": "code",
   "execution_count": 1006,
   "id": "217695d6-4c6c-4e2d-b192-4f0a2149029d",
   "metadata": {},
   "outputs": [
    {
     "data": {
      "text/html": [
       "<div>\n",
       "<style scoped>\n",
       "    .dataframe tbody tr th:only-of-type {\n",
       "        vertical-align: middle;\n",
       "    }\n",
       "\n",
       "    .dataframe tbody tr th {\n",
       "        vertical-align: top;\n",
       "    }\n",
       "\n",
       "    .dataframe thead th {\n",
       "        text-align: right;\n",
       "    }\n",
       "</style>\n",
       "<table border=\"1\" class=\"dataframe\">\n",
       "  <thead>\n",
       "    <tr style=\"text-align: right;\">\n",
       "      <th></th>\n",
       "      <th>count</th>\n",
       "      <th>mean</th>\n",
       "      <th>std</th>\n",
       "      <th>min</th>\n",
       "      <th>25%</th>\n",
       "      <th>50%</th>\n",
       "      <th>75%</th>\n",
       "      <th>max</th>\n",
       "    </tr>\n",
       "    <tr>\n",
       "      <th>Pclass</th>\n",
       "      <th></th>\n",
       "      <th></th>\n",
       "      <th></th>\n",
       "      <th></th>\n",
       "      <th></th>\n",
       "      <th></th>\n",
       "      <th></th>\n",
       "      <th></th>\n",
       "    </tr>\n",
       "  </thead>\n",
       "  <tbody>\n",
       "    <tr>\n",
       "      <th>1</th>\n",
       "      <td>323.0</td>\n",
       "      <td>33.910500</td>\n",
       "      <td>15.369762</td>\n",
       "      <td>0.0</td>\n",
       "      <td>26.550000</td>\n",
       "      <td>29.70</td>\n",
       "      <td>38.64375</td>\n",
       "      <td>128.0823</td>\n",
       "    </tr>\n",
       "    <tr>\n",
       "      <th>2</th>\n",
       "      <td>277.0</td>\n",
       "      <td>11.411010</td>\n",
       "      <td>2.632930</td>\n",
       "      <td>0.0</td>\n",
       "      <td>10.500000</td>\n",
       "      <td>12.35</td>\n",
       "      <td>13.00000</td>\n",
       "      <td>16.0000</td>\n",
       "    </tr>\n",
       "    <tr>\n",
       "      <th>3</th>\n",
       "      <td>708.0</td>\n",
       "      <td>7.329146</td>\n",
       "      <td>1.471362</td>\n",
       "      <td>0.0</td>\n",
       "      <td>7.060031</td>\n",
       "      <td>7.75</td>\n",
       "      <td>7.92500</td>\n",
       "      <td>19.9667</td>\n",
       "    </tr>\n",
       "  </tbody>\n",
       "</table>\n",
       "</div>"
      ],
      "text/plain": [
       "        count       mean        std  min        25%    50%       75%       max\n",
       "Pclass                                                                        \n",
       "1       323.0  33.910500  15.369762  0.0  26.550000  29.70  38.64375  128.0823\n",
       "2       277.0  11.411010   2.632930  0.0  10.500000  12.35  13.00000   16.0000\n",
       "3       708.0   7.329146   1.471362  0.0   7.060031   7.75   7.92500   19.9667"
      ]
     },
     "execution_count": 1006,
     "metadata": {},
     "output_type": "execute_result"
    }
   ],
   "source": [
    "alldata.groupby('Pclass')['fare_pp'].describe()"
   ]
  },
  {
   "cell_type": "code",
   "execution_count": 1007,
   "id": "779cbbef-074e-4ca4-962f-5496fe5870ec",
   "metadata": {},
   "outputs": [],
   "source": [
    "#Fill missing value feature fare_pp by median\n",
    "alldata.loc[alldata[alldata.fare_pp.isna()].index, 'fare_pp'] = alldata.groupby('Pclass')['fare_pp'].median()[3]"
   ]
  },
  {
   "cell_type": "code",
   "execution_count": 1008,
   "id": "1811698d-69e1-4bed-a60f-af9d7ce1d6f9",
   "metadata": {},
   "outputs": [
    {
     "name": "stdout",
     "output_type": "stream",
     "text": [
      "<class 'pandas.core.frame.DataFrame'>\n",
      "RangeIndex: 1309 entries, 0 to 1308\n",
      "Data columns (total 18 columns):\n",
      " #   Column              Non-Null Count  Dtype  \n",
      "---  ------              --------------  -----  \n",
      " 0   PassengerId         1309 non-null   int64  \n",
      " 1   Survived            891 non-null    float64\n",
      " 2   Pclass              1309 non-null   int64  \n",
      " 3   Sex                 1309 non-null   object \n",
      " 4   Age                 1046 non-null   float64\n",
      " 5   SibSp               1309 non-null   int64  \n",
      " 6   Parch               1309 non-null   int64  \n",
      " 7   Cabin               295 non-null    object \n",
      " 8   Embarked            1307 non-null   object \n",
      " 9   title               1309 non-null   object \n",
      " 10  in_WCF              1309 non-null   float64\n",
      " 11  WCF_Died            1309 non-null   float64\n",
      " 12  WCF_Survived        1309 non-null   float64\n",
      " 13  family_size         1309 non-null   int64  \n",
      " 14  ticket_group_count  1309 non-null   int64  \n",
      " 15  group_size          1309 non-null   int64  \n",
      " 16  is_alone            1309 non-null   int64  \n",
      " 17  fare_pp             1309 non-null   float64\n",
      "dtypes: float64(6), int64(8), object(4)\n",
      "memory usage: 184.2+ KB\n"
     ]
    }
   ],
   "source": [
    "alldata.info()"
   ]
  },
  {
   "cell_type": "markdown",
   "id": "d48ba2dd-b23f-48dc-b11c-35fa1a2d2130",
   "metadata": {},
   "source": [
    "### Categorizing Passengers by `Age`"
   ]
  },
  {
   "cell_type": "markdown",
   "id": "aece9dd1-32ad-4424-a351-81381077f77f",
   "metadata": {},
   "source": [
    "##### Identify categories with higher survival rates to convert the Age feature into a discrete feature by using the k-means algorithm for 4 clusters."
   ]
  },
  {
   "cell_type": "code",
   "execution_count": 1009,
   "id": "5d9ce9be-bfe2-465f-9ebf-cdc06802ebcd",
   "metadata": {},
   "outputs": [],
   "source": [
    "# Train age and test age \n",
    "train_age = alldata[alldata.Age.notnull()].copy()\n",
    "test_age = alldata[alldata.Age.isna()].copy()"
   ]
  },
  {
   "cell_type": "code",
   "execution_count": 1010,
   "id": "496e640b-bcb7-4854-8173-ad557ebe784c",
   "metadata": {},
   "outputs": [],
   "source": [
    "# Fit to the data\n",
    "kmeans = KMeans(n_clusters = 4, random_state = 41)\n",
    "labels_pred = kmeans.fit_predict(train_age[['Age']])"
   ]
  },
  {
   "cell_type": "code",
   "execution_count": 1011,
   "id": "750f38b9-efb7-463a-ba45-afa4ccf5e973",
   "metadata": {},
   "outputs": [
    {
     "data": {
      "text/plain": [
       "array([21.5654321 , 52.97043011, 34.10814607,  5.31989899])"
      ]
     },
     "execution_count": 1011,
     "metadata": {},
     "output_type": "execute_result"
    }
   ],
   "source": [
    "# Flatten array of the cluster centers from a fitted k-means clustering\n",
    "kmeans.cluster_centers_.flatten()"
   ]
  },
  {
   "cell_type": "code",
   "execution_count": 1012,
   "id": "cc3631c3-82ef-437c-b3cb-46383cab64ae",
   "metadata": {},
   "outputs": [
    {
     "data": {
      "text/plain": [
       "array([3, 0, 2, 1])"
      ]
     },
     "execution_count": 1012,
     "metadata": {},
     "output_type": "execute_result"
    }
   ],
   "source": [
    "# Sort the array in ascending order\n",
    "np.argsort(kmeans.cluster_centers_.flatten())"
   ]
  },
  {
   "cell_type": "code",
   "execution_count": 1013,
   "id": "e998cb4d-5e05-4b65-8b42-257c3740ad9c",
   "metadata": {},
   "outputs": [
    {
     "data": {
      "text/plain": [
       "{3: 0, 0: 1, 2: 2, 1: 3}"
      ]
     },
     "execution_count": 1013,
     "metadata": {},
     "output_type": "execute_result"
    }
   ],
   "source": [
    "# dictionary to label the clusters\n",
    "label_dict = {label: v for v, label in enumerate(np.argsort(kmeans.cluster_centers_.flatten()))}\n",
    "label_dict "
   ]
  },
  {
   "cell_type": "code",
   "execution_count": 1014,
   "id": "a843be7b-de05-4e2f-9f0e-468a95ddb744",
   "metadata": {},
   "outputs": [
    {
     "data": {
      "text/plain": [
       "[1, 2, 1, 2, 2, 3, 0, 1, 1, 0]"
      ]
     },
     "execution_count": 1014,
     "metadata": {},
     "output_type": "execute_result"
    }
   ],
   "source": [
    "labels = [label_dict[label] for label in labels_pred]\n",
    "labels[:10]"
   ]
  },
  {
   "cell_type": "code",
   "execution_count": 1015,
   "id": "1e9904e0-0e8f-417b-ab40-e13b78f1d566",
   "metadata": {},
   "outputs": [],
   "source": [
    "train_age['Age_category'] = labels"
   ]
  },
  {
   "cell_type": "code",
   "execution_count": 1016,
   "id": "b203b3d6-c8eb-4a25-a3f5-5179fb772330",
   "metadata": {},
   "outputs": [
    {
     "data": {
      "image/png": "[encoded data removed]",
      "text/plain": [
       "<Figure size 606.611x500 with 1 Axes>"
      ]
     },
     "metadata": {},
     "output_type": "display_data"
    }
   ],
   "source": [
    "# Visualizing new age clusters\n",
    "sns.catplot(y='Age', data=train_age, hue='Age_category', jitter=0.8)\n",
    "plt.title('Passenger Age Categories')\n",
    "plt.show()"
   ]
  },
  {
   "cell_type": "code",
   "execution_count": 1017,
   "id": "09a9339d-9415-4099-a44d-14f862294add",
   "metadata": {},
   "outputs": [
    {
     "data": {
      "text/plain": [
       "Age_category\n",
       "0    0.591549\n",
       "1    0.372180\n",
       "2    0.407115\n",
       "3    0.370968\n",
       "Name: Survived, dtype: float64"
      ]
     },
     "execution_count": 1017,
     "metadata": {},
     "output_type": "execute_result"
    }
   ],
   "source": [
    "# Survival rates by age category\n",
    "train_age.groupby(['Age_category'])['Survived'].mean()"
   ]
  },
  {
   "cell_type": "code",
   "execution_count": 1018,
   "id": "3b2c8c83-323e-4c3a-b2fc-855a425fcca3",
   "metadata": {},
   "outputs": [
    {
     "data": {
      "image/png": "[encoded data removed]",
      "text/plain": [
       "<Figure size 640x480 with 1 Axes>"
      ]
     },
     "metadata": {},
     "output_type": "display_data"
    }
   ],
   "source": [
    "train_age.groupby(['Age_category'])['Survived'].value_counts(normalize = True).unstack()[1].plot.bar(\n",
    "color = ['red'], alpha=0.7)\n",
    "plt.title('Survival rates by age category')\n",
    "plt.yticks(ticks=np.arange(0,1.1,0.1), labels = np.arange(0, 110, 10))\n",
    "plt.show()"
   ]
  },
  {
   "cell_type": "code",
   "execution_count": 1019,
   "id": "fb270fb4-2a08-4037-b615-73c70ce5a496",
   "metadata": {},
   "outputs": [
    {
     "data": {
      "text/html": [
       "<div>\n",
       "<style scoped>\n",
       "    .dataframe tbody tr th:only-of-type {\n",
       "        vertical-align: middle;\n",
       "    }\n",
       "\n",
       "    .dataframe tbody tr th {\n",
       "        vertical-align: top;\n",
       "    }\n",
       "\n",
       "    .dataframe thead th {\n",
       "        text-align: right;\n",
       "    }\n",
       "</style>\n",
       "<table border=\"1\" class=\"dataframe\">\n",
       "  <thead>\n",
       "    <tr style=\"text-align: right;\">\n",
       "      <th>Sex</th>\n",
       "      <th>female</th>\n",
       "      <th>male</th>\n",
       "    </tr>\n",
       "    <tr>\n",
       "      <th>Age_category</th>\n",
       "      <th></th>\n",
       "      <th></th>\n",
       "    </tr>\n",
       "  </thead>\n",
       "  <tbody>\n",
       "    <tr>\n",
       "      <th>0</th>\n",
       "      <td>0.617647</td>\n",
       "      <td>0.567568</td>\n",
       "    </tr>\n",
       "    <tr>\n",
       "      <th>1</th>\n",
       "      <td>0.747475</td>\n",
       "      <td>0.149701</td>\n",
       "    </tr>\n",
       "    <tr>\n",
       "      <th>2</th>\n",
       "      <td>0.797753</td>\n",
       "      <td>0.195122</td>\n",
       "    </tr>\n",
       "    <tr>\n",
       "      <th>3</th>\n",
       "      <td>0.794872</td>\n",
       "      <td>0.176471</td>\n",
       "    </tr>\n",
       "  </tbody>\n",
       "</table>\n",
       "</div>"
      ],
      "text/plain": [
       "Sex             female      male\n",
       "Age_category                    \n",
       "0             0.617647  0.567568\n",
       "1             0.747475  0.149701\n",
       "2             0.797753  0.195122\n",
       "3             0.794872  0.176471"
      ]
     },
     "execution_count": 1019,
     "metadata": {},
     "output_type": "execute_result"
    }
   ],
   "source": [
    "train_age.groupby(['Age_category', 'Sex'])['Survived'].mean().unstack()"
   ]
  },
  {
   "cell_type": "code",
   "execution_count": 1020,
   "id": "428fb972-5a1e-4144-aad6-d914d99f36b7",
   "metadata": {},
   "outputs": [
    {
     "data": {
      "image/png": "[encoded data removed]",
      "text/plain": [
       "<Figure size 640x480 with 1 Axes>"
      ]
     },
     "metadata": {},
     "output_type": "display_data"
    }
   ],
   "source": [
    "train_age.groupby(['Age_category', 'Sex'])['Survived'].mean().unstack().plot.bar(\n",
    "color = ['red', 'green'])\n",
    "plt.title('Survival Rate by Age Category and Gender')\n",
    "plt.yticks(ticks=np.arange(0,1.1,0.1), labels=np.arange(0,110,10))\n",
    "plt.ylabel('Percent')\n",
    "plt.show()"
   ]
  },
  {
   "cell_type": "code",
   "execution_count": 1021,
   "id": "75428f4f-937d-49f6-b239-11668da4e57c",
   "metadata": {},
   "outputs": [
    {
     "data": {
      "image/png": "[encoded data removed]",
      "text/plain": [
       "<Figure size 1200x800 with 1 Axes>"
      ]
     },
     "metadata": {},
     "output_type": "display_data"
    }
   ],
   "source": [
    "train_age.groupby(['Age_category', 'Pclass', 'Sex'])['Survived'].mean().unstack().plot.bar(\n",
    "figsize=(12,8), color = ['red', 'green'])\n",
    "plt.title('Survival rate by age category, pclass, and gender')\n",
    "plt.yticks(ticks=np.arange(0,1.1,0.1), labels=np.arange(0,110,10))\n",
    "plt.ylabel('Percentage')\n",
    "plt.xlabel('[Age Category, Pclass]')\n",
    "plt.show()"
   ]
  },
  {
   "cell_type": "code",
   "execution_count": 1022,
   "id": "25bb13cc-2fb9-460e-b7c3-9b00608b754a",
   "metadata": {},
   "outputs": [],
   "source": [
    "alldata = pd.concat([alldata, train_age.Age_category], axis = 1)"
   ]
  },
  {
   "cell_type": "code",
   "execution_count": 1023,
   "id": "e4057cb3-7cdf-4018-824f-beb106a7c85c",
   "metadata": {},
   "outputs": [],
   "source": [
    "alldata.drop(['PassengerId', 'Cabin', 'Age'], axis = 1, inplace = True)"
   ]
  },
  {
   "cell_type": "code",
   "execution_count": 1024,
   "id": "a46dc8af-ff5a-4996-9a78-511a54c87c7d",
   "metadata": {},
   "outputs": [
    {
     "name": "stdout",
     "output_type": "stream",
     "text": [
      "<class 'pandas.core.frame.DataFrame'>\n",
      "RangeIndex: 1309 entries, 0 to 1308\n",
      "Data columns (total 16 columns):\n",
      " #   Column              Non-Null Count  Dtype  \n",
      "---  ------              --------------  -----  \n",
      " 0   Survived            891 non-null    float64\n",
      " 1   Pclass              1309 non-null   int64  \n",
      " 2   Sex                 1309 non-null   object \n",
      " 3   SibSp               1309 non-null   int64  \n",
      " 4   Parch               1309 non-null   int64  \n",
      " 5   Embarked            1307 non-null   object \n",
      " 6   title               1309 non-null   object \n",
      " 7   in_WCF              1309 non-null   float64\n",
      " 8   WCF_Died            1309 non-null   float64\n",
      " 9   WCF_Survived        1309 non-null   float64\n",
      " 10  family_size         1309 non-null   int64  \n",
      " 11  ticket_group_count  1309 non-null   int64  \n",
      " 12  group_size          1309 non-null   int64  \n",
      " 13  is_alone            1309 non-null   int64  \n",
      " 14  fare_pp             1309 non-null   float64\n",
      " 15  Age_category        1046 non-null   float64\n",
      "dtypes: float64(6), int64(7), object(3)\n",
      "memory usage: 163.8+ KB\n"
     ]
    }
   ],
   "source": [
    "alldata.info()"
   ]
  },
  {
   "cell_type": "code",
   "execution_count": 1025,
   "id": "1cec4637-0985-40f9-99a9-fed143800276",
   "metadata": {},
   "outputs": [
    {
     "data": {
      "text/html": [
       "<div>\n",
       "<style scoped>\n",
       "    .dataframe tbody tr th:only-of-type {\n",
       "        vertical-align: middle;\n",
       "    }\n",
       "\n",
       "    .dataframe tbody tr th {\n",
       "        vertical-align: top;\n",
       "    }\n",
       "\n",
       "    .dataframe thead th {\n",
       "        text-align: right;\n",
       "    }\n",
       "</style>\n",
       "<table border=\"1\" class=\"dataframe\">\n",
       "  <thead>\n",
       "    <tr style=\"text-align: right;\">\n",
       "      <th></th>\n",
       "      <th>Survived</th>\n",
       "      <th>Pclass</th>\n",
       "      <th>Sex</th>\n",
       "      <th>SibSp</th>\n",
       "      <th>Parch</th>\n",
       "      <th>Embarked</th>\n",
       "      <th>title</th>\n",
       "      <th>in_WCF</th>\n",
       "      <th>WCF_Died</th>\n",
       "      <th>WCF_Survived</th>\n",
       "      <th>family_size</th>\n",
       "      <th>ticket_group_count</th>\n",
       "      <th>group_size</th>\n",
       "      <th>is_alone</th>\n",
       "      <th>fare_pp</th>\n",
       "      <th>Age_category</th>\n",
       "    </tr>\n",
       "  </thead>\n",
       "  <tbody>\n",
       "    <tr>\n",
       "      <th>0</th>\n",
       "      <td>0.0</td>\n",
       "      <td>3</td>\n",
       "      <td>male</td>\n",
       "      <td>1</td>\n",
       "      <td>0</td>\n",
       "      <td>S</td>\n",
       "      <td>Mr</td>\n",
       "      <td>0.0</td>\n",
       "      <td>0.0</td>\n",
       "      <td>0.0</td>\n",
       "      <td>2</td>\n",
       "      <td>1</td>\n",
       "      <td>2</td>\n",
       "      <td>0</td>\n",
       "      <td>7.25000</td>\n",
       "      <td>1.0</td>\n",
       "    </tr>\n",
       "    <tr>\n",
       "      <th>1</th>\n",
       "      <td>1.0</td>\n",
       "      <td>1</td>\n",
       "      <td>female</td>\n",
       "      <td>1</td>\n",
       "      <td>0</td>\n",
       "      <td>C</td>\n",
       "      <td>Mrs</td>\n",
       "      <td>0.0</td>\n",
       "      <td>0.0</td>\n",
       "      <td>0.0</td>\n",
       "      <td>2</td>\n",
       "      <td>2</td>\n",
       "      <td>2</td>\n",
       "      <td>0</td>\n",
       "      <td>35.64165</td>\n",
       "      <td>2.0</td>\n",
       "    </tr>\n",
       "    <tr>\n",
       "      <th>2</th>\n",
       "      <td>1.0</td>\n",
       "      <td>3</td>\n",
       "      <td>female</td>\n",
       "      <td>0</td>\n",
       "      <td>0</td>\n",
       "      <td>S</td>\n",
       "      <td>Miss</td>\n",
       "      <td>0.0</td>\n",
       "      <td>0.0</td>\n",
       "      <td>0.0</td>\n",
       "      <td>1</td>\n",
       "      <td>1</td>\n",
       "      <td>1</td>\n",
       "      <td>1</td>\n",
       "      <td>7.92500</td>\n",
       "      <td>1.0</td>\n",
       "    </tr>\n",
       "    <tr>\n",
       "      <th>3</th>\n",
       "      <td>1.0</td>\n",
       "      <td>1</td>\n",
       "      <td>female</td>\n",
       "      <td>1</td>\n",
       "      <td>0</td>\n",
       "      <td>S</td>\n",
       "      <td>Mrs</td>\n",
       "      <td>0.0</td>\n",
       "      <td>0.0</td>\n",
       "      <td>0.0</td>\n",
       "      <td>2</td>\n",
       "      <td>2</td>\n",
       "      <td>2</td>\n",
       "      <td>0</td>\n",
       "      <td>26.55000</td>\n",
       "      <td>2.0</td>\n",
       "    </tr>\n",
       "    <tr>\n",
       "      <th>4</th>\n",
       "      <td>0.0</td>\n",
       "      <td>3</td>\n",
       "      <td>male</td>\n",
       "      <td>0</td>\n",
       "      <td>0</td>\n",
       "      <td>S</td>\n",
       "      <td>Mr</td>\n",
       "      <td>0.0</td>\n",
       "      <td>0.0</td>\n",
       "      <td>0.0</td>\n",
       "      <td>1</td>\n",
       "      <td>1</td>\n",
       "      <td>1</td>\n",
       "      <td>1</td>\n",
       "      <td>8.05000</td>\n",
       "      <td>2.0</td>\n",
       "    </tr>\n",
       "  </tbody>\n",
       "</table>\n",
       "</div>"
      ],
      "text/plain": [
       "   Survived  Pclass     Sex  SibSp  Parch Embarked title  in_WCF  WCF_Died  \\\n",
       "0       0.0       3    male      1      0        S    Mr     0.0       0.0   \n",
       "1       1.0       1  female      1      0        C   Mrs     0.0       0.0   \n",
       "2       1.0       3  female      0      0        S  Miss     0.0       0.0   \n",
       "3       1.0       1  female      1      0        S   Mrs     0.0       0.0   \n",
       "4       0.0       3    male      0      0        S    Mr     0.0       0.0   \n",
       "\n",
       "   WCF_Survived  family_size  ticket_group_count  group_size  is_alone  \\\n",
       "0           0.0            2                   1           2         0   \n",
       "1           0.0            2                   2           2         0   \n",
       "2           0.0            1                   1           1         1   \n",
       "3           0.0            2                   2           2         0   \n",
       "4           0.0            1                   1           1         1   \n",
       "\n",
       "    fare_pp  Age_category  \n",
       "0   7.25000           1.0  \n",
       "1  35.64165           2.0  \n",
       "2   7.92500           1.0  \n",
       "3  26.55000           2.0  \n",
       "4   8.05000           2.0  "
      ]
     },
     "execution_count": 1025,
     "metadata": {},
     "output_type": "execute_result"
    }
   ],
   "source": [
    "alldata.head()"
   ]
  },
  {
   "cell_type": "markdown",
   "id": "2dc8f30b-3c84-422a-8f69-6cb1194f492f",
   "metadata": {},
   "source": [
    "### Missing values for Embarked"
   ]
  },
  {
   "cell_type": "code",
   "execution_count": 1026,
   "id": "5eb19f85-c04e-427d-8bdf-0cf62cb4f317",
   "metadata": {},
   "outputs": [
    {
     "data": {
      "image/png": "[encoded data removed]",
      "text/plain": [
       "<Figure size 640x480 with 1 Axes>"
      ]
     },
     "metadata": {},
     "output_type": "display_data"
    }
   ],
   "source": [
    "alldata.Embarked.value_counts().plot.bar()\n",
    "plt.title('Titanic Embarkation Points')\n",
    "plt.ylabel('Passengers')\n",
    "plt.xlabel('Ports [S:Southampton, C:Cherbourg, Q:Queesntown]')\n",
    "plt.show()"
   ]
  },
  {
   "cell_type": "code",
   "execution_count": 1027,
   "id": "1ac1c544-dee4-4f22-aff9-00e28db47680",
   "metadata": {},
   "outputs": [
    {
     "data": {
      "text/html": [
       "<div>\n",
       "<style scoped>\n",
       "    .dataframe tbody tr th:only-of-type {\n",
       "        vertical-align: middle;\n",
       "    }\n",
       "\n",
       "    .dataframe tbody tr th {\n",
       "        vertical-align: top;\n",
       "    }\n",
       "\n",
       "    .dataframe thead th {\n",
       "        text-align: right;\n",
       "    }\n",
       "</style>\n",
       "<table border=\"1\" class=\"dataframe\">\n",
       "  <thead>\n",
       "    <tr style=\"text-align: right;\">\n",
       "      <th></th>\n",
       "      <th>Survived</th>\n",
       "      <th>Pclass</th>\n",
       "      <th>Sex</th>\n",
       "      <th>SibSp</th>\n",
       "      <th>Parch</th>\n",
       "      <th>Embarked</th>\n",
       "      <th>title</th>\n",
       "      <th>in_WCF</th>\n",
       "      <th>WCF_Died</th>\n",
       "      <th>WCF_Survived</th>\n",
       "      <th>family_size</th>\n",
       "      <th>ticket_group_count</th>\n",
       "      <th>group_size</th>\n",
       "      <th>is_alone</th>\n",
       "      <th>fare_pp</th>\n",
       "      <th>Age_category</th>\n",
       "    </tr>\n",
       "  </thead>\n",
       "  <tbody>\n",
       "    <tr>\n",
       "      <th>61</th>\n",
       "      <td>1.0</td>\n",
       "      <td>1</td>\n",
       "      <td>female</td>\n",
       "      <td>0</td>\n",
       "      <td>0</td>\n",
       "      <td>NaN</td>\n",
       "      <td>Miss</td>\n",
       "      <td>0.0</td>\n",
       "      <td>0.0</td>\n",
       "      <td>0.0</td>\n",
       "      <td>1</td>\n",
       "      <td>2</td>\n",
       "      <td>2</td>\n",
       "      <td>0</td>\n",
       "      <td>40.0</td>\n",
       "      <td>2.0</td>\n",
       "    </tr>\n",
       "    <tr>\n",
       "      <th>829</th>\n",
       "      <td>1.0</td>\n",
       "      <td>1</td>\n",
       "      <td>female</td>\n",
       "      <td>0</td>\n",
       "      <td>0</td>\n",
       "      <td>NaN</td>\n",
       "      <td>Mrs</td>\n",
       "      <td>0.0</td>\n",
       "      <td>0.0</td>\n",
       "      <td>0.0</td>\n",
       "      <td>1</td>\n",
       "      <td>2</td>\n",
       "      <td>2</td>\n",
       "      <td>0</td>\n",
       "      <td>40.0</td>\n",
       "      <td>3.0</td>\n",
       "    </tr>\n",
       "  </tbody>\n",
       "</table>\n",
       "</div>"
      ],
      "text/plain": [
       "     Survived  Pclass     Sex  SibSp  Parch Embarked title  in_WCF  WCF_Died  \\\n",
       "61        1.0       1  female      0      0      NaN  Miss     0.0       0.0   \n",
       "829       1.0       1  female      0      0      NaN   Mrs     0.0       0.0   \n",
       "\n",
       "     WCF_Survived  family_size  ticket_group_count  group_size  is_alone  \\\n",
       "61            0.0            1                   2           2         0   \n",
       "829           0.0            1                   2           2         0   \n",
       "\n",
       "     fare_pp  Age_category  \n",
       "61      40.0           2.0  \n",
       "829     40.0           3.0  "
      ]
     },
     "execution_count": 1027,
     "metadata": {},
     "output_type": "execute_result"
    }
   ],
   "source": [
    "alldata[alldata.Embarked.isnull()]"
   ]
  },
  {
   "cell_type": "code",
   "execution_count": 1028,
   "id": "9ca7d9a6-c971-4389-9643-88efe2abc591",
   "metadata": {},
   "outputs": [],
   "source": [
    "alldata.loc[alldata.Embarked.isnull(), 'Embarked'] = 'S'"
   ]
  },
  {
   "cell_type": "code",
   "execution_count": 1029,
   "id": "7277cd6b-6cf1-4237-b750-26d776f79895",
   "metadata": {},
   "outputs": [
    {
     "name": "stdout",
     "output_type": "stream",
     "text": [
      "<class 'pandas.core.frame.DataFrame'>\n",
      "RangeIndex: 1309 entries, 0 to 1308\n",
      "Data columns (total 16 columns):\n",
      " #   Column              Non-Null Count  Dtype  \n",
      "---  ------              --------------  -----  \n",
      " 0   Survived            891 non-null    float64\n",
      " 1   Pclass              1309 non-null   int64  \n",
      " 2   Sex                 1309 non-null   object \n",
      " 3   SibSp               1309 non-null   int64  \n",
      " 4   Parch               1309 non-null   int64  \n",
      " 5   Embarked            1309 non-null   object \n",
      " 6   title               1309 non-null   object \n",
      " 7   in_WCF              1309 non-null   float64\n",
      " 8   WCF_Died            1309 non-null   float64\n",
      " 9   WCF_Survived        1309 non-null   float64\n",
      " 10  family_size         1309 non-null   int64  \n",
      " 11  ticket_group_count  1309 non-null   int64  \n",
      " 12  group_size          1309 non-null   int64  \n",
      " 13  is_alone            1309 non-null   int64  \n",
      " 14  fare_pp             1309 non-null   float64\n",
      " 15  Age_category        1046 non-null   float64\n",
      "dtypes: float64(6), int64(7), object(3)\n",
      "memory usage: 163.8+ KB\n"
     ]
    }
   ],
   "source": [
    "alldata.info()"
   ]
  },
  {
   "cell_type": "markdown",
   "id": "7aa55379-78ff-4c2c-a1c7-eea827bc4590",
   "metadata": {},
   "source": [
    "### Preprocessing - OneHotEncoding"
   ]
  },
  {
   "cell_type": "code",
   "execution_count": 1030,
   "id": "4b5b2fb3-8662-4d9c-98f0-1fb41c21138b",
   "metadata": {},
   "outputs": [],
   "source": [
    "preprocessing_dummies = pd.get_dummies(alldata[['Pclass', 'Sex', 'Embarked', 'title']],\n",
    "               columns = ['Pclass', 'Sex', 'Embarked', 'title'],\n",
    "               prefix = ['pclass', 'sex', 'embarked', 'title'],\n",
    "               drop_first= False\n",
    "              )"
   ]
  },
  {
   "cell_type": "code",
   "execution_count": 1031,
   "id": "e4f56297-ae76-481c-860f-5a812621a337",
   "metadata": {},
   "outputs": [
    {
     "name": "stdout",
     "output_type": "stream",
     "text": [
      "<class 'pandas.core.frame.DataFrame'>\n",
      "RangeIndex: 1309 entries, 0 to 1308\n",
      "Data columns (total 13 columns):\n",
      " #   Column        Non-Null Count  Dtype\n",
      "---  ------        --------------  -----\n",
      " 0   pclass_1      1309 non-null   uint8\n",
      " 1   pclass_2      1309 non-null   uint8\n",
      " 2   pclass_3      1309 non-null   uint8\n",
      " 3   sex_female    1309 non-null   uint8\n",
      " 4   sex_male      1309 non-null   uint8\n",
      " 5   embarked_C    1309 non-null   uint8\n",
      " 6   embarked_Q    1309 non-null   uint8\n",
      " 7   embarked_S    1309 non-null   uint8\n",
      " 8   title_Master  1309 non-null   uint8\n",
      " 9   title_Miss    1309 non-null   uint8\n",
      " 10  title_Mr      1309 non-null   uint8\n",
      " 11  title_Mrs     1309 non-null   uint8\n",
      " 12  title_rare    1309 non-null   uint8\n",
      "dtypes: uint8(13)\n",
      "memory usage: 16.7 KB\n"
     ]
    }
   ],
   "source": [
    "preprocessing_dummies.info()"
   ]
  },
  {
   "cell_type": "code",
   "execution_count": 1032,
   "id": "0de44fd7-4528-435c-aa85-548184475cd5",
   "metadata": {},
   "outputs": [
    {
     "data": {
      "text/html": [
       "<div>\n",
       "<style scoped>\n",
       "    .dataframe tbody tr th:only-of-type {\n",
       "        vertical-align: middle;\n",
       "    }\n",
       "\n",
       "    .dataframe tbody tr th {\n",
       "        vertical-align: top;\n",
       "    }\n",
       "\n",
       "    .dataframe thead th {\n",
       "        text-align: right;\n",
       "    }\n",
       "</style>\n",
       "<table border=\"1\" class=\"dataframe\">\n",
       "  <thead>\n",
       "    <tr style=\"text-align: right;\">\n",
       "      <th></th>\n",
       "      <th>pclass_1</th>\n",
       "      <th>pclass_2</th>\n",
       "      <th>pclass_3</th>\n",
       "      <th>sex_female</th>\n",
       "      <th>sex_male</th>\n",
       "      <th>embarked_C</th>\n",
       "      <th>embarked_Q</th>\n",
       "      <th>embarked_S</th>\n",
       "      <th>title_Master</th>\n",
       "      <th>title_Miss</th>\n",
       "      <th>title_Mr</th>\n",
       "      <th>title_Mrs</th>\n",
       "      <th>title_rare</th>\n",
       "    </tr>\n",
       "  </thead>\n",
       "  <tbody>\n",
       "    <tr>\n",
       "      <th>0</th>\n",
       "      <td>0</td>\n",
       "      <td>0</td>\n",
       "      <td>1</td>\n",
       "      <td>0</td>\n",
       "      <td>1</td>\n",
       "      <td>0</td>\n",
       "      <td>0</td>\n",
       "      <td>1</td>\n",
       "      <td>0</td>\n",
       "      <td>0</td>\n",
       "      <td>1</td>\n",
       "      <td>0</td>\n",
       "      <td>0</td>\n",
       "    </tr>\n",
       "    <tr>\n",
       "      <th>1</th>\n",
       "      <td>1</td>\n",
       "      <td>0</td>\n",
       "      <td>0</td>\n",
       "      <td>1</td>\n",
       "      <td>0</td>\n",
       "      <td>1</td>\n",
       "      <td>0</td>\n",
       "      <td>0</td>\n",
       "      <td>0</td>\n",
       "      <td>0</td>\n",
       "      <td>0</td>\n",
       "      <td>1</td>\n",
       "      <td>0</td>\n",
       "    </tr>\n",
       "    <tr>\n",
       "      <th>2</th>\n",
       "      <td>0</td>\n",
       "      <td>0</td>\n",
       "      <td>1</td>\n",
       "      <td>1</td>\n",
       "      <td>0</td>\n",
       "      <td>0</td>\n",
       "      <td>0</td>\n",
       "      <td>1</td>\n",
       "      <td>0</td>\n",
       "      <td>1</td>\n",
       "      <td>0</td>\n",
       "      <td>0</td>\n",
       "      <td>0</td>\n",
       "    </tr>\n",
       "    <tr>\n",
       "      <th>3</th>\n",
       "      <td>1</td>\n",
       "      <td>0</td>\n",
       "      <td>0</td>\n",
       "      <td>1</td>\n",
       "      <td>0</td>\n",
       "      <td>0</td>\n",
       "      <td>0</td>\n",
       "      <td>1</td>\n",
       "      <td>0</td>\n",
       "      <td>0</td>\n",
       "      <td>0</td>\n",
       "      <td>1</td>\n",
       "      <td>0</td>\n",
       "    </tr>\n",
       "    <tr>\n",
       "      <th>4</th>\n",
       "      <td>0</td>\n",
       "      <td>0</td>\n",
       "      <td>1</td>\n",
       "      <td>0</td>\n",
       "      <td>1</td>\n",
       "      <td>0</td>\n",
       "      <td>0</td>\n",
       "      <td>1</td>\n",
       "      <td>0</td>\n",
       "      <td>0</td>\n",
       "      <td>1</td>\n",
       "      <td>0</td>\n",
       "      <td>0</td>\n",
       "    </tr>\n",
       "  </tbody>\n",
       "</table>\n",
       "</div>"
      ],
      "text/plain": [
       "   pclass_1  pclass_2  pclass_3  sex_female  sex_male  embarked_C  embarked_Q  \\\n",
       "0         0         0         1           0         1           0           0   \n",
       "1         1         0         0           1         0           1           0   \n",
       "2         0         0         1           1         0           0           0   \n",
       "3         1         0         0           1         0           0           0   \n",
       "4         0         0         1           0         1           0           0   \n",
       "\n",
       "   embarked_S  title_Master  title_Miss  title_Mr  title_Mrs  title_rare  \n",
       "0           1             0           0         1          0           0  \n",
       "1           0             0           0         0          1           0  \n",
       "2           1             0           1         0          0           0  \n",
       "3           1             0           0         0          1           0  \n",
       "4           1             0           0         1          0           0  "
      ]
     },
     "execution_count": 1032,
     "metadata": {},
     "output_type": "execute_result"
    }
   ],
   "source": [
    "preprocessing_dummies.head()"
   ]
  },
  {
   "cell_type": "code",
   "execution_count": 1033,
   "id": "cfaf9325-78c2-462c-bc21-54ed5a1dbc99",
   "metadata": {},
   "outputs": [],
   "source": [
    "alldata = pd.concat([alldata, preprocessing_dummies], axis = 1)"
   ]
  },
  {
   "cell_type": "code",
   "execution_count": 1034,
   "id": "5920c3d0-a944-4bdb-a002-cef503cfec00",
   "metadata": {},
   "outputs": [],
   "source": [
    "alldata.drop(['Pclass', 'Sex', 'Embarked', 'title'], axis = 1, inplace = True)\n"
   ]
  },
  {
   "cell_type": "code",
   "execution_count": 1035,
   "id": "d8ec3496-c4f3-443e-8b06-f80a6b74a00c",
   "metadata": {},
   "outputs": [
    {
     "name": "stdout",
     "output_type": "stream",
     "text": [
      "<class 'pandas.core.frame.DataFrame'>\n",
      "RangeIndex: 1309 entries, 0 to 1308\n",
      "Data columns (total 25 columns):\n",
      " #   Column              Non-Null Count  Dtype  \n",
      "---  ------              --------------  -----  \n",
      " 0   Survived            891 non-null    float64\n",
      " 1   SibSp               1309 non-null   int64  \n",
      " 2   Parch               1309 non-null   int64  \n",
      " 3   in_WCF              1309 non-null   float64\n",
      " 4   WCF_Died            1309 non-null   float64\n",
      " 5   WCF_Survived        1309 non-null   float64\n",
      " 6   family_size         1309 non-null   int64  \n",
      " 7   ticket_group_count  1309 non-null   int64  \n",
      " 8   group_size          1309 non-null   int64  \n",
      " 9   is_alone            1309 non-null   int64  \n",
      " 10  fare_pp             1309 non-null   float64\n",
      " 11  Age_category        1046 non-null   float64\n",
      " 12  pclass_1            1309 non-null   uint8  \n",
      " 13  pclass_2            1309 non-null   uint8  \n",
      " 14  pclass_3            1309 non-null   uint8  \n",
      " 15  sex_female          1309 non-null   uint8  \n",
      " 16  sex_male            1309 non-null   uint8  \n",
      " 17  embarked_C          1309 non-null   uint8  \n",
      " 18  embarked_Q          1309 non-null   uint8  \n",
      " 19  embarked_S          1309 non-null   uint8  \n",
      " 20  title_Master        1309 non-null   uint8  \n",
      " 21  title_Miss          1309 non-null   uint8  \n",
      " 22  title_Mr            1309 non-null   uint8  \n",
      " 23  title_Mrs           1309 non-null   uint8  \n",
      " 24  title_rare          1309 non-null   uint8  \n",
      "dtypes: float64(6), int64(6), uint8(13)\n",
      "memory usage: 139.5 KB\n"
     ]
    }
   ],
   "source": [
    "alldata.info()"
   ]
  },
  {
   "cell_type": "code",
   "execution_count": 1036,
   "id": "fc7a44f7-a8ff-4d92-aeb1-a4c932abac65",
   "metadata": {},
   "outputs": [
    {
     "data": {
      "text/html": [
       "<div>\n",
       "<style scoped>\n",
       "    .dataframe tbody tr th:only-of-type {\n",
       "        vertical-align: middle;\n",
       "    }\n",
       "\n",
       "    .dataframe tbody tr th {\n",
       "        vertical-align: top;\n",
       "    }\n",
       "\n",
       "    .dataframe thead th {\n",
       "        text-align: right;\n",
       "    }\n",
       "</style>\n",
       "<table border=\"1\" class=\"dataframe\">\n",
       "  <thead>\n",
       "    <tr style=\"text-align: right;\">\n",
       "      <th></th>\n",
       "      <th>Survived</th>\n",
       "      <th>SibSp</th>\n",
       "      <th>Parch</th>\n",
       "      <th>in_WCF</th>\n",
       "      <th>WCF_Died</th>\n",
       "      <th>WCF_Survived</th>\n",
       "      <th>family_size</th>\n",
       "      <th>ticket_group_count</th>\n",
       "      <th>group_size</th>\n",
       "      <th>is_alone</th>\n",
       "      <th>...</th>\n",
       "      <th>sex_female</th>\n",
       "      <th>sex_male</th>\n",
       "      <th>embarked_C</th>\n",
       "      <th>embarked_Q</th>\n",
       "      <th>embarked_S</th>\n",
       "      <th>title_Master</th>\n",
       "      <th>title_Miss</th>\n",
       "      <th>title_Mr</th>\n",
       "      <th>title_Mrs</th>\n",
       "      <th>title_rare</th>\n",
       "    </tr>\n",
       "  </thead>\n",
       "  <tbody>\n",
       "    <tr>\n",
       "      <th>0</th>\n",
       "      <td>0.0</td>\n",
       "      <td>1</td>\n",
       "      <td>0</td>\n",
       "      <td>0.0</td>\n",
       "      <td>0.0</td>\n",
       "      <td>0.0</td>\n",
       "      <td>2</td>\n",
       "      <td>1</td>\n",
       "      <td>2</td>\n",
       "      <td>0</td>\n",
       "      <td>...</td>\n",
       "      <td>0</td>\n",
       "      <td>1</td>\n",
       "      <td>0</td>\n",
       "      <td>0</td>\n",
       "      <td>1</td>\n",
       "      <td>0</td>\n",
       "      <td>0</td>\n",
       "      <td>1</td>\n",
       "      <td>0</td>\n",
       "      <td>0</td>\n",
       "    </tr>\n",
       "    <tr>\n",
       "      <th>1</th>\n",
       "      <td>1.0</td>\n",
       "      <td>1</td>\n",
       "      <td>0</td>\n",
       "      <td>0.0</td>\n",
       "      <td>0.0</td>\n",
       "      <td>0.0</td>\n",
       "      <td>2</td>\n",
       "      <td>2</td>\n",
       "      <td>2</td>\n",
       "      <td>0</td>\n",
       "      <td>...</td>\n",
       "      <td>1</td>\n",
       "      <td>0</td>\n",
       "      <td>1</td>\n",
       "      <td>0</td>\n",
       "      <td>0</td>\n",
       "      <td>0</td>\n",
       "      <td>0</td>\n",
       "      <td>0</td>\n",
       "      <td>1</td>\n",
       "      <td>0</td>\n",
       "    </tr>\n",
       "    <tr>\n",
       "      <th>2</th>\n",
       "      <td>1.0</td>\n",
       "      <td>0</td>\n",
       "      <td>0</td>\n",
       "      <td>0.0</td>\n",
       "      <td>0.0</td>\n",
       "      <td>0.0</td>\n",
       "      <td>1</td>\n",
       "      <td>1</td>\n",
       "      <td>1</td>\n",
       "      <td>1</td>\n",
       "      <td>...</td>\n",
       "      <td>1</td>\n",
       "      <td>0</td>\n",
       "      <td>0</td>\n",
       "      <td>0</td>\n",
       "      <td>1</td>\n",
       "      <td>0</td>\n",
       "      <td>1</td>\n",
       "      <td>0</td>\n",
       "      <td>0</td>\n",
       "      <td>0</td>\n",
       "    </tr>\n",
       "    <tr>\n",
       "      <th>3</th>\n",
       "      <td>1.0</td>\n",
       "      <td>1</td>\n",
       "      <td>0</td>\n",
       "      <td>0.0</td>\n",
       "      <td>0.0</td>\n",
       "      <td>0.0</td>\n",
       "      <td>2</td>\n",
       "      <td>2</td>\n",
       "      <td>2</td>\n",
       "      <td>0</td>\n",
       "      <td>...</td>\n",
       "      <td>1</td>\n",
       "      <td>0</td>\n",
       "      <td>0</td>\n",
       "      <td>0</td>\n",
       "      <td>1</td>\n",
       "      <td>0</td>\n",
       "      <td>0</td>\n",
       "      <td>0</td>\n",
       "      <td>1</td>\n",
       "      <td>0</td>\n",
       "    </tr>\n",
       "    <tr>\n",
       "      <th>4</th>\n",
       "      <td>0.0</td>\n",
       "      <td>0</td>\n",
       "      <td>0</td>\n",
       "      <td>0.0</td>\n",
       "      <td>0.0</td>\n",
       "      <td>0.0</td>\n",
       "      <td>1</td>\n",
       "      <td>1</td>\n",
       "      <td>1</td>\n",
       "      <td>1</td>\n",
       "      <td>...</td>\n",
       "      <td>0</td>\n",
       "      <td>1</td>\n",
       "      <td>0</td>\n",
       "      <td>0</td>\n",
       "      <td>1</td>\n",
       "      <td>0</td>\n",
       "      <td>0</td>\n",
       "      <td>1</td>\n",
       "      <td>0</td>\n",
       "      <td>0</td>\n",
       "    </tr>\n",
       "  </tbody>\n",
       "</table>\n",
       "<p>5 rows × 25 columns</p>\n",
       "</div>"
      ],
      "text/plain": [
       "   Survived  SibSp  Parch  in_WCF  WCF_Died  WCF_Survived  family_size  \\\n",
       "0       0.0      1      0     0.0       0.0           0.0            2   \n",
       "1       1.0      1      0     0.0       0.0           0.0            2   \n",
       "2       1.0      0      0     0.0       0.0           0.0            1   \n",
       "3       1.0      1      0     0.0       0.0           0.0            2   \n",
       "4       0.0      0      0     0.0       0.0           0.0            1   \n",
       "\n",
       "   ticket_group_count  group_size  is_alone  ...  sex_female  sex_male  \\\n",
       "0                   1           2         0  ...           0         1   \n",
       "1                   2           2         0  ...           1         0   \n",
       "2                   1           1         1  ...           1         0   \n",
       "3                   2           2         0  ...           1         0   \n",
       "4                   1           1         1  ...           0         1   \n",
       "\n",
       "   embarked_C  embarked_Q  embarked_S  title_Master  title_Miss  title_Mr  \\\n",
       "0           0           0           1             0           0         1   \n",
       "1           1           0           0             0           0         0   \n",
       "2           0           0           1             0           1         0   \n",
       "3           0           0           1             0           0         0   \n",
       "4           0           0           1             0           0         1   \n",
       "\n",
       "   title_Mrs  title_rare  \n",
       "0          0           0  \n",
       "1          1           0  \n",
       "2          0           0  \n",
       "3          1           0  \n",
       "4          0           0  \n",
       "\n",
       "[5 rows x 25 columns]"
      ]
     },
     "execution_count": 1036,
     "metadata": {},
     "output_type": "execute_result"
    }
   ],
   "source": [
    "alldata.head()"
   ]
  },
  {
   "cell_type": "markdown",
   "id": "46ca62c5-d323-42f1-942c-0493b3f3f19f",
   "metadata": {},
   "source": [
    "### Age Category - Imputation of Missing values"
   ]
  },
  {
   "cell_type": "code",
   "execution_count": 1037,
   "id": "e17dc683-fda9-4c78-9d13-cb906ad31e99",
   "metadata": {},
   "outputs": [],
   "source": [
    "X = alldata.loc[alldata.Age_category.notnull(), ['SibSp', 'Parch', 'in_WCF', 'WCF_Died', 'WCF_Survived',\n",
    "       'family_size', 'ticket_group_count', 'group_size', 'is_alone',\n",
    "       'fare_pp', 'pclass_1', 'pclass_2', 'pclass_3',\n",
    "       'sex_female', 'sex_male', 'embarked_C', 'embarked_Q', 'embarked_S',\n",
    "       'title_Master', 'title_Miss', 'title_Mr', 'title_Mrs', 'title_rare']].copy()"
   ]
  },
  {
   "cell_type": "code",
   "execution_count": 1038,
   "id": "906fa5dd-8dfc-405b-a03f-71c6a750b7fa",
   "metadata": {},
   "outputs": [],
   "source": [
    "y = alldata.loc[alldata.Age_category.notnull(), 'Age_category'].copy()"
   ]
  },
  {
   "cell_type": "code",
   "execution_count": 1039,
   "id": "5e515f40-4bc8-4175-9799-19b0f7ed6687",
   "metadata": {},
   "outputs": [],
   "source": [
    "scaler = StandardScaler()\n",
    "fare_pp_sc_X = pd.DataFrame(scaler.fit_transform(X[['fare_pp']]), columns=['fare_pp_sc'], index = X.index)\n",
    "X = pd.concat([X, fare_pp_sc_X], axis = 1).drop('fare_pp', axis=1)"
   ]
  },
  {
   "cell_type": "code",
   "execution_count": 1040,
   "id": "402f225f-1ce4-4619-b0d2-02e45d4a55b3",
   "metadata": {},
   "outputs": [],
   "source": [
    "# Testing multiple model to impute age\n",
    "models = {\n",
    "    'Logistic Regression': LogisticRegression(max_iter = 1000, random_state = 41),\n",
    "    'Random Forest Classifier': RandomForestClassifier(random_state = 41),\n",
    "    'Perceptron': Perceptron(random_state = 41),\n",
    "    'SGD Classifier': SGDClassifier(random_state = 41),\n",
    "    'Decision Tree Classifier': DecisionTreeClassifier(random_state = 41),\n",
    "    'K-Nearest Neighbors Classifier': KNeighborsClassifier(),\n",
    "    'Support Vector Machines (SVC)': SVC(random_state = 41),\n",
    "    'Gaussian Naive Bayes': GaussianNB(),\n",
    "    'Bagging Classifier' : BaggingClassifier(random_state = 41),\n",
    "    \"Gradient Boosting\": GradientBoostingClassifier(random_state=41),\n",
    "    'XGBC' : XGBClassifier(random_state = 41),\n",
    "    'Hist Gradient Boosting Classifier' : HistGradientBoostingClassifier(random_state = 41),\n",
    "    'LGBM' : LGBMClassifier(random_state = 41),\n",
    "    'ADABoost' : AdaBoostClassifier(random_state=41),\n",
    "    'ExtraTreesClassifier' : ExtraTreesClassifier(random_state = 41),\n",
    "    'RidgeClassifier' : RidgeClassifier(random_state = 41)\n",
    "}"
   ]
  },
  {
   "cell_type": "code",
   "execution_count": 1041,
   "id": "0e7d4b7d-f752-437b-a209-ca58f594bc83",
   "metadata": {},
   "outputs": [
    {
     "name": "stdout",
     "output_type": "stream",
     "text": [
      "Model Logistic Regression Average Accuracy Score is: 53.91% and the STD is: 5.03%\n",
      "Model Random Forest Classifier Average Accuracy Score is: 54.70% and the STD is: 6.56%\n",
      "Model Perceptron Average Accuracy Score is: 44.85% and the STD is: 7.44%\n",
      "Model SGD Classifier Average Accuracy Score is: 45.62% and the STD is: 9.37%\n",
      "Model Decision Tree Classifier Average Accuracy Score is: 54.22% and the STD is: 7.33%\n",
      "Model K-Nearest Neighbors Classifier Average Accuracy Score is: 51.85% and the STD is: 5.87%\n",
      "Model Support Vector Machines (SVC) Average Accuracy Score is: 57.25% and the STD is: 6.15%\n",
      "Model Gaussian Naive Bayes Average Accuracy Score is: 44.34% and the STD is: 4.74%\n",
      "Model Bagging Classifier Average Accuracy Score is: 53.26% and the STD is: 5.97%\n",
      "Model Gradient Boosting Average Accuracy Score is: 57.55% and the STD is: 6.61%\n",
      "Model XGBC Average Accuracy Score is: 57.28% and the STD is: 5.86%\n",
      "Model Hist Gradient Boosting Classifier Average Accuracy Score is: 57.28% and the STD is: 6.24%\n",
      "Model LGBM Average Accuracy Score is: 57.17% and the STD is: 5.88%\n",
      "Model ADABoost Average Accuracy Score is: 38.98% and the STD is: 4.90%\n",
      "Model ExtraTreesClassifier Average Accuracy Score is: 54.13% and the STD is: 8.15%\n",
      "Model RidgeClassifier Average Accuracy Score is: 52.00% and the STD is: 5.87%\n"
     ]
    }
   ],
   "source": [
    "scores = {}\n",
    "kf = KFold(n_splits=20, random_state=41, shuffle=True)\n",
    "for name, model in models.items():\n",
    "    cv = cross_val_score(model, X, y, cv = kf)\n",
    "    scores[name] = cv\n",
    "    print(f\"Model {name} Average Accuracy Score is: {np.mean(scores[name])*100:.2f}% and the STD is: {np.std(scores[name])*100:.2f}%\")"
   ]
  },
  {
   "cell_type": "code",
   "execution_count": 1042,
   "id": "f174b6ca-e5ab-4807-9561-d2e2a59a48bd",
   "metadata": {},
   "outputs": [
    {
     "data": {
      "image/png": "[encoded data removed]",
      "text/plain": [
       "<Figure size 640x480 with 1 Axes>"
      ]
     },
     "metadata": {},
     "output_type": "display_data"
    }
   ],
   "source": [
    "data = [value for value in scores.values()]\n",
    "labels = list(scores.keys())\n",
    "plt.boxplot(data, labels=labels, showmeans=True, vert=False)\n",
    "plt.show()"
   ]
  },
  {
   "cell_type": "code",
   "execution_count": 1043,
   "id": "4d6f47d3-5fac-4bb7-ac7f-d8e6c0e4f3cc",
   "metadata": {},
   "outputs": [
    {
     "data": {
      "text/html": [
       "<style>#sk-container-id-3 {color: black;background-color: white;}#sk-container-id-3 pre{padding: 0;}#sk-container-id-3 div.sk-toggleable {background-color: white;}#sk-container-id-3 label.sk-toggleable__label {cursor: pointer;display: block;width: 100%;margin-bottom: 0;padding: 0.3em;box-sizing: border-box;text-align: center;}#sk-container-id-3 label.sk-toggleable__label-arrow:before {content: \"▸\";float: left;margin-right: 0.25em;color: #696969;}#sk-container-id-3 label.sk-toggleable__label-arrow:hover:before {color: black;}#sk-container-id-3 div.sk-estimator:hover label.sk-toggleable__label-arrow:before {color: black;}#sk-container-id-3 div.sk-toggleable__content {max-height: 0;max-width: 0;overflow: hidden;text-align: left;background-color: #f0f8ff;}#sk-container-id-3 div.sk-toggleable__content pre {margin: 0.2em;color: black;border-radius: 0.25em;background-color: #f0f8ff;}#sk-container-id-3 input.sk-toggleable__control:checked~div.sk-toggleable__content {max-height: 200px;max-width: 100%;overflow: auto;}#sk-container-id-3 input.sk-toggleable__control:checked~label.sk-toggleable__label-arrow:before {content: \"▾\";}#sk-container-id-3 div.sk-estimator input.sk-toggleable__control:checked~label.sk-toggleable__label {background-color: #d4ebff;}#sk-container-id-3 div.sk-label input.sk-toggleable__control:checked~label.sk-toggleable__label {background-color: #d4ebff;}#sk-container-id-3 input.sk-hidden--visually {border: 0;clip: rect(1px 1px 1px 1px);clip: rect(1px, 1px, 1px, 1px);height: 1px;margin: -1px;overflow: hidden;padding: 0;position: absolute;width: 1px;}#sk-container-id-3 div.sk-estimator {font-family: monospace;background-color: #f0f8ff;border: 1px dotted black;border-radius: 0.25em;box-sizing: border-box;margin-bottom: 0.5em;}#sk-container-id-3 div.sk-estimator:hover {background-color: #d4ebff;}#sk-container-id-3 div.sk-parallel-item::after {content: \"\";width: 100%;border-bottom: 1px solid gray;flex-grow: 1;}#sk-container-id-3 div.sk-label:hover label.sk-toggleable__label {background-color: #d4ebff;}#sk-container-id-3 div.sk-serial::before {content: \"\";position: absolute;border-left: 1px solid gray;box-sizing: border-box;top: 0;bottom: 0;left: 50%;z-index: 0;}#sk-container-id-3 div.sk-serial {display: flex;flex-direction: column;align-items: center;background-color: white;padding-right: 0.2em;padding-left: 0.2em;position: relative;}#sk-container-id-3 div.sk-item {position: relative;z-index: 1;}#sk-container-id-3 div.sk-parallel {display: flex;align-items: stretch;justify-content: center;background-color: white;position: relative;}#sk-container-id-3 div.sk-item::before, #sk-container-id-3 div.sk-parallel-item::before {content: \"\";position: absolute;border-left: 1px solid gray;box-sizing: border-box;top: 0;bottom: 0;left: 50%;z-index: -1;}#sk-container-id-3 div.sk-parallel-item {display: flex;flex-direction: column;z-index: 1;position: relative;background-color: white;}#sk-container-id-3 div.sk-parallel-item:first-child::after {align-self: flex-end;width: 50%;}#sk-container-id-3 div.sk-parallel-item:last-child::after {align-self: flex-start;width: 50%;}#sk-container-id-3 div.sk-parallel-item:only-child::after {width: 0;}#sk-container-id-3 div.sk-dashed-wrapped {border: 1px dashed gray;margin: 0 0.4em 0.5em 0.4em;box-sizing: border-box;padding-bottom: 0.4em;background-color: white;}#sk-container-id-3 div.sk-label label {font-family: monospace;font-weight: bold;display: inline-block;line-height: 1.2em;}#sk-container-id-3 div.sk-label-container {text-align: center;}#sk-container-id-3 div.sk-container {/* jupyter's `normalize.less` sets `[hidden] { display: none; }` but bootstrap.min.css set `[hidden] { display: none !important; }` so we also need the `!important` here to be able to override the default hidden behavior on the sphinx rendered scikit-learn.org. See: https://github.com/scikit-learn/scikit-learn/issues/21755 */display: inline-block !important;position: relative;}#sk-container-id-3 div.sk-text-repr-fallback {display: none;}</style><div id=\"sk-container-id-3\" class=\"sk-top-container\"><div class=\"sk-text-repr-fallback\"><pre>SVC(random_state=41)</pre><b>In a Jupyter environment, please rerun this cell to show the HTML representation or trust the notebook. <br />On GitHub, the HTML representation is unable to render, please try loading this page with nbviewer.org.</b></div><div class=\"sk-container\" hidden><div class=\"sk-item\"><div class=\"sk-estimator sk-toggleable\"><input class=\"sk-toggleable__control sk-hidden--visually\" id=\"sk-estimator-id-3\" type=\"checkbox\" checked><label for=\"sk-estimator-id-3\" class=\"sk-toggleable__label sk-toggleable__label-arrow\">SVC</label><div class=\"sk-toggleable__content\"><pre>SVC(random_state=41)</pre></div></div></div></div></div>"
      ],
      "text/plain": [
       "SVC(random_state=41)"
      ]
     },
     "execution_count": 1043,
     "metadata": {},
     "output_type": "execute_result"
    }
   ],
   "source": [
    "# Fiting GBC on  X_train_a\n",
    "svc = SVC(random_state = 41)\n",
    "svc.fit(X, y)"
   ]
  },
  {
   "cell_type": "code",
   "execution_count": 1044,
   "id": "fe60ebbb-3b5a-4fab-bfcd-b979d8aab18b",
   "metadata": {},
   "outputs": [],
   "source": [
    "X_test_cat_age_imp =  alldata.loc[alldata.Age_category.isna(), ['SibSp', 'Parch', 'in_WCF', 'WCF_Died', 'WCF_Survived',\n",
    "       'family_size', 'ticket_group_count', 'group_size', 'is_alone',\n",
    "       'fare_pp', 'pclass_1', 'pclass_2', 'pclass_3',\n",
    "       'sex_female', 'sex_male', 'embarked_C', 'embarked_Q', 'embarked_S',\n",
    "       'title_Master', 'title_Miss', 'title_Mr', 'title_Mrs', 'title_rare']]"
   ]
  },
  {
   "cell_type": "code",
   "execution_count": 1045,
   "id": "7e86afe5-5784-4ca2-94dc-a01946eb1e71",
   "metadata": {},
   "outputs": [],
   "source": [
    "# scaling fare per passenger X_test_imputation\n",
    "fare_pp_sc_test_imputation = pd.DataFrame(scaler.transform(X_test_cat_age_imp[['fare_pp']]), columns =['fare_pp_sc'], index = X_test_cat_age_imp.index)"
   ]
  },
  {
   "cell_type": "code",
   "execution_count": 1046,
   "id": "e508b3e4-4082-4d84-80e7-c909f9ced162",
   "metadata": {},
   "outputs": [],
   "source": [
    "X_test_cat_age_imp = pd.concat([X_test_cat_age_imp, fare_pp_sc_test_imputation], axis = 1).drop('fare_pp', axis=1)"
   ]
  },
  {
   "cell_type": "code",
   "execution_count": 1047,
   "id": "b4349330-ebb9-49b8-a906-6050e88a50da",
   "metadata": {},
   "outputs": [],
   "source": [
    "imputation_cat_age = svc.predict(X_test_cat_age_imp)"
   ]
  },
  {
   "cell_type": "code",
   "execution_count": 1048,
   "id": "6fac71c3-47d8-4519-9863-40fd3c296ad4",
   "metadata": {},
   "outputs": [],
   "source": [
    "alldata.loc[alldata.Age_category.isnull(), 'Age_category'] = imputation_cat_age"
   ]
  },
  {
   "cell_type": "code",
   "execution_count": 1049,
   "id": "ef946586-5a5a-4bd1-ac0e-6858f3b704a9",
   "metadata": {},
   "outputs": [
    {
     "name": "stdout",
     "output_type": "stream",
     "text": [
      "<class 'pandas.core.frame.DataFrame'>\n",
      "RangeIndex: 1309 entries, 0 to 1308\n",
      "Data columns (total 25 columns):\n",
      " #   Column              Non-Null Count  Dtype  \n",
      "---  ------              --------------  -----  \n",
      " 0   Survived            891 non-null    float64\n",
      " 1   SibSp               1309 non-null   int64  \n",
      " 2   Parch               1309 non-null   int64  \n",
      " 3   in_WCF              1309 non-null   float64\n",
      " 4   WCF_Died            1309 non-null   float64\n",
      " 5   WCF_Survived        1309 non-null   float64\n",
      " 6   family_size         1309 non-null   int64  \n",
      " 7   ticket_group_count  1309 non-null   int64  \n",
      " 8   group_size          1309 non-null   int64  \n",
      " 9   is_alone            1309 non-null   int64  \n",
      " 10  fare_pp             1309 non-null   float64\n",
      " 11  Age_category        1309 non-null   float64\n",
      " 12  pclass_1            1309 non-null   uint8  \n",
      " 13  pclass_2            1309 non-null   uint8  \n",
      " 14  pclass_3            1309 non-null   uint8  \n",
      " 15  sex_female          1309 non-null   uint8  \n",
      " 16  sex_male            1309 non-null   uint8  \n",
      " 17  embarked_C          1309 non-null   uint8  \n",
      " 18  embarked_Q          1309 non-null   uint8  \n",
      " 19  embarked_S          1309 non-null   uint8  \n",
      " 20  title_Master        1309 non-null   uint8  \n",
      " 21  title_Miss          1309 non-null   uint8  \n",
      " 22  title_Mr            1309 non-null   uint8  \n",
      " 23  title_Mrs           1309 non-null   uint8  \n",
      " 24  title_rare          1309 non-null   uint8  \n",
      "dtypes: float64(6), int64(6), uint8(13)\n",
      "memory usage: 139.5 KB\n"
     ]
    }
   ],
   "source": [
    "alldata.info()"
   ]
  },
  {
   "cell_type": "markdown",
   "id": "f4e388ac-f24f-4d68-9281-a4599dae8dcc",
   "metadata": {},
   "source": [
    "### Clean and ready to use Train and Test split"
   ]
  },
  {
   "cell_type": "code",
   "execution_count": 1050,
   "id": "55d2d1f5-c6ed-459a-b503-28585378e850",
   "metadata": {},
   "outputs": [],
   "source": [
    "train_clean = alldata.loc[alldata.Survived.notnull()].copy()\n"
   ]
  },
  {
   "cell_type": "code",
   "execution_count": 1051,
   "id": "a88e4589-1883-4dbb-9bad-7dfdd8c5cfec",
   "metadata": {},
   "outputs": [],
   "source": [
    "test_clean = alldata.loc[alldata.Survived.isnull()].drop('Survived', axis = 1).copy()\n"
   ]
  },
  {
   "cell_type": "code",
   "execution_count": 1052,
   "id": "5b96111e-518b-47fe-96ae-1f58ed1fa20e",
   "metadata": {},
   "outputs": [],
   "source": [
    "# Split independent and dependent variables from train_clean\n",
    "X = train_clean.drop('Survived', axis = 1)\n",
    "y = train_clean.Survived"
   ]
  },
  {
   "cell_type": "code",
   "execution_count": 1053,
   "id": "0aaa97cb-7f4b-4e57-88a5-f664caaf7aba",
   "metadata": {},
   "outputs": [],
   "source": [
    "scaler = StandardScaler()"
   ]
  },
  {
   "cell_type": "code",
   "execution_count": 1054,
   "id": "2091448c-ff05-46b6-90e5-8d947dfcd87b",
   "metadata": {},
   "outputs": [],
   "source": [
    "X_fare_sc = pd.DataFrame(scaler.fit_transform(X[['fare_pp']]), columns=['fare_pp_sc'], index = X.fare_pp.index)"
   ]
  },
  {
   "cell_type": "code",
   "execution_count": 1055,
   "id": "beb01524-dd2f-45c8-80d8-73aa91639c39",
   "metadata": {},
   "outputs": [],
   "source": [
    "test_clean_fare_sc = pd.DataFrame(scaler.transform(test_clean[['fare_pp']]), columns=['fare_pp_sc'], index = test_clean.fare_pp.index)"
   ]
  },
  {
   "cell_type": "code",
   "execution_count": 1056,
   "id": "9752614b-a5d6-44f3-9f2a-e517c4550863",
   "metadata": {},
   "outputs": [],
   "source": [
    "X = pd.concat([X, X_fare_sc], axis = 1).drop('fare_pp', axis = 1)"
   ]
  },
  {
   "cell_type": "code",
   "execution_count": 1057,
   "id": "d866a08a-f2e9-4902-a830-31eca7e005f6",
   "metadata": {},
   "outputs": [],
   "source": [
    "test_clean = pd.concat([test_clean, test_clean_fare_sc], axis = 1).drop('fare_pp', axis = 1)"
   ]
  },
  {
   "cell_type": "markdown",
   "id": "c810679f-20ab-4303-b945-06d4bf4e4c5e",
   "metadata": {},
   "source": [
    "# MODELING"
   ]
  },
  {
   "cell_type": "code",
   "execution_count": 1058,
   "id": "04e7903d-f282-475c-9579-baa812c76ca7",
   "metadata": {},
   "outputs": [
    {
     "data": {
      "text/plain": [
       "Index(['SibSp', 'Parch', 'in_WCF', 'WCF_Died', 'WCF_Survived', 'family_size',\n",
       "       'ticket_group_count', 'group_size', 'is_alone', 'Age_category',\n",
       "       'pclass_1', 'pclass_2', 'pclass_3', 'sex_female', 'sex_male',\n",
       "       'embarked_C', 'embarked_Q', 'embarked_S', 'title_Master', 'title_Miss',\n",
       "       'title_Mr', 'title_Mrs', 'title_rare', 'fare_pp_sc'],\n",
       "      dtype='object')"
      ]
     },
     "execution_count": 1058,
     "metadata": {},
     "output_type": "execute_result"
    }
   ],
   "source": [
    "X.columns"
   ]
  },
  {
   "cell_type": "code",
   "execution_count": 1059,
   "id": "b5ad98ac-100e-4ea6-95b5-49da72bf351c",
   "metadata": {},
   "outputs": [],
   "source": [
    "features = ['in_WCF', 'WCF_Died', 'WCF_Survived', 'family_size', 'group_size', 'is_alone', 'Age_category',\n",
    "       'pclass_1', 'pclass_2', 'pclass_3', 'sex_female', 'sex_male',\n",
    "       'embarked_C', 'embarked_Q', 'embarked_S', 'title_Master', 'title_Miss',\n",
    "       'title_Mr', 'title_Mrs', 'title_rare', 'fare_pp_sc']"
   ]
  },
  {
   "cell_type": "code",
   "execution_count": 1060,
   "id": "3a447c3c-c80a-4702-8e37-9b19c80504cd",
   "metadata": {},
   "outputs": [],
   "source": [
    "X = X[features].copy()"
   ]
  },
  {
   "cell_type": "code",
   "execution_count": 1061,
   "id": "92eb4316-954a-43de-9045-fd997dfc0497",
   "metadata": {},
   "outputs": [
    {
     "data": {
      "text/html": [
       "<div>\n",
       "<style scoped>\n",
       "    .dataframe tbody tr th:only-of-type {\n",
       "        vertical-align: middle;\n",
       "    }\n",
       "\n",
       "    .dataframe tbody tr th {\n",
       "        vertical-align: top;\n",
       "    }\n",
       "\n",
       "    .dataframe thead th {\n",
       "        text-align: right;\n",
       "    }\n",
       "</style>\n",
       "<table border=\"1\" class=\"dataframe\">\n",
       "  <thead>\n",
       "    <tr style=\"text-align: right;\">\n",
       "      <th></th>\n",
       "      <th>in_WCF</th>\n",
       "      <th>WCF_Died</th>\n",
       "      <th>WCF_Survived</th>\n",
       "      <th>family_size</th>\n",
       "      <th>group_size</th>\n",
       "      <th>is_alone</th>\n",
       "      <th>Age_category</th>\n",
       "      <th>pclass_1</th>\n",
       "      <th>pclass_2</th>\n",
       "      <th>pclass_3</th>\n",
       "      <th>...</th>\n",
       "      <th>sex_male</th>\n",
       "      <th>embarked_C</th>\n",
       "      <th>embarked_Q</th>\n",
       "      <th>embarked_S</th>\n",
       "      <th>title_Master</th>\n",
       "      <th>title_Miss</th>\n",
       "      <th>title_Mr</th>\n",
       "      <th>title_Mrs</th>\n",
       "      <th>title_rare</th>\n",
       "      <th>fare_pp_sc</th>\n",
       "    </tr>\n",
       "  </thead>\n",
       "  <tbody>\n",
       "    <tr>\n",
       "      <th>0</th>\n",
       "      <td>0.0</td>\n",
       "      <td>0.0</td>\n",
       "      <td>0.0</td>\n",
       "      <td>2</td>\n",
       "      <td>2</td>\n",
       "      <td>0</td>\n",
       "      <td>1.0</td>\n",
       "      <td>0</td>\n",
       "      <td>0</td>\n",
       "      <td>1</td>\n",
       "      <td>...</td>\n",
       "      <td>1</td>\n",
       "      <td>0</td>\n",
       "      <td>0</td>\n",
       "      <td>1</td>\n",
       "      <td>0</td>\n",
       "      <td>0</td>\n",
       "      <td>1</td>\n",
       "      <td>0</td>\n",
       "      <td>0</td>\n",
       "      <td>-0.538133</td>\n",
       "    </tr>\n",
       "    <tr>\n",
       "      <th>1</th>\n",
       "      <td>0.0</td>\n",
       "      <td>0.0</td>\n",
       "      <td>0.0</td>\n",
       "      <td>2</td>\n",
       "      <td>2</td>\n",
       "      <td>0</td>\n",
       "      <td>2.0</td>\n",
       "      <td>1</td>\n",
       "      <td>0</td>\n",
       "      <td>0</td>\n",
       "      <td>...</td>\n",
       "      <td>0</td>\n",
       "      <td>1</td>\n",
       "      <td>0</td>\n",
       "      <td>0</td>\n",
       "      <td>0</td>\n",
       "      <td>0</td>\n",
       "      <td>0</td>\n",
       "      <td>1</td>\n",
       "      <td>0</td>\n",
       "      <td>1.554499</td>\n",
       "    </tr>\n",
       "    <tr>\n",
       "      <th>2</th>\n",
       "      <td>0.0</td>\n",
       "      <td>0.0</td>\n",
       "      <td>0.0</td>\n",
       "      <td>1</td>\n",
       "      <td>1</td>\n",
       "      <td>1</td>\n",
       "      <td>1.0</td>\n",
       "      <td>0</td>\n",
       "      <td>0</td>\n",
       "      <td>1</td>\n",
       "      <td>...</td>\n",
       "      <td>0</td>\n",
       "      <td>0</td>\n",
       "      <td>0</td>\n",
       "      <td>1</td>\n",
       "      <td>0</td>\n",
       "      <td>1</td>\n",
       "      <td>0</td>\n",
       "      <td>0</td>\n",
       "      <td>0</td>\n",
       "      <td>-0.488382</td>\n",
       "    </tr>\n",
       "    <tr>\n",
       "      <th>3</th>\n",
       "      <td>0.0</td>\n",
       "      <td>0.0</td>\n",
       "      <td>0.0</td>\n",
       "      <td>2</td>\n",
       "      <td>2</td>\n",
       "      <td>0</td>\n",
       "      <td>2.0</td>\n",
       "      <td>1</td>\n",
       "      <td>0</td>\n",
       "      <td>0</td>\n",
       "      <td>...</td>\n",
       "      <td>0</td>\n",
       "      <td>0</td>\n",
       "      <td>0</td>\n",
       "      <td>1</td>\n",
       "      <td>0</td>\n",
       "      <td>0</td>\n",
       "      <td>0</td>\n",
       "      <td>1</td>\n",
       "      <td>0</td>\n",
       "      <td>0.884390</td>\n",
       "    </tr>\n",
       "    <tr>\n",
       "      <th>4</th>\n",
       "      <td>0.0</td>\n",
       "      <td>0.0</td>\n",
       "      <td>0.0</td>\n",
       "      <td>1</td>\n",
       "      <td>1</td>\n",
       "      <td>1</td>\n",
       "      <td>2.0</td>\n",
       "      <td>0</td>\n",
       "      <td>0</td>\n",
       "      <td>1</td>\n",
       "      <td>...</td>\n",
       "      <td>1</td>\n",
       "      <td>0</td>\n",
       "      <td>0</td>\n",
       "      <td>1</td>\n",
       "      <td>0</td>\n",
       "      <td>0</td>\n",
       "      <td>1</td>\n",
       "      <td>0</td>\n",
       "      <td>0</td>\n",
       "      <td>-0.479169</td>\n",
       "    </tr>\n",
       "  </tbody>\n",
       "</table>\n",
       "<p>5 rows × 21 columns</p>\n",
       "</div>"
      ],
      "text/plain": [
       "   in_WCF  WCF_Died  WCF_Survived  family_size  group_size  is_alone  \\\n",
       "0     0.0       0.0           0.0            2           2         0   \n",
       "1     0.0       0.0           0.0            2           2         0   \n",
       "2     0.0       0.0           0.0            1           1         1   \n",
       "3     0.0       0.0           0.0            2           2         0   \n",
       "4     0.0       0.0           0.0            1           1         1   \n",
       "\n",
       "   Age_category  pclass_1  pclass_2  pclass_3  ...  sex_male  embarked_C  \\\n",
       "0           1.0         0         0         1  ...         1           0   \n",
       "1           2.0         1         0         0  ...         0           1   \n",
       "2           1.0         0         0         1  ...         0           0   \n",
       "3           2.0         1         0         0  ...         0           0   \n",
       "4           2.0         0         0         1  ...         1           0   \n",
       "\n",
       "   embarked_Q  embarked_S  title_Master  title_Miss  title_Mr  title_Mrs  \\\n",
       "0           0           1             0           0         1          0   \n",
       "1           0           0             0           0         0          1   \n",
       "2           0           1             0           1         0          0   \n",
       "3           0           1             0           0         0          1   \n",
       "4           0           1             0           0         1          0   \n",
       "\n",
       "   title_rare  fare_pp_sc  \n",
       "0           0   -0.538133  \n",
       "1           0    1.554499  \n",
       "2           0   -0.488382  \n",
       "3           0    0.884390  \n",
       "4           0   -0.479169  \n",
       "\n",
       "[5 rows x 21 columns]"
      ]
     },
     "execution_count": 1061,
     "metadata": {},
     "output_type": "execute_result"
    }
   ],
   "source": [
    "X.head()"
   ]
  },
  {
   "cell_type": "code",
   "execution_count": 1062,
   "id": "74e72a4c-0fce-4e09-9fa7-8b1a5cb42722",
   "metadata": {},
   "outputs": [],
   "source": [
    "models = {\n",
    "    'Logistic Regression': LogisticRegression(max_iter = 500, random_state = 41),\n",
    "    'Random Forest Classifier': RandomForestClassifier(random_state = 41),\n",
    "    'Perceptron': Perceptron(random_state = 41),\n",
    "    'SGD Classifier': SGDClassifier(random_state = 41),\n",
    "    'Decision Tree Classifier': DecisionTreeClassifier(random_state = 41),\n",
    "    'K-Nearest Neighbors Classifier': KNeighborsClassifier(),\n",
    "    'Support Vector Machines (SVC)': SVC(random_state = 41),\n",
    "    'Gaussian Naive Bayes': GaussianNB(),\n",
    "    'Bagging Classifier' : BaggingClassifier(random_state = 41),\n",
    "    \"Gradient Boosting\": GradientBoostingClassifier(random_state=41),\n",
    "    'XGBC' : XGBClassifier(random_state = 41),\n",
    "    'Hist Gradient Boosting Classifier' : HistGradientBoostingClassifier(random_state = 41),\n",
    "    'LGBM' : LGBMClassifier(random_state = 41),\n",
    "    'ADABoost' : AdaBoostClassifier(random_state=41),\n",
    "    'ExtraTreesClassifier' : ExtraTreesClassifier(random_state = 41)\n",
    "}"
   ]
  },
  {
   "cell_type": "code",
   "execution_count": 1063,
   "id": "02ce8f2a-9e1e-4329-a47d-f0642942691f",
   "metadata": {},
   "outputs": [
    {
     "name": "stdout",
     "output_type": "stream",
     "text": [
      "Model Logistic Regression Accuracy Scores is 85.43% and the std is 5.39%\n",
      "Model Random Forest Classifier Accuracy Scores is 82.74% and the std is 5.66%\n",
      "Model Perceptron Accuracy Scores is 77.90% and the std is 12.62%\n",
      "Model SGD Classifier Accuracy Scores is 82.86% and the std is 7.34%\n",
      "Model Decision Tree Classifier Accuracy Scores is 82.28% and the std is 5.35%\n",
      "Model K-Nearest Neighbors Classifier Accuracy Scores is 83.63% and the std is 5.12%\n",
      "Model Support Vector Machines (SVC) Accuracy Scores is 86.00% and the std is 5.53%\n",
      "Model Gaussian Naive Bayes Accuracy Scores is 84.76% and the std is 5.85%\n",
      "Model Bagging Classifier Accuracy Scores is 84.32% and the std is 5.32%\n",
      "Model Gradient Boosting Accuracy Scores is 86.22% and the std is 4.66%\n",
      "Model XGBC Accuracy Scores is 84.77% and the std is 5.34%\n",
      "Model Hist Gradient Boosting Classifier Accuracy Scores is 84.20% and the std is 4.81%\n",
      "Model LGBM Accuracy Scores is 84.31% and the std is 5.04%\n",
      "Model ADABoost Accuracy Scores is 85.99% and the std is 4.62%\n",
      "Model ExtraTreesClassifier Accuracy Scores is 83.41% and the std is 5.41%\n"
     ]
    }
   ],
   "source": [
    "accuracy_scores = {}\n",
    "\n",
    "skf = StratifiedKFold(n_splits = 20, random_state = 41, shuffle = True)\n",
    "\n",
    "for name, model in models.items():\n",
    "        cv = cross_val_score(model, X, y, cv = skf)\n",
    "        accuracy_scores[name] = cv\n",
    "        print(f\"Model {name} Accuracy Scores is {np.mean(accuracy_scores[name])*100:.2f}% and the std is {np.std(accuracy_scores[name])*100:.2f}%\")"
   ]
  },
  {
   "cell_type": "code",
   "execution_count": 1064,
   "id": "acd22df6-eca2-408f-b363-40b832d2907a",
   "metadata": {},
   "outputs": [
    {
     "data": {
      "image/png": "[encoded data removed]",
      "text/plain": [
       "<Figure size 640x480 with 1 Axes>"
      ]
     },
     "metadata": {},
     "output_type": "display_data"
    }
   ],
   "source": [
    "data = [value for value in accuracy_scores.values()]\n",
    "labels = list(accuracy_scores.keys())\n",
    "plt.boxplot(data, labels = labels, showmeans = True, vert = False)\n",
    "plt.show()"
   ]
  },
  {
   "cell_type": "code",
   "execution_count": 1065,
   "id": "5159ffef-1fe9-4780-b91a-d27977179677",
   "metadata": {},
   "outputs": [],
   "source": [
    "model = GradientBoostingClassifier()\n",
    "model.fit(X, y)\n",
    "y_hat = model.predict(test_clean[features])\n",
    "pd.DataFrame({\n",
    "     'PassengerId': test.PassengerId,\n",
    "     'Survived' : y_hat.astype(int)\n",
    " }).to_csv('submission-version-2-gradient-boosting.csv', index = False)"
   ]
  },
  {
   "cell_type": "code",
   "execution_count": 1066,
   "id": "7a3d4653-df5a-4389-a080-b7e5a84550b9",
   "metadata": {},
   "outputs": [],
   "source": [
    "model = SVC()\n",
    "model.fit(X, y)\n",
    "y_hat = model.predict(test_clean[features])\n",
    "pd.DataFrame({\n",
    "     'PassengerId': test.PassengerId,\n",
    "     'Survived' : y_hat.astype(int)\n",
    " }).to_csv('submission-version-2-svc.csv', index = False)"
   ]
  },
  {
   "cell_type": "code",
   "execution_count": 1067,
   "id": "f2516486-10b8-4471-8cd5-35dc5ff1705b",
   "metadata": {},
   "outputs": [],
   "source": [
    "model = AdaBoostClassifier()\n",
    "model.fit(X, y)\n",
    "y_hat = model.predict(test_clean[features])\n",
    "pd.DataFrame({\n",
    "     'PassengerId': test.PassengerId,\n",
    "     'Survived' : y_hat.astype(int)\n",
    " }).to_csv('submission-version-2-ada-boost.csv', index = False)"
   ]
  },
  {
   "cell_type": "code",
   "execution_count": null,
   "id": "30e01b8a-5e67-44ef-97a8-7d2119983a2a",
   "metadata": {},
   "outputs": [],
   "source": []
  }
 ],
 "metadata": {
  "kernelspec": {
   "display_name": "Python 3 (ipykernel)",
   "language": "python",
   "name": "python3"
  },
  "language_info": {
   "codemirror_mode": {
    "name": "ipython",
    "version": 3
   },
   "file_extension": ".py",
   "mimetype": "text/x-python",
   "name": "python",
   "nbconvert_exporter": "python",
   "pygments_lexer": "ipython3",
   "version": "3.10.8"
  }
 },
 "nbformat": 4,
 "nbformat_minor": 5
}
