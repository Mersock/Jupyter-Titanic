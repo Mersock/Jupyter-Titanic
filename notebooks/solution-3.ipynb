{
 "cells": [
  {
   "cell_type": "code",
   "execution_count": 1,
   "id": "eaf86565-1098-4fea-a251-583fc07f9396",
   "metadata": {},
   "outputs": [],
   "source": [
    "# libraries\n",
    "import numpy as np \n",
    "import pandas as pd \n",
    "import os\n",
    "import matplotlib.pyplot as plt\n",
    "import seaborn as sns\n",
    "import re\n",
    "from sklearn.cluster import KMeans\n",
    "from sklearn.preprocessing import StandardScaler\n",
    "\n",
    "from sklearn.model_selection import KFold\n",
    "from sklearn.model_selection import cross_val_score\n",
    "from sklearn.model_selection import GridSearchCV\n",
    "\n",
    "from sklearn.linear_model import LogisticRegression\n",
    "from sklearn.ensemble import RandomForestClassifier\n",
    "from sklearn.linear_model import Perceptron\n",
    "from sklearn.linear_model import SGDClassifier\n",
    "from sklearn.tree import DecisionTreeClassifier\n",
    "from sklearn.neighbors import KNeighborsClassifier\n",
    "from sklearn.svm import SVC, LinearSVC\n",
    "from sklearn.naive_bayes import GaussianNB\n",
    "from sklearn.ensemble import BaggingClassifier\n",
    "from sklearn.model_selection import StratifiedKFold\n",
    "from sklearn.ensemble import GradientBoostingClassifier\n",
    "from xgboost import XGBClassifier\n",
    "from sklearn.ensemble import HistGradientBoostingClassifier\n",
    "from lightgbm import LGBMClassifier\n",
    "from sklearn.ensemble import AdaBoostClassifier\n",
    "from sklearn.ensemble import ExtraTreesClassifier\n",
    "from sklearn.linear_model import RidgeClassifier"
   ]
  },
  {
   "cell_type": "code",
   "execution_count": 2,
   "id": "0b454682-e070-48a6-899f-df356ee233ae",
   "metadata": {},
   "outputs": [
    {
     "name": "stdout",
     "output_type": "stream",
     "text": [
      "/project/data/.DS_Store\n",
      "/project/data/gender_submission.csv\n",
      "/project/data/test.csv\n",
      "/project/data/train.csv\n",
      "/project/data/.ipynb_checkpoints/dataset-checkpoint.txt\n"
     ]
    }
   ],
   "source": [
    "for dirname, _, filenames in os.walk('/project/data'):\n",
    "    for filename in filenames:\n",
    "        print(os.path.join(dirname, filename))"
   ]
  },
  {
   "cell_type": "code",
   "execution_count": 3,
   "id": "614d3569-22ca-4676-a1ae-b6f5abb226d5",
   "metadata": {},
   "outputs": [],
   "source": [
    "train = pd.read_csv('/project/data/train.csv')\n",
    "test = pd.read_csv('/project/data/test.csv')\n",
    "alldata = pd.concat([train, test], axis = 0, ignore_index = True)"
   ]
  },
  {
   "cell_type": "code",
   "execution_count": 4,
   "id": "e98e81b7-7d39-47e6-b113-a18512014371",
   "metadata": {},
   "outputs": [
    {
     "name": "stdout",
     "output_type": "stream",
     "text": [
      "<class 'pandas.core.frame.DataFrame'>\n",
      "RangeIndex: 1309 entries, 0 to 1308\n",
      "Data columns (total 12 columns):\n",
      " #   Column       Non-Null Count  Dtype  \n",
      "---  ------       --------------  -----  \n",
      " 0   PassengerId  1309 non-null   int64  \n",
      " 1   Survived     891 non-null    float64\n",
      " 2   Pclass       1309 non-null   int64  \n",
      " 3   Name         1309 non-null   object \n",
      " 4   Sex          1309 non-null   object \n",
      " 5   Age          1046 non-null   float64\n",
      " 6   SibSp        1309 non-null   int64  \n",
      " 7   Parch        1309 non-null   int64  \n",
      " 8   Ticket       1309 non-null   object \n",
      " 9   Fare         1308 non-null   float64\n",
      " 10  Cabin        295 non-null    object \n",
      " 11  Embarked     1307 non-null   object \n",
      "dtypes: float64(3), int64(4), object(5)\n",
      "memory usage: 122.8+ KB\n"
     ]
    }
   ],
   "source": [
    "alldata.info()"
   ]
  },
  {
   "cell_type": "code",
   "execution_count": 5,
   "id": "d5e88d59-4f03-4114-88c8-90acee45adbf",
   "metadata": {},
   "outputs": [
    {
     "name": "stdout",
     "output_type": "stream",
     "text": [
      "The train set has 891 samples and the test set has 418 samples\n",
      "The whole Titanic data set has 1309 samples\n"
     ]
    }
   ],
   "source": [
    "print(f\"The train set has {len(train)} samples and the test set has {len(test)} samples\")\n",
    "print(f\"The whole Titanic data set has {len(alldata)} samples\")"
   ]
  },
  {
   "cell_type": "code",
   "execution_count": 6,
   "id": "1b65fd2c-e1a5-499f-a7b2-98089921b82d",
   "metadata": {},
   "outputs": [
    {
     "data": {
      "image/png": "[encoded data removed]",
      "text/plain": [
       "<Figure size 640x480 with 1 Axes>"
      ]
     },
     "metadata": {},
     "output_type": "display_data"
    }
   ],
   "source": [
    "ax = alldata.groupby('Sex').size().plot.bar(color=['green', 'blue'])\n",
    "plt.title('Number of passengers by Gender')\n",
    "plt.xlabel('Gender')\n",
    "plt.yticks([])\n",
    "for label in ax.containers:\n",
    "    ax.bar_label(label)\n",
    "plt.show()"
   ]
  },
  {
   "cell_type": "code",
   "execution_count": 7,
   "id": "6d365f72-9994-4445-b73e-c71569f88846",
   "metadata": {},
   "outputs": [
    {
     "name": "stdout",
     "output_type": "stream",
     "text": [
      "The percentage of women that survived (train set) was 74.204%\n"
     ]
    }
   ],
   "source": [
    "women_surv = len(train[(train.Sex == 'female') & (train.Survived == 1)])\n",
    "total_women = len(train[train.Sex == 'female'])\n",
    "women_surv_pct = women_surv / total_women\n",
    "print(f\"The percentage of women that survived (train set) was {women_surv_pct*100:.3f}%\")"
   ]
  },
  {
   "cell_type": "code",
   "execution_count": 8,
   "id": "35acc9e4-9727-4596-9fc5-28278a57fbf2",
   "metadata": {},
   "outputs": [
    {
     "data": {
      "text/plain": [
       "0                              Braund, Mr. Owen Harris\n",
       "1    Cumings, Mrs. John Bradley (Florence Briggs Th...\n",
       "2                               Heikkinen, Miss. Laina\n",
       "Name: Name, dtype: object"
      ]
     },
     "execution_count": 8,
     "metadata": {},
     "output_type": "execute_result"
    }
   ],
   "source": [
    "train.Name[:3]"
   ]
  },
  {
   "cell_type": "code",
   "execution_count": 9,
   "id": "650435a3-75b9-44d9-85e2-883baf7c45b9",
   "metadata": {},
   "outputs": [],
   "source": [
    "alldata['title'] = alldata.Name.apply(lambda x: re.search(r',\\s(.+?)\\.', x).group(1))"
   ]
  },
  {
   "cell_type": "code",
   "execution_count": 10,
   "id": "c7384210-1555-4502-8769-a3f789a1cc5a",
   "metadata": {},
   "outputs": [
    {
     "data": {
      "text/plain": [
       "Mr              757\n",
       "Miss            260\n",
       "Mrs             197\n",
       "Master           61\n",
       "Rev               8\n",
       "Dr                8\n",
       "Col               4\n",
       "Mlle              2\n",
       "Major             2\n",
       "Ms                2\n",
       "Lady              1\n",
       "Sir               1\n",
       "Mme               1\n",
       "Don               1\n",
       "Capt              1\n",
       "the Countess      1\n",
       "Jonkheer          1\n",
       "Dona              1\n",
       "Name: title, dtype: int64"
      ]
     },
     "execution_count": 10,
     "metadata": {},
     "output_type": "execute_result"
    }
   ],
   "source": [
    "alldata.title.value_counts()"
   ]
  },
  {
   "cell_type": "code",
   "execution_count": 11,
   "id": "76b449bc-7b07-4e2d-8c88-c1ec1e05ba64",
   "metadata": {},
   "outputs": [
    {
     "data": {
      "text/plain": [
       "Mr        757\n",
       "Miss      264\n",
       "Mrs       198\n",
       "Master     61\n",
       "rare       29\n",
       "Name: title, dtype: int64"
      ]
     },
     "execution_count": 11,
     "metadata": {},
     "output_type": "execute_result"
    }
   ],
   "source": [
    "# Reclassify titles\n",
    "alldata.loc[alldata.title.isin(['Ms', 'Mlle']), 'title'] = 'Miss'\n",
    "alldata.loc[alldata.title.isin(['Mme']), 'title'] = 'Mrs'\n",
    "\n",
    "# Rare category\n",
    "rare = ['Major', 'Lady', 'Sir', 'Don', 'Capt', 'the Countess', 'Jonkheer', 'Dona', 'Dr', 'Rev', 'Col']\n",
    "alldata.loc[alldata.title.isin(rare), 'title'] = 'rare'\n",
    "\n",
    "alldata.title.value_counts()"
   ]
  },
  {
   "cell_type": "code",
   "execution_count": 12,
   "id": "7e394362-0354-4bce-a86f-8f5587e0081a",
   "metadata": {},
   "outputs": [
    {
     "data": {
      "text/plain": [
       "0       Braund\n",
       "1      Cumings\n",
       "2    Heikkinen\n",
       "3     Futrelle\n",
       "Name: surname, dtype: object"
      ]
     },
     "execution_count": 12,
     "metadata": {},
     "output_type": "execute_result"
    }
   ],
   "source": [
    "# Surnames\n",
    "alldata['surname'] = alldata.Name.apply(lambda x: re.search(r'^(.+?)\\,', x).group(1))\n",
    "alldata.surname[:4]"
   ]
  },
  {
   "cell_type": "code",
   "execution_count": 13,
   "id": "5801369b-81cb-4b69-9018-347aa8bc6d79",
   "metadata": {},
   "outputs": [],
   "source": [
    "### Feature that contains surnames for WCF groups\n",
    "alldata['surname_WCF'] = alldata.surname\n",
    "\n",
    "# Take out adult males but we keep boys (Master)\n",
    "alldata.loc[((alldata.Sex == 'male') & (alldata.title == 'Mr'))|\n",
    "             ((alldata.Sex == 'male') & (alldata.title == 'rare')), 'surname_WCF'] = np.nan\n",
    "\n",
    "# WCF_count counts the number of passenger for each surname group (in_WCF)\n",
    "alldata['WCF_count'] = alldata.groupby('surname_WCF')['surname_WCF'].transform('count')\n",
    "alldata.loc[(alldata.WCF_count < 2.0 ), 'surname_WCF'] = np.nan\n",
    "\n",
    "alldata.loc[(alldata.WCF_count >= 2.0), 'in_WCF'] = 1\n",
    "alldata.loc[(alldata.WCF_count < 2.0 ), 'in_WCF'] = 0\n",
    "\n",
    "# WCF_Survived & WCF_Died \n",
    "for surname in alldata.surname_WCF.unique():\n",
    "    surv_rate = np.mean(alldata.loc[alldata.surname_WCF == surname, 'Survived'])\n",
    "    if surv_rate > 0.5:\n",
    "        alldata.loc[alldata.surname_WCF == surname, 'WCF_Survived'] = 1\n",
    "    else:\n",
    "        alldata.loc[alldata.surname_WCF == surname, 'WCF_Died'] = 1\n",
    "\n",
    "# Fillna in the new features \n",
    "alldata[['in_WCF', 'WCF_Survived', 'WCF_Died']] = alldata[['in_WCF', 'WCF_Survived', 'WCF_Died']].fillna(0)\n",
    "\n",
    "# Drop intermediate features no longer needed\n",
    "alldata.drop(columns=['Name', 'surname', 'surname_WCF', 'WCF_count'], axis = 1, inplace = True)"
   ]
  },
  {
   "cell_type": "code",
   "execution_count": 14,
   "id": "5ea82de0-7204-4294-ba8f-e9a21b26419c",
   "metadata": {},
   "outputs": [
    {
     "name": "stdout",
     "output_type": "stream",
     "text": [
      "The number of passengers sharing tickets is: 380\n"
     ]
    }
   ],
   "source": [
    "print(f\"The number of passengers sharing tickets is: {len(alldata) - len(alldata.Ticket.unique())}\")\n"
   ]
  },
  {
   "cell_type": "code",
   "execution_count": 15,
   "id": "6946f551-24c0-4f65-949b-3f0a5dda872b",
   "metadata": {},
   "outputs": [],
   "source": [
    "alldata['family_size'] = alldata.SibSp + alldata.Parch + 1\n",
    "\n",
    "alldata['ticket_group_count'] = alldata.groupby('Ticket')['Ticket'].transform('count')"
   ]
  },
  {
   "cell_type": "code",
   "execution_count": 16,
   "id": "95acfec4-0989-4b11-bd43-2e3bbecb7bdc",
   "metadata": {},
   "outputs": [
    {
     "name": "stdout",
     "output_type": "stream",
     "text": [
      "Number of passenger that match family_size and ticket_group_count is: 1025\n",
      "There's a mismatch of 284\n"
     ]
    }
   ],
   "source": [
    "print(f\"Number of passenger that match family_size and ticket_group_count is: {len(alldata[alldata.family_size == alldata.ticket_group_count])}\")\n",
    "print(f\"There's a mismatch of {len(alldata) - len(alldata[alldata.family_size == alldata.ticket_group_count])}\")"
   ]
  },
  {
   "cell_type": "code",
   "execution_count": 17,
   "id": "658c860f-c1bb-4678-a52a-99148b8628bb",
   "metadata": {},
   "outputs": [],
   "source": [
    "alldata['group_size'] = alldata[['family_size', 'ticket_group_count']].max(axis = 1)\n",
    "alldata['is_alone'] = alldata.group_size.apply(lambda x: 1 if x == 1 else 0)"
   ]
  },
  {
   "cell_type": "code",
   "execution_count": 18,
   "id": "9b7613e1-ae8c-4806-b6c5-cea5314ae65f",
   "metadata": {},
   "outputs": [],
   "source": [
    "alldata['fare_pp'] = alldata.Fare / alldata.ticket_group_count\n"
   ]
  },
  {
   "cell_type": "code",
   "execution_count": 19,
   "id": "1cdfd2f4-c56f-4962-b176-b49f7bc058c4",
   "metadata": {},
   "outputs": [],
   "source": [
    "alldata.drop('Fare', axis = 1, inplace = True)\n",
    "alldata.drop('Ticket', axis = 1, inplace = True)"
   ]
  },
  {
   "cell_type": "code",
   "execution_count": 20,
   "id": "4adb97cc-9f06-4f1b-b3c8-67a2612bbf07",
   "metadata": {},
   "outputs": [
    {
     "name": "stdout",
     "output_type": "stream",
     "text": [
      "<class 'pandas.core.frame.DataFrame'>\n",
      "RangeIndex: 1309 entries, 0 to 1308\n",
      "Data columns (total 18 columns):\n",
      " #   Column              Non-Null Count  Dtype  \n",
      "---  ------              --------------  -----  \n",
      " 0   PassengerId         1309 non-null   int64  \n",
      " 1   Survived            891 non-null    float64\n",
      " 2   Pclass              1309 non-null   int64  \n",
      " 3   Sex                 1309 non-null   object \n",
      " 4   Age                 1046 non-null   float64\n",
      " 5   SibSp               1309 non-null   int64  \n",
      " 6   Parch               1309 non-null   int64  \n",
      " 7   Cabin               295 non-null    object \n",
      " 8   Embarked            1307 non-null   object \n",
      " 9   title               1309 non-null   object \n",
      " 10  in_WCF              1309 non-null   float64\n",
      " 11  WCF_Died            1309 non-null   float64\n",
      " 12  WCF_Survived        1309 non-null   float64\n",
      " 13  family_size         1309 non-null   int64  \n",
      " 14  ticket_group_count  1309 non-null   int64  \n",
      " 15  group_size          1309 non-null   int64  \n",
      " 16  is_alone            1309 non-null   int64  \n",
      " 17  fare_pp             1308 non-null   float64\n",
      "dtypes: float64(6), int64(8), object(4)\n",
      "memory usage: 184.2+ KB\n"
     ]
    }
   ],
   "source": [
    "alldata.info()"
   ]
  },
  {
   "cell_type": "code",
   "execution_count": 21,
   "id": "90403cf2-aae8-4984-b0d2-367adc77b574",
   "metadata": {},
   "outputs": [
    {
     "data": {
      "text/html": [
       "<div>\n",
       "<style scoped>\n",
       "    .dataframe tbody tr th:only-of-type {\n",
       "        vertical-align: middle;\n",
       "    }\n",
       "\n",
       "    .dataframe tbody tr th {\n",
       "        vertical-align: top;\n",
       "    }\n",
       "\n",
       "    .dataframe thead th {\n",
       "        text-align: right;\n",
       "    }\n",
       "</style>\n",
       "<table border=\"1\" class=\"dataframe\">\n",
       "  <thead>\n",
       "    <tr style=\"text-align: right;\">\n",
       "      <th></th>\n",
       "      <th>PassengerId</th>\n",
       "      <th>Survived</th>\n",
       "      <th>Pclass</th>\n",
       "      <th>Sex</th>\n",
       "      <th>Age</th>\n",
       "      <th>SibSp</th>\n",
       "      <th>Parch</th>\n",
       "      <th>Cabin</th>\n",
       "      <th>Embarked</th>\n",
       "      <th>title</th>\n",
       "      <th>in_WCF</th>\n",
       "      <th>WCF_Died</th>\n",
       "      <th>WCF_Survived</th>\n",
       "      <th>family_size</th>\n",
       "      <th>ticket_group_count</th>\n",
       "      <th>group_size</th>\n",
       "      <th>is_alone</th>\n",
       "      <th>fare_pp</th>\n",
       "    </tr>\n",
       "  </thead>\n",
       "  <tbody>\n",
       "    <tr>\n",
       "      <th>1043</th>\n",
       "      <td>1044</td>\n",
       "      <td>NaN</td>\n",
       "      <td>3</td>\n",
       "      <td>male</td>\n",
       "      <td>60.5</td>\n",
       "      <td>0</td>\n",
       "      <td>0</td>\n",
       "      <td>NaN</td>\n",
       "      <td>S</td>\n",
       "      <td>Mr</td>\n",
       "      <td>0.0</td>\n",
       "      <td>0.0</td>\n",
       "      <td>0.0</td>\n",
       "      <td>1</td>\n",
       "      <td>1</td>\n",
       "      <td>1</td>\n",
       "      <td>1</td>\n",
       "      <td>NaN</td>\n",
       "    </tr>\n",
       "  </tbody>\n",
       "</table>\n",
       "</div>"
      ],
      "text/plain": [
       "      PassengerId  Survived  Pclass   Sex   Age  SibSp  Parch Cabin Embarked  \\\n",
       "1043         1044       NaN       3  male  60.5      0      0   NaN        S   \n",
       "\n",
       "     title  in_WCF  WCF_Died  WCF_Survived  family_size  ticket_group_count  \\\n",
       "1043    Mr     0.0       0.0           0.0            1                   1   \n",
       "\n",
       "      group_size  is_alone  fare_pp  \n",
       "1043           1         1      NaN  "
      ]
     },
     "execution_count": 21,
     "metadata": {},
     "output_type": "execute_result"
    }
   ],
   "source": [
    "alldata[alldata.fare_pp.isna()]"
   ]
  },
  {
   "cell_type": "code",
   "execution_count": 22,
   "id": "dfcbe77c-01eb-408a-bf5f-d2a3d8e1c079",
   "metadata": {},
   "outputs": [
    {
     "data": {
      "text/html": [
       "<div>\n",
       "<style scoped>\n",
       "    .dataframe tbody tr th:only-of-type {\n",
       "        vertical-align: middle;\n",
       "    }\n",
       "\n",
       "    .dataframe tbody tr th {\n",
       "        vertical-align: top;\n",
       "    }\n",
       "\n",
       "    .dataframe thead th {\n",
       "        text-align: right;\n",
       "    }\n",
       "</style>\n",
       "<table border=\"1\" class=\"dataframe\">\n",
       "  <thead>\n",
       "    <tr style=\"text-align: right;\">\n",
       "      <th></th>\n",
       "      <th>count</th>\n",
       "      <th>mean</th>\n",
       "      <th>std</th>\n",
       "      <th>min</th>\n",
       "      <th>25%</th>\n",
       "      <th>50%</th>\n",
       "      <th>75%</th>\n",
       "      <th>max</th>\n",
       "    </tr>\n",
       "    <tr>\n",
       "      <th>Pclass</th>\n",
       "      <th></th>\n",
       "      <th></th>\n",
       "      <th></th>\n",
       "      <th></th>\n",
       "      <th></th>\n",
       "      <th></th>\n",
       "      <th></th>\n",
       "      <th></th>\n",
       "    </tr>\n",
       "  </thead>\n",
       "  <tbody>\n",
       "    <tr>\n",
       "      <th>1</th>\n",
       "      <td>323.0</td>\n",
       "      <td>33.910500</td>\n",
       "      <td>15.369762</td>\n",
       "      <td>0.0</td>\n",
       "      <td>26.550000</td>\n",
       "      <td>29.70</td>\n",
       "      <td>38.64375</td>\n",
       "      <td>128.0823</td>\n",
       "    </tr>\n",
       "    <tr>\n",
       "      <th>2</th>\n",
       "      <td>277.0</td>\n",
       "      <td>11.411010</td>\n",
       "      <td>2.632930</td>\n",
       "      <td>0.0</td>\n",
       "      <td>10.500000</td>\n",
       "      <td>12.35</td>\n",
       "      <td>13.00000</td>\n",
       "      <td>16.0000</td>\n",
       "    </tr>\n",
       "    <tr>\n",
       "      <th>3</th>\n",
       "      <td>708.0</td>\n",
       "      <td>7.329146</td>\n",
       "      <td>1.471362</td>\n",
       "      <td>0.0</td>\n",
       "      <td>7.060031</td>\n",
       "      <td>7.75</td>\n",
       "      <td>7.92500</td>\n",
       "      <td>19.9667</td>\n",
       "    </tr>\n",
       "  </tbody>\n",
       "</table>\n",
       "</div>"
      ],
      "text/plain": [
       "        count       mean        std  min        25%    50%       75%       max\n",
       "Pclass                                                                        \n",
       "1       323.0  33.910500  15.369762  0.0  26.550000  29.70  38.64375  128.0823\n",
       "2       277.0  11.411010   2.632930  0.0  10.500000  12.35  13.00000   16.0000\n",
       "3       708.0   7.329146   1.471362  0.0   7.060031   7.75   7.92500   19.9667"
      ]
     },
     "execution_count": 22,
     "metadata": {},
     "output_type": "execute_result"
    }
   ],
   "source": [
    "alldata.groupby('Pclass')['fare_pp'].describe()"
   ]
  },
  {
   "cell_type": "code",
   "execution_count": 25,
   "id": "fa9ef608-016e-4934-87de-57d0c596979e",
   "metadata": {},
   "outputs": [],
   "source": [
    "alldata.loc[alldata[alldata.fare_pp.isna()].index, 'fare_pp'] = alldata.groupby('Pclass')['fare_pp'].median()[3]"
   ]
  },
  {
   "cell_type": "code",
   "execution_count": 26,
   "id": "4a60282e-e4bb-48b2-a943-55a4d118d883",
   "metadata": {},
   "outputs": [],
   "source": [
    "# train age and test age \n",
    "train_age = alldata[alldata.Age.notnull()].copy()\n",
    "test_age = alldata[alldata.Age.isna()].copy()"
   ]
  },
  {
   "cell_type": "code",
   "execution_count": 27,
   "id": "eb7bc932-e22f-4d91-9575-c3a6946262d2",
   "metadata": {},
   "outputs": [
    {
     "name": "stderr",
     "output_type": "stream",
     "text": [
      "/opt/conda/lib/python3.10/site-packages/sklearn/cluster/_kmeans.py:870: FutureWarning: The default value of `n_init` will change from 10 to 'auto' in 1.4. Set the value of `n_init` explicitly to suppress the warning\n",
      "  warnings.warn(\n"
     ]
    }
   ],
   "source": [
    "# fit to the data\n",
    "kmeans = KMeans(n_clusters = 4, random_state = 41)\n",
    "labels_pred = kmeans.fit_predict(train_age[['Age']])"
   ]
  },
  {
   "cell_type": "code",
   "execution_count": 28,
   "id": "cdbd685f-1252-4251-90df-6057a7ef5a11",
   "metadata": {},
   "outputs": [
    {
     "data": {
      "text/plain": [
       "array([21.5654321 , 52.97043011, 34.10814607,  5.31989899])"
      ]
     },
     "execution_count": 28,
     "metadata": {},
     "output_type": "execute_result"
    }
   ],
   "source": [
    "kmeans.cluster_centers_.flatten()\n"
   ]
  },
  {
   "cell_type": "code",
   "execution_count": 29,
   "id": "82b57520-751c-426e-95f0-c1dc0686c59d",
   "metadata": {},
   "outputs": [
    {
     "data": {
      "text/plain": [
       "array([3, 0, 2, 1])"
      ]
     },
     "execution_count": 29,
     "metadata": {},
     "output_type": "execute_result"
    }
   ],
   "source": [
    "np.argsort(kmeans.cluster_centers_.flatten())\n"
   ]
  },
  {
   "cell_type": "code",
   "execution_count": 30,
   "id": "e7926c2f-155c-4875-8f47-780dc2d4c7da",
   "metadata": {},
   "outputs": [
    {
     "data": {
      "text/plain": [
       "{3: 0, 0: 1, 2: 2, 1: 3}"
      ]
     },
     "execution_count": 30,
     "metadata": {},
     "output_type": "execute_result"
    }
   ],
   "source": [
    "label_dict = {label: v for v, label in enumerate(np.argsort(kmeans.cluster_centers_.flatten()))}\n",
    "label_dict "
   ]
  },
  {
   "cell_type": "code",
   "execution_count": 32,
   "id": "f0a4e06e-f713-4482-91ee-9b853b74b438",
   "metadata": {},
   "outputs": [],
   "source": [
    "labels = [label_dict[label] for label in labels_pred]"
   ]
  },
  {
   "cell_type": "code",
   "execution_count": 33,
   "id": "5a677cdf-9044-414f-9027-fdaca9f6a17c",
   "metadata": {},
   "outputs": [],
   "source": [
    "train_age['Age_category'] = labels\n"
   ]
  },
  {
   "cell_type": "code",
   "execution_count": 36,
   "id": "6dcaf307-5a7f-491e-a563-9eaf95e6da5d",
   "metadata": {},
   "outputs": [
    {
     "data": {
      "image/png": "[encoded data removed]",
      "text/plain": [
       "<Figure size 606.611x500 with 1 Axes>"
      ]
     },
     "metadata": {},
     "output_type": "display_data"
    }
   ],
   "source": [
    "# Visualizing new age clusters\n",
    "sns.catplot(y='Age', data=train_age, hue='Age_category', jitter=0.8)\n",
    "plt.title('Passenger Age Categories')\n",
    "plt.show()"
   ]
  },
  {
   "cell_type": "code",
   "execution_count": 37,
   "id": "4e35602d-7b2c-4c80-a058-20ccabddcb36",
   "metadata": {},
   "outputs": [
    {
     "data": {
      "text/plain": [
       "Age_category\n",
       "0    0.591549\n",
       "1    0.372180\n",
       "2    0.407115\n",
       "3    0.370968\n",
       "Name: Survived, dtype: float64"
      ]
     },
     "execution_count": 37,
     "metadata": {},
     "output_type": "execute_result"
    }
   ],
   "source": [
    "# Survival rates by age category\n",
    "train_age.groupby(['Age_category'])['Survived'].mean()"
   ]
  },
  {
   "cell_type": "code",
   "execution_count": 38,
   "id": "a9a7999f-238a-4812-8b7b-6c33b73c399b",
   "metadata": {},
   "outputs": [
    {
     "data": {
      "text/html": [
       "<div>\n",
       "<style scoped>\n",
       "    .dataframe tbody tr th:only-of-type {\n",
       "        vertical-align: middle;\n",
       "    }\n",
       "\n",
       "    .dataframe tbody tr th {\n",
       "        vertical-align: top;\n",
       "    }\n",
       "\n",
       "    .dataframe thead th {\n",
       "        text-align: right;\n",
       "    }\n",
       "</style>\n",
       "<table border=\"1\" class=\"dataframe\">\n",
       "  <thead>\n",
       "    <tr style=\"text-align: right;\">\n",
       "      <th>Sex</th>\n",
       "      <th>female</th>\n",
       "      <th>male</th>\n",
       "    </tr>\n",
       "    <tr>\n",
       "      <th>Age_category</th>\n",
       "      <th></th>\n",
       "      <th></th>\n",
       "    </tr>\n",
       "  </thead>\n",
       "  <tbody>\n",
       "    <tr>\n",
       "      <th>0</th>\n",
       "      <td>0.617647</td>\n",
       "      <td>0.567568</td>\n",
       "    </tr>\n",
       "    <tr>\n",
       "      <th>1</th>\n",
       "      <td>0.747475</td>\n",
       "      <td>0.149701</td>\n",
       "    </tr>\n",
       "    <tr>\n",
       "      <th>2</th>\n",
       "      <td>0.797753</td>\n",
       "      <td>0.195122</td>\n",
       "    </tr>\n",
       "    <tr>\n",
       "      <th>3</th>\n",
       "      <td>0.794872</td>\n",
       "      <td>0.176471</td>\n",
       "    </tr>\n",
       "  </tbody>\n",
       "</table>\n",
       "</div>"
      ],
      "text/plain": [
       "Sex             female      male\n",
       "Age_category                    \n",
       "0             0.617647  0.567568\n",
       "1             0.747475  0.149701\n",
       "2             0.797753  0.195122\n",
       "3             0.794872  0.176471"
      ]
     },
     "execution_count": 38,
     "metadata": {},
     "output_type": "execute_result"
    }
   ],
   "source": [
    "train_age.groupby(['Age_category', 'Sex'])['Survived'].mean().unstack()\n"
   ]
  },
  {
   "cell_type": "code",
   "execution_count": 39,
   "id": "857f028a-0295-4fd0-acd6-d1a07e283fab",
   "metadata": {},
   "outputs": [
    {
     "data": {
      "image/png": "[encoded data removed]",
      "text/plain": [
       "<Figure size 640x480 with 1 Axes>"
      ]
     },
     "metadata": {},
     "output_type": "display_data"
    }
   ],
   "source": [
    "train_age.groupby(['Age_category', 'Sex'])['Survived'].mean().unstack().plot.bar(\n",
    "color = ['purple', 'blue'])\n",
    "plt.title('Survival Rate by Age Category and Gender')\n",
    "plt.yticks(ticks=np.arange(0,1.1,0.1), labels=np.arange(0,110,10))\n",
    "plt.ylabel('Percent')\n",
    "plt.show()"
   ]
  },
  {
   "cell_type": "code",
   "execution_count": 40,
   "id": "866bb23d-fb51-4f07-a5cf-f1b962f21b25",
   "metadata": {},
   "outputs": [],
   "source": [
    "alldata = pd.concat([alldata, train_age.Age_category], axis = 1)\n"
   ]
  },
  {
   "cell_type": "code",
   "execution_count": 41,
   "id": "e3fd27cb-831d-421c-a44d-f1aee302f6e0",
   "metadata": {},
   "outputs": [],
   "source": [
    "alldata.drop(['PassengerId', 'Cabin', 'Age'], axis = 1, inplace = True)\n"
   ]
  },
  {
   "cell_type": "code",
   "execution_count": 42,
   "id": "9a8d5928-6a92-41e0-99a1-8480b536b72b",
   "metadata": {},
   "outputs": [
    {
     "name": "stdout",
     "output_type": "stream",
     "text": [
      "<class 'pandas.core.frame.DataFrame'>\n",
      "RangeIndex: 1309 entries, 0 to 1308\n",
      "Data columns (total 16 columns):\n",
      " #   Column              Non-Null Count  Dtype  \n",
      "---  ------              --------------  -----  \n",
      " 0   Survived            891 non-null    float64\n",
      " 1   Pclass              1309 non-null   int64  \n",
      " 2   Sex                 1309 non-null   object \n",
      " 3   SibSp               1309 non-null   int64  \n",
      " 4   Parch               1309 non-null   int64  \n",
      " 5   Embarked            1307 non-null   object \n",
      " 6   title               1309 non-null   object \n",
      " 7   in_WCF              1309 non-null   float64\n",
      " 8   WCF_Died            1309 non-null   float64\n",
      " 9   WCF_Survived        1309 non-null   float64\n",
      " 10  family_size         1309 non-null   int64  \n",
      " 11  ticket_group_count  1309 non-null   int64  \n",
      " 12  group_size          1309 non-null   int64  \n",
      " 13  is_alone            1309 non-null   int64  \n",
      " 14  fare_pp             1309 non-null   float64\n",
      " 15  Age_category        1046 non-null   float64\n",
      "dtypes: float64(6), int64(7), object(3)\n",
      "memory usage: 163.8+ KB\n"
     ]
    }
   ],
   "source": [
    "alldata.info()"
   ]
  },
  {
   "cell_type": "code",
   "execution_count": 43,
   "id": "9ada84f0-1b92-4479-b04e-7e94c9419fc5",
   "metadata": {},
   "outputs": [
    {
     "data": {
      "text/html": [
       "<div>\n",
       "<style scoped>\n",
       "    .dataframe tbody tr th:only-of-type {\n",
       "        vertical-align: middle;\n",
       "    }\n",
       "\n",
       "    .dataframe tbody tr th {\n",
       "        vertical-align: top;\n",
       "    }\n",
       "\n",
       "    .dataframe thead th {\n",
       "        text-align: right;\n",
       "    }\n",
       "</style>\n",
       "<table border=\"1\" class=\"dataframe\">\n",
       "  <thead>\n",
       "    <tr style=\"text-align: right;\">\n",
       "      <th></th>\n",
       "      <th>Survived</th>\n",
       "      <th>Pclass</th>\n",
       "      <th>Sex</th>\n",
       "      <th>SibSp</th>\n",
       "      <th>Parch</th>\n",
       "      <th>Embarked</th>\n",
       "      <th>title</th>\n",
       "      <th>in_WCF</th>\n",
       "      <th>WCF_Died</th>\n",
       "      <th>WCF_Survived</th>\n",
       "      <th>family_size</th>\n",
       "      <th>ticket_group_count</th>\n",
       "      <th>group_size</th>\n",
       "      <th>is_alone</th>\n",
       "      <th>fare_pp</th>\n",
       "      <th>Age_category</th>\n",
       "    </tr>\n",
       "  </thead>\n",
       "  <tbody>\n",
       "    <tr>\n",
       "      <th>61</th>\n",
       "      <td>1.0</td>\n",
       "      <td>1</td>\n",
       "      <td>female</td>\n",
       "      <td>0</td>\n",
       "      <td>0</td>\n",
       "      <td>NaN</td>\n",
       "      <td>Miss</td>\n",
       "      <td>0.0</td>\n",
       "      <td>0.0</td>\n",
       "      <td>0.0</td>\n",
       "      <td>1</td>\n",
       "      <td>2</td>\n",
       "      <td>2</td>\n",
       "      <td>0</td>\n",
       "      <td>40.0</td>\n",
       "      <td>2.0</td>\n",
       "    </tr>\n",
       "    <tr>\n",
       "      <th>829</th>\n",
       "      <td>1.0</td>\n",
       "      <td>1</td>\n",
       "      <td>female</td>\n",
       "      <td>0</td>\n",
       "      <td>0</td>\n",
       "      <td>NaN</td>\n",
       "      <td>Mrs</td>\n",
       "      <td>0.0</td>\n",
       "      <td>0.0</td>\n",
       "      <td>0.0</td>\n",
       "      <td>1</td>\n",
       "      <td>2</td>\n",
       "      <td>2</td>\n",
       "      <td>0</td>\n",
       "      <td>40.0</td>\n",
       "      <td>3.0</td>\n",
       "    </tr>\n",
       "  </tbody>\n",
       "</table>\n",
       "</div>"
      ],
      "text/plain": [
       "     Survived  Pclass     Sex  SibSp  Parch Embarked title  in_WCF  WCF_Died  \\\n",
       "61        1.0       1  female      0      0      NaN  Miss     0.0       0.0   \n",
       "829       1.0       1  female      0      0      NaN   Mrs     0.0       0.0   \n",
       "\n",
       "     WCF_Survived  family_size  ticket_group_count  group_size  is_alone  \\\n",
       "61            0.0            1                   2           2         0   \n",
       "829           0.0            1                   2           2         0   \n",
       "\n",
       "     fare_pp  Age_category  \n",
       "61      40.0           2.0  \n",
       "829     40.0           3.0  "
      ]
     },
     "execution_count": 43,
     "metadata": {},
     "output_type": "execute_result"
    }
   ],
   "source": [
    "alldata[alldata.Embarked.isnull()]\n"
   ]
  },
  {
   "cell_type": "code",
   "execution_count": 44,
   "id": "e58449f9-aca8-4f6e-b894-9b1e834b0ded",
   "metadata": {},
   "outputs": [
    {
     "data": {
      "text/plain": [
       "S    914\n",
       "C    270\n",
       "Q    123\n",
       "Name: Embarked, dtype: int64"
      ]
     },
     "execution_count": 44,
     "metadata": {},
     "output_type": "execute_result"
    }
   ],
   "source": [
    "alldata.Embarked.value_counts()"
   ]
  },
  {
   "cell_type": "code",
   "execution_count": 45,
   "id": "f3a99ce0-6625-4ab1-a2c8-0d5ba08b9d19",
   "metadata": {},
   "outputs": [],
   "source": [
    "alldata.loc[alldata.Embarked.isnull(), 'Embarked'] = 'S'\n"
   ]
  },
  {
   "cell_type": "code",
   "execution_count": 46,
   "id": "ce45a813-c198-44ec-8e29-d5c95f7d6d68",
   "metadata": {},
   "outputs": [],
   "source": [
    "preprocessing_dummies = pd.get_dummies(alldata[['Pclass', 'Sex', 'Embarked', 'title']],\n",
    "               columns = ['Pclass', 'Sex', 'Embarked', 'title'],\n",
    "               prefix = ['pclass', 'sex', 'embarked', 'title'],\n",
    "               drop_first= False\n",
    "              )"
   ]
  },
  {
   "cell_type": "code",
   "execution_count": 47,
   "id": "f902af48-bdb6-4e65-b268-fa964f126693",
   "metadata": {},
   "outputs": [],
   "source": [
    "alldata = pd.concat([alldata, preprocessing_dummies], axis = 1)\n"
   ]
  },
  {
   "cell_type": "code",
   "execution_count": 48,
   "id": "ad826817-c2ba-4963-91c6-6273132d6366",
   "metadata": {},
   "outputs": [],
   "source": [
    "alldata.drop(['Pclass', 'Sex', 'Embarked', 'title'], axis = 1, inplace = True)\n"
   ]
  },
  {
   "cell_type": "code",
   "execution_count": 49,
   "id": "7582f2d4-176d-4099-ba81-f44f48395fe0",
   "metadata": {},
   "outputs": [],
   "source": [
    "X = alldata.loc[alldata.Age_category.notnull(), ['SibSp', 'Parch', 'in_WCF', 'WCF_Died', 'WCF_Survived',\n",
    "       'family_size', 'ticket_group_count', 'group_size', 'is_alone',\n",
    "       'fare_pp', 'pclass_1', 'pclass_2', 'pclass_3',\n",
    "       'sex_female', 'sex_male', 'embarked_C', 'embarked_Q', 'embarked_S',\n",
    "       'title_Master', 'title_Miss', 'title_Mr', 'title_Mrs', 'title_rare']].copy()\n",
    "y = alldata.loc[alldata.Age_category.notnull(), 'Age_category'].copy()"
   ]
  },
  {
   "cell_type": "code",
   "execution_count": 50,
   "id": "94a9a5ed-9aea-4f47-ae1d-b59a107807e0",
   "metadata": {},
   "outputs": [],
   "source": [
    "scaler = StandardScaler()\n",
    "fare_pp_sc_X = pd.DataFrame(scaler.fit_transform(X[['fare_pp']]), columns=['fare_pp_sc'], index = X.index)\n",
    "X = pd.concat([X, fare_pp_sc_X], axis = 1).drop('fare_pp', axis=1)"
   ]
  },
  {
   "cell_type": "code",
   "execution_count": 51,
   "id": "aa925f5c-fb46-475b-9ad7-6e364bb5d4a5",
   "metadata": {},
   "outputs": [],
   "source": [
    "# Testing multiple model to impute age\n",
    "models = {\n",
    "    'Logistic Regression': LogisticRegression(max_iter = 1000, random_state = 41),\n",
    "    'Random Forest Classifier': RandomForestClassifier(random_state = 41),\n",
    "    'Perceptron': Perceptron(random_state = 41),\n",
    "    'SGD Classifier': SGDClassifier(random_state = 41),\n",
    "    'Decision Tree Classifier': DecisionTreeClassifier(random_state = 41),\n",
    "    'K-Nearest Neighbors Classifier': KNeighborsClassifier(),\n",
    "    'Support Vector Machines (SVC)': SVC(random_state = 41),\n",
    "    'Gaussian Naive Bayes': GaussianNB(),\n",
    "    'Bagging Classifier' : BaggingClassifier(random_state = 41),\n",
    "    \"Gradient Boosting\": GradientBoostingClassifier(random_state=41),\n",
    "    'XGBC' : XGBClassifier(random_state = 41),\n",
    "    'Hist Gradient Boosting Classifier' : HistGradientBoostingClassifier(random_state = 41),\n",
    "    'LGBM' : LGBMClassifier(random_state = 41),\n",
    "    'ADABoost' : AdaBoostClassifier(random_state=41),\n",
    "    'ExtraTreesClassifier' : ExtraTreesClassifier(random_state = 41),\n",
    "    'RidgeClassifier' : RidgeClassifier(random_state = 41)\n",
    "}"
   ]
  },
  {
   "cell_type": "code",
   "execution_count": 52,
   "id": "cac420e9-32a6-4a2b-9b57-2ee15d692366",
   "metadata": {},
   "outputs": [
    {
     "name": "stdout",
     "output_type": "stream",
     "text": [
      "Using model Logistic Regression Average CV Accuracy Score is: 53.91% and the STD is: 5.03%\n",
      "Using model Random Forest Classifier Average CV Accuracy Score is: 54.70% and the STD is: 6.56%\n",
      "Using model Perceptron Average CV Accuracy Score is: 44.85% and the STD is: 7.44%\n",
      "Using model SGD Classifier Average CV Accuracy Score is: 45.62% and the STD is: 9.37%\n",
      "Using model Decision Tree Classifier Average CV Accuracy Score is: 54.22% and the STD is: 7.33%\n",
      "Using model K-Nearest Neighbors Classifier Average CV Accuracy Score is: 51.85% and the STD is: 5.87%\n",
      "Using model Support Vector Machines (SVC) Average CV Accuracy Score is: 57.25% and the STD is: 6.15%\n",
      "Using model Gaussian Naive Bayes Average CV Accuracy Score is: 44.34% and the STD is: 4.74%\n",
      "Using model Bagging Classifier Average CV Accuracy Score is: 53.26% and the STD is: 5.97%\n",
      "Using model Gradient Boosting Average CV Accuracy Score is: 57.55% and the STD is: 6.61%\n",
      "Using model XGBC Average CV Accuracy Score is: 57.28% and the STD is: 5.86%\n",
      "Using model Hist Gradient Boosting Classifier Average CV Accuracy Score is: 57.28% and the STD is: 6.24%\n",
      "Using model LGBM Average CV Accuracy Score is: 57.17% and the STD is: 5.88%\n",
      "Using model ADABoost Average CV Accuracy Score is: 38.98% and the STD is: 4.90%\n",
      "Using model ExtraTreesClassifier Average CV Accuracy Score is: 54.13% and the STD is: 8.15%\n",
      "Using model RidgeClassifier Average CV Accuracy Score is: 52.00% and the STD is: 5.87%\n"
     ]
    }
   ],
   "source": [
    "scores = {}\n",
    "kf = KFold(n_splits=20, random_state=41, shuffle=True)\n",
    "for name, model in models.items():\n",
    "    cv = cross_val_score(model, X, y, cv = kf)\n",
    "    scores[name] = cv\n",
    "    print(f\"Using model {name} Average CV Accuracy Score is: {np.mean(scores[name])*100:.2f}% and the STD is: {np.std(scores[name])*100:.2f}%\")"
   ]
  },
  {
   "cell_type": "code",
   "execution_count": 53,
   "id": "f6728844-b113-4408-b05e-15de705f008c",
   "metadata": {},
   "outputs": [
    {
     "data": {
      "text/html": [
       "<style>#sk-container-id-1 {color: black;background-color: white;}#sk-container-id-1 pre{padding: 0;}#sk-container-id-1 div.sk-toggleable {background-color: white;}#sk-container-id-1 label.sk-toggleable__label {cursor: pointer;display: block;width: 100%;margin-bottom: 0;padding: 0.3em;box-sizing: border-box;text-align: center;}#sk-container-id-1 label.sk-toggleable__label-arrow:before {content: \"▸\";float: left;margin-right: 0.25em;color: #696969;}#sk-container-id-1 label.sk-toggleable__label-arrow:hover:before {color: black;}#sk-container-id-1 div.sk-estimator:hover label.sk-toggleable__label-arrow:before {color: black;}#sk-container-id-1 div.sk-toggleable__content {max-height: 0;max-width: 0;overflow: hidden;text-align: left;background-color: #f0f8ff;}#sk-container-id-1 div.sk-toggleable__content pre {margin: 0.2em;color: black;border-radius: 0.25em;background-color: #f0f8ff;}#sk-container-id-1 input.sk-toggleable__control:checked~div.sk-toggleable__content {max-height: 200px;max-width: 100%;overflow: auto;}#sk-container-id-1 input.sk-toggleable__control:checked~label.sk-toggleable__label-arrow:before {content: \"▾\";}#sk-container-id-1 div.sk-estimator input.sk-toggleable__control:checked~label.sk-toggleable__label {background-color: #d4ebff;}#sk-container-id-1 div.sk-label input.sk-toggleable__control:checked~label.sk-toggleable__label {background-color: #d4ebff;}#sk-container-id-1 input.sk-hidden--visually {border: 0;clip: rect(1px 1px 1px 1px);clip: rect(1px, 1px, 1px, 1px);height: 1px;margin: -1px;overflow: hidden;padding: 0;position: absolute;width: 1px;}#sk-container-id-1 div.sk-estimator {font-family: monospace;background-color: #f0f8ff;border: 1px dotted black;border-radius: 0.25em;box-sizing: border-box;margin-bottom: 0.5em;}#sk-container-id-1 div.sk-estimator:hover {background-color: #d4ebff;}#sk-container-id-1 div.sk-parallel-item::after {content: \"\";width: 100%;border-bottom: 1px solid gray;flex-grow: 1;}#sk-container-id-1 div.sk-label:hover label.sk-toggleable__label {background-color: #d4ebff;}#sk-container-id-1 div.sk-serial::before {content: \"\";position: absolute;border-left: 1px solid gray;box-sizing: border-box;top: 0;bottom: 0;left: 50%;z-index: 0;}#sk-container-id-1 div.sk-serial {display: flex;flex-direction: column;align-items: center;background-color: white;padding-right: 0.2em;padding-left: 0.2em;position: relative;}#sk-container-id-1 div.sk-item {position: relative;z-index: 1;}#sk-container-id-1 div.sk-parallel {display: flex;align-items: stretch;justify-content: center;background-color: white;position: relative;}#sk-container-id-1 div.sk-item::before, #sk-container-id-1 div.sk-parallel-item::before {content: \"\";position: absolute;border-left: 1px solid gray;box-sizing: border-box;top: 0;bottom: 0;left: 50%;z-index: -1;}#sk-container-id-1 div.sk-parallel-item {display: flex;flex-direction: column;z-index: 1;position: relative;background-color: white;}#sk-container-id-1 div.sk-parallel-item:first-child::after {align-self: flex-end;width: 50%;}#sk-container-id-1 div.sk-parallel-item:last-child::after {align-self: flex-start;width: 50%;}#sk-container-id-1 div.sk-parallel-item:only-child::after {width: 0;}#sk-container-id-1 div.sk-dashed-wrapped {border: 1px dashed gray;margin: 0 0.4em 0.5em 0.4em;box-sizing: border-box;padding-bottom: 0.4em;background-color: white;}#sk-container-id-1 div.sk-label label {font-family: monospace;font-weight: bold;display: inline-block;line-height: 1.2em;}#sk-container-id-1 div.sk-label-container {text-align: center;}#sk-container-id-1 div.sk-container {/* jupyter's `normalize.less` sets `[hidden] { display: none; }` but bootstrap.min.css set `[hidden] { display: none !important; }` so we also need the `!important` here to be able to override the default hidden behavior on the sphinx rendered scikit-learn.org. See: https://github.com/scikit-learn/scikit-learn/issues/21755 */display: inline-block !important;position: relative;}#sk-container-id-1 div.sk-text-repr-fallback {display: none;}</style><div id=\"sk-container-id-1\" class=\"sk-top-container\"><div class=\"sk-text-repr-fallback\"><pre>SVC(random_state=41)</pre><b>In a Jupyter environment, please rerun this cell to show the HTML representation or trust the notebook. <br />On GitHub, the HTML representation is unable to render, please try loading this page with nbviewer.org.</b></div><div class=\"sk-container\" hidden><div class=\"sk-item\"><div class=\"sk-estimator sk-toggleable\"><input class=\"sk-toggleable__control sk-hidden--visually\" id=\"sk-estimator-id-1\" type=\"checkbox\" checked><label for=\"sk-estimator-id-1\" class=\"sk-toggleable__label sk-toggleable__label-arrow\">SVC</label><div class=\"sk-toggleable__content\"><pre>SVC(random_state=41)</pre></div></div></div></div></div>"
      ],
      "text/plain": [
       "SVC(random_state=41)"
      ]
     },
     "execution_count": 53,
     "metadata": {},
     "output_type": "execute_result"
    }
   ],
   "source": [
    "# Fiting GBC on  X_train_a\n",
    "svc = SVC(random_state = 41)\n",
    "svc.fit(X, y)"
   ]
  },
  {
   "cell_type": "code",
   "execution_count": 54,
   "id": "6f45f784-6a02-48fe-a585-eca5475e7f28",
   "metadata": {},
   "outputs": [],
   "source": [
    "X_test_cat_age_imp =  alldata.loc[alldata.Age_category.isna(), ['SibSp', 'Parch', 'in_WCF', 'WCF_Died', 'WCF_Survived',\n",
    "       'family_size', 'ticket_group_count', 'group_size', 'is_alone',\n",
    "       'fare_pp', 'pclass_1', 'pclass_2', 'pclass_3',\n",
    "       'sex_female', 'sex_male', 'embarked_C', 'embarked_Q', 'embarked_S',\n",
    "       'title_Master', 'title_Miss', 'title_Mr', 'title_Mrs', 'title_rare']]\n",
    "# scaling fare per passenger X_test_imputation\n",
    "fare_pp_sc_test_imputation = pd.DataFrame(scaler.transform(X_test_cat_age_imp[['fare_pp']]), columns =['fare_pp_sc'], index = X_test_cat_age_imp.index)\n",
    "X_test_cat_age_imp = pd.concat([X_test_cat_age_imp, fare_pp_sc_test_imputation], axis = 1).drop('fare_pp', axis=1)"
   ]
  },
  {
   "cell_type": "code",
   "execution_count": 56,
   "id": "71faa174-ac4c-4bbb-ad7e-f7aaa5a298a1",
   "metadata": {},
   "outputs": [],
   "source": [
    "imputation_cat_age = svc.predict(X_test_cat_age_imp)\n"
   ]
  },
  {
   "cell_type": "code",
   "execution_count": 57,
   "id": "664ca490-8f18-467d-8b20-f08fa2b8aaa1",
   "metadata": {},
   "outputs": [],
   "source": [
    "alldata.loc[alldata.Age_category.isnull(), 'Age_category'] = imputation_cat_age\n"
   ]
  },
  {
   "cell_type": "code",
   "execution_count": 58,
   "id": "cabff58b-b372-40e9-b80f-a135c8730fb9",
   "metadata": {},
   "outputs": [
    {
     "name": "stdout",
     "output_type": "stream",
     "text": [
      "<class 'pandas.core.frame.DataFrame'>\n",
      "RangeIndex: 1309 entries, 0 to 1308\n",
      "Data columns (total 25 columns):\n",
      " #   Column              Non-Null Count  Dtype  \n",
      "---  ------              --------------  -----  \n",
      " 0   Survived            891 non-null    float64\n",
      " 1   SibSp               1309 non-null   int64  \n",
      " 2   Parch               1309 non-null   int64  \n",
      " 3   in_WCF              1309 non-null   float64\n",
      " 4   WCF_Died            1309 non-null   float64\n",
      " 5   WCF_Survived        1309 non-null   float64\n",
      " 6   family_size         1309 non-null   int64  \n",
      " 7   ticket_group_count  1309 non-null   int64  \n",
      " 8   group_size          1309 non-null   int64  \n",
      " 9   is_alone            1309 non-null   int64  \n",
      " 10  fare_pp             1309 non-null   float64\n",
      " 11  Age_category        1309 non-null   float64\n",
      " 12  pclass_1            1309 non-null   uint8  \n",
      " 13  pclass_2            1309 non-null   uint8  \n",
      " 14  pclass_3            1309 non-null   uint8  \n",
      " 15  sex_female          1309 non-null   uint8  \n",
      " 16  sex_male            1309 non-null   uint8  \n",
      " 17  embarked_C          1309 non-null   uint8  \n",
      " 18  embarked_Q          1309 non-null   uint8  \n",
      " 19  embarked_S          1309 non-null   uint8  \n",
      " 20  title_Master        1309 non-null   uint8  \n",
      " 21  title_Miss          1309 non-null   uint8  \n",
      " 22  title_Mr            1309 non-null   uint8  \n",
      " 23  title_Mrs           1309 non-null   uint8  \n",
      " 24  title_rare          1309 non-null   uint8  \n",
      "dtypes: float64(6), int64(6), uint8(13)\n",
      "memory usage: 139.5 KB\n"
     ]
    }
   ],
   "source": [
    "alldata.info()\n"
   ]
  },
  {
   "cell_type": "code",
   "execution_count": 59,
   "id": "a1ffd76d-b295-4499-bdd1-4c8f4fae6843",
   "metadata": {},
   "outputs": [],
   "source": [
    "train_clean = alldata.loc[alldata.Survived.notnull()].copy()\n"
   ]
  },
  {
   "cell_type": "code",
   "execution_count": 60,
   "id": "d616aced-a6fd-411d-b8d1-5f94d68183a3",
   "metadata": {},
   "outputs": [],
   "source": [
    "test_clean = alldata.loc[alldata.Survived.isnull()].drop('Survived', axis = 1).copy()\n"
   ]
  },
  {
   "cell_type": "code",
   "execution_count": 61,
   "id": "49a9a076-db6b-4294-863d-39516755e777",
   "metadata": {},
   "outputs": [],
   "source": [
    "# Split Independent and dependent variables from train_clean\n",
    "X = train_clean.drop('Survived', axis = 1)\n",
    "y = train_clean.Survived"
   ]
  },
  {
   "cell_type": "code",
   "execution_count": 62,
   "id": "52d268cb-bcdb-4534-ad25-8a3b332c2e95",
   "metadata": {},
   "outputs": [],
   "source": [
    "scaler = StandardScaler()\n",
    "\n",
    "X_fare_sc = pd.DataFrame(scaler.fit_transform(X[['fare_pp']]), columns=['fare_pp_sc'], index = X.fare_pp.index)\n",
    "test_clean_fare_sc = pd.DataFrame(scaler.transform(test_clean[['fare_pp']]), columns=['fare_pp_sc'], index = test_clean.fare_pp.index)"
   ]
  },
  {
   "cell_type": "code",
   "execution_count": 63,
   "id": "0da8e813-6cec-4659-83b0-f27156276f43",
   "metadata": {},
   "outputs": [],
   "source": [
    "X = pd.concat([X, X_fare_sc], axis = 1).drop('fare_pp', axis = 1)\n",
    "test_clean = pd.concat([test_clean, test_clean_fare_sc], axis = 1).drop('fare_pp', axis = 1)"
   ]
  },
  {
   "cell_type": "code",
   "execution_count": 64,
   "id": "02cbabef-b131-4bff-a693-0e6341eeaff4",
   "metadata": {},
   "outputs": [
    {
     "data": {
      "text/plain": [
       "Index(['SibSp', 'Parch', 'in_WCF', 'WCF_Died', 'WCF_Survived', 'family_size',\n",
       "       'ticket_group_count', 'group_size', 'is_alone', 'Age_category',\n",
       "       'pclass_1', 'pclass_2', 'pclass_3', 'sex_female', 'sex_male',\n",
       "       'embarked_C', 'embarked_Q', 'embarked_S', 'title_Master', 'title_Miss',\n",
       "       'title_Mr', 'title_Mrs', 'title_rare', 'fare_pp_sc'],\n",
       "      dtype='object')"
      ]
     },
     "execution_count": 64,
     "metadata": {},
     "output_type": "execute_result"
    }
   ],
   "source": [
    "X.columns\n"
   ]
  },
  {
   "cell_type": "code",
   "execution_count": 65,
   "id": "e5c4a941-2f49-4c71-93c9-e869bde2c7d9",
   "metadata": {},
   "outputs": [],
   "source": [
    "features = ['in_WCF', 'WCF_Died', 'WCF_Survived', 'family_size', 'group_size', 'is_alone', 'Age_category',\n",
    "       'pclass_1', 'pclass_2', 'pclass_3', 'sex_female', 'sex_male',\n",
    "       'embarked_C', 'embarked_Q', 'embarked_S', 'title_Master', 'title_Miss',\n",
    "       'title_Mr', 'title_Mrs', 'title_rare', 'fare_pp_sc']\n",
    "X = X[features].copy()"
   ]
  },
  {
   "cell_type": "code",
   "execution_count": 66,
   "id": "728ed2cd-6cc2-4c5d-b2da-0aa0b9ead9f5",
   "metadata": {},
   "outputs": [],
   "source": [
    "models = {\n",
    "    'Logistic Regression': LogisticRegression(max_iter = 500, random_state = 41),\n",
    "    'Random Forest Classifier': RandomForestClassifier(random_state = 41),\n",
    "    'Perceptron': Perceptron(random_state = 41),\n",
    "    'SGD Classifier': SGDClassifier(random_state = 41),\n",
    "    'Decision Tree Classifier': DecisionTreeClassifier(random_state = 41),\n",
    "    'K-Nearest Neighbors Classifier': KNeighborsClassifier(),\n",
    "    'Support Vector Machines (SVC)': SVC(random_state = 41),\n",
    "    'Gaussian Naive Bayes': GaussianNB(),\n",
    "    'Bagging Classifier' : BaggingClassifier(random_state = 41),\n",
    "    \"Gradient Boosting\": GradientBoostingClassifier(random_state=41),\n",
    "    'XGBC' : XGBClassifier(random_state = 41),\n",
    "    'Hist Gradient Boosting Classifier' : HistGradientBoostingClassifier(random_state = 41),\n",
    "    'LGBM' : LGBMClassifier(random_state = 41),\n",
    "    'ADABoost' : AdaBoostClassifier(random_state=41),\n",
    "    'ExtraTreesClassifier' : ExtraTreesClassifier(random_state = 41)\n",
    "}"
   ]
  },
  {
   "cell_type": "code",
   "execution_count": 67,
   "id": "0430010f-f57b-42f9-a05a-56060db113fc",
   "metadata": {},
   "outputs": [
    {
     "name": "stdout",
     "output_type": "stream",
     "text": [
      "Using the model Logistic Regression CV Av Accuracy Scores is 85.43% and the std is 5.39%\n",
      "Using the model Random Forest Classifier CV Av Accuracy Scores is 82.74% and the std is 5.66%\n",
      "Using the model Perceptron CV Av Accuracy Scores is 77.90% and the std is 12.62%\n",
      "Using the model SGD Classifier CV Av Accuracy Scores is 82.86% and the std is 7.34%\n",
      "Using the model Decision Tree Classifier CV Av Accuracy Scores is 82.28% and the std is 5.35%\n",
      "Using the model K-Nearest Neighbors Classifier CV Av Accuracy Scores is 83.63% and the std is 5.12%\n",
      "Using the model Support Vector Machines (SVC) CV Av Accuracy Scores is 86.00% and the std is 5.53%\n",
      "Using the model Gaussian Naive Bayes CV Av Accuracy Scores is 84.76% and the std is 5.85%\n",
      "Using the model Bagging Classifier CV Av Accuracy Scores is 84.32% and the std is 5.32%\n",
      "Using the model Gradient Boosting CV Av Accuracy Scores is 86.22% and the std is 4.66%\n",
      "Using the model XGBC CV Av Accuracy Scores is 84.77% and the std is 5.34%\n",
      "Using the model Hist Gradient Boosting Classifier CV Av Accuracy Scores is 84.20% and the std is 4.81%\n",
      "Using the model LGBM CV Av Accuracy Scores is 84.31% and the std is 5.04%\n",
      "Using the model ADABoost CV Av Accuracy Scores is 85.99% and the std is 4.62%\n",
      "Using the model ExtraTreesClassifier CV Av Accuracy Scores is 83.41% and the std is 5.41%\n"
     ]
    }
   ],
   "source": [
    "accuracy_scores = {}\n",
    "\n",
    "skf = StratifiedKFold(n_splits = 20, random_state = 41, shuffle = True)\n",
    "\n",
    "for name, model in models.items():\n",
    "        cv = cross_val_score(model, X, y, cv = skf)\n",
    "        accuracy_scores[name] = cv\n",
    "        print(f\"Using the model {name} CV Av Accuracy Scores is {np.mean(accuracy_scores[name])*100:.2f}% and the std is {np.std(accuracy_scores[name])*100:.2f}%\")"
   ]
  },
  {
   "cell_type": "code",
   "execution_count": 68,
   "id": "554c2253-31c5-42ef-bc12-d82d5d23f8a0",
   "metadata": {},
   "outputs": [],
   "source": [
    "svc = SVC()\n",
    "svc.fit(X, y)\n",
    "y_hat = svc.predict(test_clean[features])\n",
    "pd.DataFrame({\n",
    "     'PassengerId': test.PassengerId,\n",
    "     'Survived' : y_hat.astype(int)\n",
    " }).to_csv('submission-solution-3.csv', index = False)"
   ]
  },
  {
   "cell_type": "code",
   "execution_count": null,
   "id": "44a06132-1470-45b9-980f-c8ff8d283fc7",
   "metadata": {},
   "outputs": [],
   "source": []
  }
 ],
 "metadata": {
  "kernelspec": {
   "display_name": "Python 3 (ipykernel)",
   "language": "python",
   "name": "python3"
  },
  "language_info": {
   "codemirror_mode": {
    "name": "ipython",
    "version": 3
   },
   "file_extension": ".py",
   "mimetype": "text/x-python",
   "name": "python",
   "nbconvert_exporter": "python",
   "pygments_lexer": "ipython3",
   "version": "3.10.8"
  }
 },
 "nbformat": 4,
 "nbformat_minor": 5
}
